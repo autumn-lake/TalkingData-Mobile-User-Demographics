{
 "cells": [
  {
   "cell_type": "code",
   "execution_count": 1,
   "metadata": {
    "collapsed": false
   },
   "outputs": [],
   "source": [
    "import pandas as pd\n",
    "import numpy as np\n",
    "%matplotlib inline\n",
    "#import seaborn as sns\n",
    "import matplotlib.pyplot as plt\n",
    "import os\n",
    "from sklearn.preprocessing import LabelEncoder\n",
    "from scipy.sparse import csr_matrix, hstack\n",
    "from sklearn.linear_model import LogisticRegression\n",
    "from sklearn.cross_validation import StratifiedKFold\n",
    "from sklearn.metrics import log_loss"
   ]
  },
  {
   "cell_type": "code",
   "execution_count": 2,
   "metadata": {
    "collapsed": true
   },
   "outputs": [],
   "source": [
    "datadir = 'input/'\n",
    "gatrain = pd.read_csv(os.path.join(datadir,'gender_age_train.csv'),\n",
    "                      index_col='device_id')\n",
    "gatest = pd.read_csv(os.path.join(datadir,'gender_age_test.csv'),\n",
    "                     index_col = 'device_id')\n",
    "phone = pd.read_csv(os.path.join(datadir,'phone_brand_device_model.csv'))\n",
    "# Get rid of duplicate device ids in phone\n",
    "phone = phone.drop_duplicates('device_id',keep='first').set_index('device_id')\n",
    "events = pd.read_csv(os.path.join(datadir,'events.csv'),\n",
    "                     parse_dates=['timestamp'], index_col='event_id')\n",
    "appevents = pd.read_csv(os.path.join(datadir,'app_events.csv'), \n",
    "                        usecols=['event_id','app_id','is_active'],\n",
    "                        dtype={'is_active':bool})\n",
    "applabels = pd.read_csv(os.path.join(datadir,'app_labels.csv'))\n",
    "label_cat = pd.read_csv(os.path.join(datadir,'label_categories.csv'))"
   ]
  },
  {
   "cell_type": "code",
   "execution_count": 3,
   "metadata": {
    "collapsed": false
   },
   "outputs": [],
   "source": [
    "a = appevents.merge(events[['device_id','timestamp','longitude','latitude']], how='left',left_on='event_id',right_index=True)"
   ]
  },
  {
   "cell_type": "code",
   "execution_count": 4,
   "metadata": {
    "collapsed": false
   },
   "outputs": [
    {
     "data": {
      "text/plain": [
       "event_id     0\n",
       "app_id       0\n",
       "is_active    0\n",
       "device_id    0\n",
       "timestamp    0\n",
       "longitude    0\n",
       "latitude     0\n",
       "dtype: int64"
      ]
     },
     "execution_count": 4,
     "metadata": {},
     "output_type": "execute_result"
    }
   ],
   "source": [
    "a.isnull().sum()"
   ]
  },
  {
   "cell_type": "code",
   "execution_count": 5,
   "metadata": {
    "collapsed": false
   },
   "outputs": [
    {
     "data": {
      "text/html": [
       "<div>\n",
       "<table border=\"1\" class=\"dataframe\">\n",
       "  <thead>\n",
       "    <tr style=\"text-align: right;\">\n",
       "      <th></th>\n",
       "      <th>event_id</th>\n",
       "      <th>app_id</th>\n",
       "      <th>is_active</th>\n",
       "      <th>device_id</th>\n",
       "      <th>timestamp</th>\n",
       "      <th>longitude</th>\n",
       "      <th>latitude</th>\n",
       "    </tr>\n",
       "  </thead>\n",
       "  <tbody>\n",
       "    <tr>\n",
       "      <th>0</th>\n",
       "      <td>2</td>\n",
       "      <td>5927333115845830913</td>\n",
       "      <td>True</td>\n",
       "      <td>-6401643145415154744</td>\n",
       "      <td>2016-05-01 00:54:12</td>\n",
       "      <td>103.65</td>\n",
       "      <td>30.97</td>\n",
       "    </tr>\n",
       "    <tr>\n",
       "      <th>1</th>\n",
       "      <td>2</td>\n",
       "      <td>-5720078949152207372</td>\n",
       "      <td>False</td>\n",
       "      <td>-6401643145415154744</td>\n",
       "      <td>2016-05-01 00:54:12</td>\n",
       "      <td>103.65</td>\n",
       "      <td>30.97</td>\n",
       "    </tr>\n",
       "    <tr>\n",
       "      <th>2</th>\n",
       "      <td>2</td>\n",
       "      <td>-1633887856876571208</td>\n",
       "      <td>False</td>\n",
       "      <td>-6401643145415154744</td>\n",
       "      <td>2016-05-01 00:54:12</td>\n",
       "      <td>103.65</td>\n",
       "      <td>30.97</td>\n",
       "    </tr>\n",
       "    <tr>\n",
       "      <th>3</th>\n",
       "      <td>2</td>\n",
       "      <td>-653184325010919369</td>\n",
       "      <td>True</td>\n",
       "      <td>-6401643145415154744</td>\n",
       "      <td>2016-05-01 00:54:12</td>\n",
       "      <td>103.65</td>\n",
       "      <td>30.97</td>\n",
       "    </tr>\n",
       "    <tr>\n",
       "      <th>4</th>\n",
       "      <td>2</td>\n",
       "      <td>8693964245073640147</td>\n",
       "      <td>True</td>\n",
       "      <td>-6401643145415154744</td>\n",
       "      <td>2016-05-01 00:54:12</td>\n",
       "      <td>103.65</td>\n",
       "      <td>30.97</td>\n",
       "    </tr>\n",
       "  </tbody>\n",
       "</table>\n",
       "</div>"
      ],
      "text/plain": [
       "   event_id               app_id is_active            device_id  \\\n",
       "0         2  5927333115845830913      True -6401643145415154744   \n",
       "1         2 -5720078949152207372     False -6401643145415154744   \n",
       "2         2 -1633887856876571208     False -6401643145415154744   \n",
       "3         2  -653184325010919369      True -6401643145415154744   \n",
       "4         2  8693964245073640147      True -6401643145415154744   \n",
       "\n",
       "            timestamp  longitude  latitude  \n",
       "0 2016-05-01 00:54:12     103.65     30.97  \n",
       "1 2016-05-01 00:54:12     103.65     30.97  \n",
       "2 2016-05-01 00:54:12     103.65     30.97  \n",
       "3 2016-05-01 00:54:12     103.65     30.97  \n",
       "4 2016-05-01 00:54:12     103.65     30.97  "
      ]
     },
     "execution_count": 5,
     "metadata": {},
     "output_type": "execute_result"
    }
   ],
   "source": [
    "a.head()"
   ]
  },
  {
   "cell_type": "code",
   "execution_count": 6,
   "metadata": {
    "collapsed": false
   },
   "outputs": [],
   "source": [
    "labelsss = applabels.merge(label_cat,how='left',on='label_id')"
   ]
  },
  {
   "cell_type": "code",
   "execution_count": 7,
   "metadata": {
    "collapsed": false
   },
   "outputs": [
    {
     "data": {
      "text/html": [
       "<div>\n",
       "<table border=\"1\" class=\"dataframe\">\n",
       "  <thead>\n",
       "    <tr style=\"text-align: right;\">\n",
       "      <th></th>\n",
       "      <th>app_id</th>\n",
       "      <th>label_id</th>\n",
       "      <th>category</th>\n",
       "    </tr>\n",
       "  </thead>\n",
       "  <tbody>\n",
       "    <tr>\n",
       "      <th>0</th>\n",
       "      <td>7324884708820027918</td>\n",
       "      <td>251</td>\n",
       "      <td>Finance</td>\n",
       "    </tr>\n",
       "    <tr>\n",
       "      <th>1</th>\n",
       "      <td>-4494216993218550286</td>\n",
       "      <td>251</td>\n",
       "      <td>Finance</td>\n",
       "    </tr>\n",
       "    <tr>\n",
       "      <th>2</th>\n",
       "      <td>6058196446775239644</td>\n",
       "      <td>406</td>\n",
       "      <td>unknown</td>\n",
       "    </tr>\n",
       "    <tr>\n",
       "      <th>3</th>\n",
       "      <td>6058196446775239644</td>\n",
       "      <td>407</td>\n",
       "      <td>DS_P2P net loan</td>\n",
       "    </tr>\n",
       "    <tr>\n",
       "      <th>4</th>\n",
       "      <td>8694625920731541625</td>\n",
       "      <td>406</td>\n",
       "      <td>unknown</td>\n",
       "    </tr>\n",
       "  </tbody>\n",
       "</table>\n",
       "</div>"
      ],
      "text/plain": [
       "                app_id  label_id         category\n",
       "0  7324884708820027918       251          Finance\n",
       "1 -4494216993218550286       251          Finance\n",
       "2  6058196446775239644       406          unknown\n",
       "3  6058196446775239644       407  DS_P2P net loan\n",
       "4  8694625920731541625       406          unknown"
      ]
     },
     "execution_count": 7,
     "metadata": {},
     "output_type": "execute_result"
    }
   ],
   "source": [
    "labelsss.head()"
   ]
  },
  {
   "cell_type": "code",
   "execution_count": 8,
   "metadata": {
    "collapsed": false
   },
   "outputs": [],
   "source": [
    "id_grp = pd.DataFrame(labelsss.groupby(['app_id'])['label_id'].unique())"
   ]
  },
  {
   "cell_type": "code",
   "execution_count": 9,
   "metadata": {
    "collapsed": true
   },
   "outputs": [],
   "source": [
    "category_grp = pd.DataFrame(labelsss.groupby(['app_id'])['category'].unique())"
   ]
  },
  {
   "cell_type": "code",
   "execution_count": 10,
   "metadata": {
    "collapsed": false
   },
   "outputs": [
    {
     "data": {
      "text/html": [
       "<div>\n",
       "<table border=\"1\" class=\"dataframe\">\n",
       "  <thead>\n",
       "    <tr style=\"text-align: right;\">\n",
       "      <th></th>\n",
       "      <th>label_id</th>\n",
       "    </tr>\n",
       "    <tr>\n",
       "      <th>app_id</th>\n",
       "      <th></th>\n",
       "    </tr>\n",
       "  </thead>\n",
       "  <tbody>\n",
       "    <tr>\n",
       "      <th>-9223281467940916832</th>\n",
       "      <td>[796, 795, 794, 405]</td>\n",
       "    </tr>\n",
       "    <tr>\n",
       "      <th>-9222877069545393219</th>\n",
       "      <td>[135]</td>\n",
       "    </tr>\n",
       "    <tr>\n",
       "      <th>-9222785464897897681</th>\n",
       "      <td>[812, 795, 794, 405]</td>\n",
       "    </tr>\n",
       "    <tr>\n",
       "      <th>-9222198347540756780</th>\n",
       "      <td>[810, 795, 794, 405]</td>\n",
       "    </tr>\n",
       "    <tr>\n",
       "      <th>-9221970424041518544</th>\n",
       "      <td>[714, 704, 548, 813, 795, 794, 405]</td>\n",
       "    </tr>\n",
       "  </tbody>\n",
       "</table>\n",
       "</div>"
      ],
      "text/plain": [
       "                                                 label_id\n",
       "app_id                                                   \n",
       "-9223281467940916832                 [796, 795, 794, 405]\n",
       "-9222877069545393219                                [135]\n",
       "-9222785464897897681                 [812, 795, 794, 405]\n",
       "-9222198347540756780                 [810, 795, 794, 405]\n",
       "-9221970424041518544  [714, 704, 548, 813, 795, 794, 405]"
      ]
     },
     "execution_count": 10,
     "metadata": {},
     "output_type": "execute_result"
    }
   ],
   "source": [
    "id_grp.head()"
   ]
  },
  {
   "cell_type": "code",
   "execution_count": 11,
   "metadata": {
    "collapsed": false
   },
   "outputs": [
    {
     "data": {
      "text/html": [
       "<div>\n",
       "<table border=\"1\" class=\"dataframe\">\n",
       "  <thead>\n",
       "    <tr style=\"text-align: right;\">\n",
       "      <th></th>\n",
       "      <th>category</th>\n",
       "    </tr>\n",
       "    <tr>\n",
       "      <th>app_id</th>\n",
       "      <th></th>\n",
       "    </tr>\n",
       "  </thead>\n",
       "  <tbody>\n",
       "    <tr>\n",
       "      <th>-9223281467940916832</th>\n",
       "      <td>[Cards RPG, game, Tencent, Custom label]</td>\n",
       "    </tr>\n",
       "    <tr>\n",
       "      <th>-9222877069545393219</th>\n",
       "      <td>[education outside class]</td>\n",
       "    </tr>\n",
       "    <tr>\n",
       "      <th>-9222785464897897681</th>\n",
       "      <td>[Parkour avoid class, game, Tencent, Custom la...</td>\n",
       "    </tr>\n",
       "    <tr>\n",
       "      <th>-9222198347540756780</th>\n",
       "      <td>[Casual puzzle categories, game, Tencent, Cust...</td>\n",
       "    </tr>\n",
       "    <tr>\n",
       "      <th>-9221970424041518544</th>\n",
       "      <td>[1 free, Property Industry 2.0, Industry tag, ...</td>\n",
       "    </tr>\n",
       "  </tbody>\n",
       "</table>\n",
       "</div>"
      ],
      "text/plain": [
       "                                                               category\n",
       "app_id                                                                 \n",
       "-9223281467940916832           [Cards RPG, game, Tencent, Custom label]\n",
       "-9222877069545393219                          [education outside class]\n",
       "-9222785464897897681  [Parkour avoid class, game, Tencent, Custom la...\n",
       "-9222198347540756780  [Casual puzzle categories, game, Tencent, Cust...\n",
       "-9221970424041518544  [1 free, Property Industry 2.0, Industry tag, ..."
      ]
     },
     "execution_count": 11,
     "metadata": {},
     "output_type": "execute_result"
    }
   ],
   "source": [
    "category_grp.head()"
   ]
  },
  {
   "cell_type": "code",
   "execution_count": 12,
   "metadata": {
    "collapsed": true
   },
   "outputs": [],
   "source": [
    "id_grp['category'] = category_grp['category']"
   ]
  },
  {
   "cell_type": "code",
   "execution_count": 13,
   "metadata": {
    "collapsed": true
   },
   "outputs": [],
   "source": [
    "cnt = pd.DataFrame(labelsss.groupby(['app_id'])['label_id'].agg(['count']))"
   ]
  },
  {
   "cell_type": "code",
   "execution_count": 15,
   "metadata": {
    "collapsed": false
   },
   "outputs": [],
   "source": [
    "id_grp['labels_count'] = cnt['count']"
   ]
  },
  {
   "cell_type": "code",
   "execution_count": 17,
   "metadata": {
    "collapsed": false
   },
   "outputs": [
    {
     "data": {
      "text/html": [
       "<div>\n",
       "<table border=\"1\" class=\"dataframe\">\n",
       "  <thead>\n",
       "    <tr style=\"text-align: right;\">\n",
       "      <th></th>\n",
       "      <th>label_id</th>\n",
       "      <th>category</th>\n",
       "      <th>labels_count</th>\n",
       "    </tr>\n",
       "    <tr>\n",
       "      <th>app_id</th>\n",
       "      <th></th>\n",
       "      <th></th>\n",
       "      <th></th>\n",
       "    </tr>\n",
       "  </thead>\n",
       "  <tbody>\n",
       "    <tr>\n",
       "      <th>-9223281467940916832</th>\n",
       "      <td>[796, 795, 794, 405]</td>\n",
       "      <td>[Cards RPG, game, Tencent, Custom label]</td>\n",
       "      <td>4</td>\n",
       "    </tr>\n",
       "    <tr>\n",
       "      <th>-9222877069545393219</th>\n",
       "      <td>[135]</td>\n",
       "      <td>[education outside class]</td>\n",
       "      <td>1</td>\n",
       "    </tr>\n",
       "    <tr>\n",
       "      <th>-9222785464897897681</th>\n",
       "      <td>[812, 795, 794, 405]</td>\n",
       "      <td>[Parkour avoid class, game, Tencent, Custom la...</td>\n",
       "      <td>4</td>\n",
       "    </tr>\n",
       "    <tr>\n",
       "      <th>-9222198347540756780</th>\n",
       "      <td>[810, 795, 794, 405]</td>\n",
       "      <td>[Casual puzzle categories, game, Tencent, Cust...</td>\n",
       "      <td>4</td>\n",
       "    </tr>\n",
       "    <tr>\n",
       "      <th>-9221970424041518544</th>\n",
       "      <td>[714, 704, 548, 813, 795, 794, 405]</td>\n",
       "      <td>[1 free, Property Industry 2.0, Industry tag, ...</td>\n",
       "      <td>7</td>\n",
       "    </tr>\n",
       "  </tbody>\n",
       "</table>\n",
       "</div>"
      ],
      "text/plain": [
       "                                                 label_id  \\\n",
       "app_id                                                      \n",
       "-9223281467940916832                 [796, 795, 794, 405]   \n",
       "-9222877069545393219                                [135]   \n",
       "-9222785464897897681                 [812, 795, 794, 405]   \n",
       "-9222198347540756780                 [810, 795, 794, 405]   \n",
       "-9221970424041518544  [714, 704, 548, 813, 795, 794, 405]   \n",
       "\n",
       "                                                               category  \\\n",
       "app_id                                                                    \n",
       "-9223281467940916832           [Cards RPG, game, Tencent, Custom label]   \n",
       "-9222877069545393219                          [education outside class]   \n",
       "-9222785464897897681  [Parkour avoid class, game, Tencent, Custom la...   \n",
       "-9222198347540756780  [Casual puzzle categories, game, Tencent, Cust...   \n",
       "-9221970424041518544  [1 free, Property Industry 2.0, Industry tag, ...   \n",
       "\n",
       "                      labels_count  \n",
       "app_id                              \n",
       "-9223281467940916832             4  \n",
       "-9222877069545393219             1  \n",
       "-9222785464897897681             4  \n",
       "-9222198347540756780             4  \n",
       "-9221970424041518544             7  "
      ]
     },
     "execution_count": 17,
     "metadata": {},
     "output_type": "execute_result"
    }
   ],
   "source": [
    "id_grp.head()"
   ]
  },
  {
   "cell_type": "code",
   "execution_count": 18,
   "metadata": {
    "collapsed": false
   },
   "outputs": [
    {
     "data": {
      "text/html": [
       "<div>\n",
       "<table border=\"1\" class=\"dataframe\">\n",
       "  <thead>\n",
       "    <tr style=\"text-align: right;\">\n",
       "      <th></th>\n",
       "      <th>event_id</th>\n",
       "      <th>app_id</th>\n",
       "      <th>is_active</th>\n",
       "      <th>device_id</th>\n",
       "      <th>timestamp</th>\n",
       "      <th>longitude</th>\n",
       "      <th>latitude</th>\n",
       "    </tr>\n",
       "  </thead>\n",
       "  <tbody>\n",
       "    <tr>\n",
       "      <th>0</th>\n",
       "      <td>2</td>\n",
       "      <td>5927333115845830913</td>\n",
       "      <td>True</td>\n",
       "      <td>-6401643145415154744</td>\n",
       "      <td>2016-05-01 00:54:12</td>\n",
       "      <td>103.65</td>\n",
       "      <td>30.97</td>\n",
       "    </tr>\n",
       "    <tr>\n",
       "      <th>1</th>\n",
       "      <td>2</td>\n",
       "      <td>-5720078949152207372</td>\n",
       "      <td>False</td>\n",
       "      <td>-6401643145415154744</td>\n",
       "      <td>2016-05-01 00:54:12</td>\n",
       "      <td>103.65</td>\n",
       "      <td>30.97</td>\n",
       "    </tr>\n",
       "    <tr>\n",
       "      <th>2</th>\n",
       "      <td>2</td>\n",
       "      <td>-1633887856876571208</td>\n",
       "      <td>False</td>\n",
       "      <td>-6401643145415154744</td>\n",
       "      <td>2016-05-01 00:54:12</td>\n",
       "      <td>103.65</td>\n",
       "      <td>30.97</td>\n",
       "    </tr>\n",
       "    <tr>\n",
       "      <th>3</th>\n",
       "      <td>2</td>\n",
       "      <td>-653184325010919369</td>\n",
       "      <td>True</td>\n",
       "      <td>-6401643145415154744</td>\n",
       "      <td>2016-05-01 00:54:12</td>\n",
       "      <td>103.65</td>\n",
       "      <td>30.97</td>\n",
       "    </tr>\n",
       "    <tr>\n",
       "      <th>4</th>\n",
       "      <td>2</td>\n",
       "      <td>8693964245073640147</td>\n",
       "      <td>True</td>\n",
       "      <td>-6401643145415154744</td>\n",
       "      <td>2016-05-01 00:54:12</td>\n",
       "      <td>103.65</td>\n",
       "      <td>30.97</td>\n",
       "    </tr>\n",
       "  </tbody>\n",
       "</table>\n",
       "</div>"
      ],
      "text/plain": [
       "   event_id               app_id is_active            device_id  \\\n",
       "0         2  5927333115845830913      True -6401643145415154744   \n",
       "1         2 -5720078949152207372     False -6401643145415154744   \n",
       "2         2 -1633887856876571208     False -6401643145415154744   \n",
       "3         2  -653184325010919369      True -6401643145415154744   \n",
       "4         2  8693964245073640147      True -6401643145415154744   \n",
       "\n",
       "            timestamp  longitude  latitude  \n",
       "0 2016-05-01 00:54:12     103.65     30.97  \n",
       "1 2016-05-01 00:54:12     103.65     30.97  \n",
       "2 2016-05-01 00:54:12     103.65     30.97  \n",
       "3 2016-05-01 00:54:12     103.65     30.97  \n",
       "4 2016-05-01 00:54:12     103.65     30.97  "
      ]
     },
     "execution_count": 18,
     "metadata": {},
     "output_type": "execute_result"
    }
   ],
   "source": [
    "a.head()"
   ]
  },
  {
   "cell_type": "code",
   "execution_count": 19,
   "metadata": {
    "collapsed": false
   },
   "outputs": [],
   "source": [
    "df_final = a.merge(id_grp[['label_id','category','labels_count']], how='left',left_on='app_id',right_index=True)"
   ]
  },
  {
   "cell_type": "code",
   "execution_count": 20,
   "metadata": {
    "collapsed": false
   },
   "outputs": [
    {
     "data": {
      "text/plain": [
       "(32473067, 10)"
      ]
     },
     "execution_count": 20,
     "metadata": {},
     "output_type": "execute_result"
    }
   ],
   "source": [
    "df_final.shape"
   ]
  },
  {
   "cell_type": "code",
   "execution_count": 21,
   "metadata": {
    "collapsed": false
   },
   "outputs": [
    {
     "data": {
      "text/html": [
       "<div>\n",
       "<table border=\"1\" class=\"dataframe\">\n",
       "  <thead>\n",
       "    <tr style=\"text-align: right;\">\n",
       "      <th></th>\n",
       "      <th>event_id</th>\n",
       "      <th>app_id</th>\n",
       "      <th>is_active</th>\n",
       "      <th>device_id</th>\n",
       "      <th>timestamp</th>\n",
       "      <th>longitude</th>\n",
       "      <th>latitude</th>\n",
       "      <th>label_id</th>\n",
       "      <th>category</th>\n",
       "      <th>labels_count</th>\n",
       "    </tr>\n",
       "  </thead>\n",
       "  <tbody>\n",
       "    <tr>\n",
       "      <th>0</th>\n",
       "      <td>2</td>\n",
       "      <td>5927333115845830913</td>\n",
       "      <td>True</td>\n",
       "      <td>-6401643145415154744</td>\n",
       "      <td>2016-05-01 00:54:12</td>\n",
       "      <td>103.65</td>\n",
       "      <td>30.97</td>\n",
       "      <td>[549, 710, 704, 548, 172]</td>\n",
       "      <td>[Property Industry 1.0, Relatives 1, Property ...</td>\n",
       "      <td>5</td>\n",
       "    </tr>\n",
       "    <tr>\n",
       "      <th>1</th>\n",
       "      <td>2</td>\n",
       "      <td>-5720078949152207372</td>\n",
       "      <td>False</td>\n",
       "      <td>-6401643145415154744</td>\n",
       "      <td>2016-05-01 00:54:12</td>\n",
       "      <td>103.65</td>\n",
       "      <td>30.97</td>\n",
       "      <td>[721, 704, 548, 302, 303]</td>\n",
       "      <td>[Personal Effectiveness 1, Property Industry 2...</td>\n",
       "      <td>5</td>\n",
       "    </tr>\n",
       "    <tr>\n",
       "      <th>2</th>\n",
       "      <td>2</td>\n",
       "      <td>-1633887856876571208</td>\n",
       "      <td>False</td>\n",
       "      <td>-6401643145415154744</td>\n",
       "      <td>2016-05-01 00:54:12</td>\n",
       "      <td>103.65</td>\n",
       "      <td>30.97</td>\n",
       "      <td>[251, 263, 306, 302, 405, 730, 756, 757, 775, ...</td>\n",
       "      <td>[Finance, Debit and credit, unknown, Custom la...</td>\n",
       "      <td>12</td>\n",
       "    </tr>\n",
       "    <tr>\n",
       "      <th>3</th>\n",
       "      <td>2</td>\n",
       "      <td>-653184325010919369</td>\n",
       "      <td>True</td>\n",
       "      <td>-6401643145415154744</td>\n",
       "      <td>2016-05-01 00:54:12</td>\n",
       "      <td>103.65</td>\n",
       "      <td>30.97</td>\n",
       "      <td>[405, 730, 747, 749, 776, 782, 785, 255, 251, ...</td>\n",
       "      <td>[Custom label, And the Church, Insurance, Lowe...</td>\n",
       "      <td>10</td>\n",
       "    </tr>\n",
       "    <tr>\n",
       "      <th>4</th>\n",
       "      <td>2</td>\n",
       "      <td>8693964245073640147</td>\n",
       "      <td>True</td>\n",
       "      <td>-6401643145415154744</td>\n",
       "      <td>2016-05-01 00:54:12</td>\n",
       "      <td>103.65</td>\n",
       "      <td>30.97</td>\n",
       "      <td>[549, 710, 704, 548, 172]</td>\n",
       "      <td>[Property Industry 1.0, Relatives 1, Property ...</td>\n",
       "      <td>5</td>\n",
       "    </tr>\n",
       "  </tbody>\n",
       "</table>\n",
       "</div>"
      ],
      "text/plain": [
       "   event_id               app_id is_active            device_id  \\\n",
       "0         2  5927333115845830913      True -6401643145415154744   \n",
       "1         2 -5720078949152207372     False -6401643145415154744   \n",
       "2         2 -1633887856876571208     False -6401643145415154744   \n",
       "3         2  -653184325010919369      True -6401643145415154744   \n",
       "4         2  8693964245073640147      True -6401643145415154744   \n",
       "\n",
       "            timestamp  longitude  latitude  \\\n",
       "0 2016-05-01 00:54:12     103.65     30.97   \n",
       "1 2016-05-01 00:54:12     103.65     30.97   \n",
       "2 2016-05-01 00:54:12     103.65     30.97   \n",
       "3 2016-05-01 00:54:12     103.65     30.97   \n",
       "4 2016-05-01 00:54:12     103.65     30.97   \n",
       "\n",
       "                                            label_id  \\\n",
       "0                          [549, 710, 704, 548, 172]   \n",
       "1                          [721, 704, 548, 302, 303]   \n",
       "2  [251, 263, 306, 302, 405, 730, 756, 757, 775, ...   \n",
       "3  [405, 730, 747, 749, 776, 782, 785, 255, 251, ...   \n",
       "4                          [549, 710, 704, 548, 172]   \n",
       "\n",
       "                                            category  labels_count  \n",
       "0  [Property Industry 1.0, Relatives 1, Property ...             5  \n",
       "1  [Personal Effectiveness 1, Property Industry 2...             5  \n",
       "2  [Finance, Debit and credit, unknown, Custom la...            12  \n",
       "3  [Custom label, And the Church, Insurance, Lowe...            10  \n",
       "4  [Property Industry 1.0, Relatives 1, Property ...             5  "
      ]
     },
     "execution_count": 21,
     "metadata": {},
     "output_type": "execute_result"
    }
   ],
   "source": [
    "df_final.head()"
   ]
  },
  {
   "cell_type": "code",
   "execution_count": 22,
   "metadata": {
    "collapsed": false
   },
   "outputs": [
    {
     "name": "stderr",
     "output_type": "stream",
     "text": [
      "/home/Lenovo/anaconda3/lib/python3.5/site-packages/pandas/core/generic.py:1101: PerformanceWarning: \n",
      "your performance may suffer as PyTables will pickle object types that it cannot\n",
      "map directly to c-types [inferred_type->mixed,key->block4_values] [items->['label_id', 'category']]\n",
      "\n",
      "  return pytables.to_hdf(path_or_buf, key, self, **kwargs)\n"
     ]
    }
   ],
   "source": [
    "df_final.to_hdf('events_data.hdf5','table')"
   ]
  },
  {
   "cell_type": "code",
   "execution_count": null,
   "metadata": {
    "collapsed": true
   },
   "outputs": [],
   "source": []
  }
 ],
 "metadata": {
  "anaconda-cloud": {},
  "kernelspec": {
   "display_name": "Python [Root]",
   "language": "python",
   "name": "Python [Root]"
  },
  "language_info": {
   "codemirror_mode": {
    "name": "ipython",
    "version": 3
   },
   "file_extension": ".py",
   "mimetype": "text/x-python",
   "name": "python",
   "nbconvert_exporter": "python",
   "pygments_lexer": "ipython3",
   "version": "3.5.2"
  }
 },
 "nbformat": 4,
 "nbformat_minor": 0
}
