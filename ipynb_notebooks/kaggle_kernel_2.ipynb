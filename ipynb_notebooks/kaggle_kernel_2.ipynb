﻿{
 "metadata": {
  "kernelspec": {
   "display_name": "Python 3",
   "language": "python",
   "name": "python3"
  },
  "language_info": {
   "codemirror_mode": {
    "name": "ipython",
    "version": 3
   },
   "file_extension": ".py",
   "mimetype": "text/x-python",
   "name": "python",
   "nbconvert_exporter": "python",
   "pygments_lexer": "ipython3",
   "version": "3.5.2"
  }
 },
 "nbformat": 4,
 "nbformat_minor": 0,
 "cells": [
  {
   "cell_type": "code",
   "source": "import pandas as pd\nimport numpy as np\n%matplotlib inline\nimport seaborn as sns\nimport matplotlib.pyplot as plt\nimport os\nfrom sklearn.preprocessing import LabelEncoder\nfrom scipy.sparse import csr_matrix, hstack\nfrom sklearn.linear_model import LogisticRegression\nfrom sklearn.cross_validation import StratifiedKFold\nfrom sklearn.metrics import log_loss",
   "execution_count": 1,
   "outputs": [
    {
     "name": "stderr",
     "output_type": "stream",
     "text": "/opt/conda/lib/python3.5/site-packages/sklearn/cross_validation.py:43: DeprecationWarning: This module was deprecated in version 0.18 in favor of the model_selection module into which all the refactored classes and functions are moved. Also note that the interface of the new CV iterators are different from that of this module. This module will be removed in 0.20.\n  \"This module will be removed in 0.20.\", DeprecationWarning)\n"
    }
   ],
   "metadata": {}
  },
  {
   "cell_type": "code",
   "source": "datadir = '../input'\ngatrain = pd.read_csv(os.path.join(datadir,'gender_age_train.csv'),\n                      index_col='device_id')\ngatest = pd.read_csv(os.path.join(datadir,'gender_age_test.csv'),\n                     index_col = 'device_id')\nphone = pd.read_csv(os.path.join(datadir,'phone_brand_device_model.csv'))\n# Get rid of duplicate device ids in phone\nphone = phone.drop_duplicates('device_id',keep='first').set_index('device_id')\nevents = pd.read_csv(os.path.join(datadir,'events.csv'),\n                     parse_dates=['timestamp'], index_col='event_id')\nappevents = pd.read_csv(os.path.join(datadir,'app_events.csv'), \n                        usecols=['event_id','app_id','is_active'],\n                        dtype={'is_active':bool})\napplabels = pd.read_csv(os.path.join(datadir,'app_labels.csv'))",
   "execution_count": 2,
   "outputs": [],
   "metadata": {}
  },
  {
   "cell_type": "code",
   "source": "gatrain['trainrow'] = np.arange(gatrain.shape[0])\ngatest['testrow'] = np.arange(gatest.shape[0])",
   "execution_count": 3,
   "outputs": [],
   "metadata": {}
  },
  {
   "cell_type": "code",
   "source": "brandencoder = LabelEncoder().fit(phone.phone_brand)\nphone['brand'] = brandencoder.transform(phone['phone_brand'])\ngatrain['brand'] = phone['brand']\ngatest['brand'] = phone['brand']\nXtr_brand = csr_matrix((np.ones(gatrain.shape[0]), \n                       (gatrain.trainrow, gatrain.brand)))\nXte_brand = csr_matrix((np.ones(gatest.shape[0]), \n                       (gatest.testrow, gatest.brand)))\nprint('Brand features: train shape {}, test shape {}'.format(Xtr_brand.shape, Xte_brand.shape))",
   "execution_count": 4,
   "outputs": [
    {
     "name": "stdout",
     "output_type": "stream",
     "text": "Brand features: train shape (74645, 131), test shape (112071, 131)\n"
    }
   ],
   "metadata": {}
  },
  {
   "cell_type": "code",
   "source": "m = phone.phone_brand.str.cat(phone.device_model)\nmodelencoder = LabelEncoder().fit(m)\nphone['model'] = modelencoder.transform(m)\ngatrain['model'] = phone['model']\ngatest['model'] = phone['model']\nXtr_model = csr_matrix((np.ones(gatrain.shape[0]), \n                       (gatrain.trainrow, gatrain.model)))\nXte_model = csr_matrix((np.ones(gatest.shape[0]), \n                       (gatest.testrow, gatest.model)))\nprint('Model features: train shape {}, test shape {}'.format(Xtr_model.shape, Xte_model.shape))",
   "execution_count": 5,
   "outputs": [
    {
     "name": "stdout",
     "output_type": "stream",
     "text": "Model features: train shape (74645, 1667), test shape (112071, 1667)\n"
    }
   ],
   "metadata": {}
  },
  {
   "cell_type": "code",
   "source": "a = pd.DataFrame(Xtr_brand.toarray())",
   "execution_count": 6,
   "outputs": [],
   "metadata": {}
  },
  {
   "cell_type": "code",
   "source": "a.head()",
   "execution_count": 7,
   "outputs": [
    {
     "data": {
      "text/html": "<div>\n<table border=\"1\" class=\"dataframe\">\n  <thead>\n    <tr style=\"text-align: right;\">\n      <th></th>\n      <th>0</th>\n      <th>1</th>\n      <th>2</th>\n      <th>3</th>\n      <th>4</th>\n      <th>5</th>\n      <th>6</th>\n      <th>7</th>\n      <th>8</th>\n      <th>9</th>\n      <th>...</th>\n      <th>121</th>\n      <th>122</th>\n      <th>123</th>\n      <th>124</th>\n      <th>125</th>\n      <th>126</th>\n      <th>127</th>\n      <th>128</th>\n      <th>129</th>\n      <th>130</th>\n    </tr>\n  </thead>\n  <tbody>\n    <tr>\n      <th>0</th>\n      <td>0.0</td>\n      <td>0.0</td>\n      <td>0.0</td>\n      <td>0.0</td>\n      <td>0.0</td>\n      <td>0.0</td>\n      <td>0.0</td>\n      <td>0.0</td>\n      <td>0.0</td>\n      <td>0.0</td>\n      <td>...</td>\n      <td>0.0</td>\n      <td>0.0</td>\n      <td>0.0</td>\n      <td>0.0</td>\n      <td>0.0</td>\n      <td>0.0</td>\n      <td>0.0</td>\n      <td>0.0</td>\n      <td>0.0</td>\n      <td>0.0</td>\n    </tr>\n    <tr>\n      <th>1</th>\n      <td>0.0</td>\n      <td>0.0</td>\n      <td>0.0</td>\n      <td>0.0</td>\n      <td>0.0</td>\n      <td>0.0</td>\n      <td>0.0</td>\n      <td>0.0</td>\n      <td>0.0</td>\n      <td>0.0</td>\n      <td>...</td>\n      <td>0.0</td>\n      <td>0.0</td>\n      <td>0.0</td>\n      <td>0.0</td>\n      <td>0.0</td>\n      <td>0.0</td>\n      <td>0.0</td>\n      <td>0.0</td>\n      <td>0.0</td>\n      <td>0.0</td>\n    </tr>\n    <tr>\n      <th>2</th>\n      <td>0.0</td>\n      <td>0.0</td>\n      <td>0.0</td>\n      <td>0.0</td>\n      <td>0.0</td>\n      <td>0.0</td>\n      <td>0.0</td>\n      <td>0.0</td>\n      <td>0.0</td>\n      <td>0.0</td>\n      <td>...</td>\n      <td>0.0</td>\n      <td>0.0</td>\n      <td>0.0</td>\n      <td>0.0</td>\n      <td>0.0</td>\n      <td>0.0</td>\n      <td>0.0</td>\n      <td>0.0</td>\n      <td>0.0</td>\n      <td>0.0</td>\n    </tr>\n    <tr>\n      <th>3</th>\n      <td>0.0</td>\n      <td>0.0</td>\n      <td>0.0</td>\n      <td>0.0</td>\n      <td>0.0</td>\n      <td>0.0</td>\n      <td>0.0</td>\n      <td>0.0</td>\n      <td>0.0</td>\n      <td>0.0</td>\n      <td>...</td>\n      <td>0.0</td>\n      <td>0.0</td>\n      <td>0.0</td>\n      <td>0.0</td>\n      <td>0.0</td>\n      <td>0.0</td>\n      <td>0.0</td>\n      <td>0.0</td>\n      <td>0.0</td>\n      <td>0.0</td>\n    </tr>\n    <tr>\n      <th>4</th>\n      <td>0.0</td>\n      <td>0.0</td>\n      <td>0.0</td>\n      <td>0.0</td>\n      <td>0.0</td>\n      <td>0.0</td>\n      <td>0.0</td>\n      <td>0.0</td>\n      <td>0.0</td>\n      <td>0.0</td>\n      <td>...</td>\n      <td>0.0</td>\n      <td>0.0</td>\n      <td>0.0</td>\n      <td>0.0</td>\n      <td>0.0</td>\n      <td>0.0</td>\n      <td>0.0</td>\n      <td>0.0</td>\n      <td>0.0</td>\n      <td>0.0</td>\n    </tr>\n  </tbody>\n</table>\n<p>5 rows × 131 columns</p>\n</div>",
      "text/plain": "   0    1    2    3    4    5    6    7    8    9   ...   121  122  123  124  \\\n0  0.0  0.0  0.0  0.0  0.0  0.0  0.0  0.0  0.0  0.0 ...   0.0  0.0  0.0  0.0   \n1  0.0  0.0  0.0  0.0  0.0  0.0  0.0  0.0  0.0  0.0 ...   0.0  0.0  0.0  0.0   \n2  0.0  0.0  0.0  0.0  0.0  0.0  0.0  0.0  0.0  0.0 ...   0.0  0.0  0.0  0.0   \n3  0.0  0.0  0.0  0.0  0.0  0.0  0.0  0.0  0.0  0.0 ...   0.0  0.0  0.0  0.0   \n4  0.0  0.0  0.0  0.0  0.0  0.0  0.0  0.0  0.0  0.0 ...   0.0  0.0  0.0  0.0   \n\n   125  126  127  128  129  130  \n0  0.0  0.0  0.0  0.0  0.0  0.0  \n1  0.0  0.0  0.0  0.0  0.0  0.0  \n2  0.0  0.0  0.0  0.0  0.0  0.0  \n3  0.0  0.0  0.0  0.0  0.0  0.0  \n4  0.0  0.0  0.0  0.0  0.0  0.0  \n\n[5 rows x 131 columns]"
     },
     "execution_count": 7,
     "metadata": {},
     "output_type": "execute_result"
    }
   ],
   "metadata": {}
  },
  {
   "cell_type": "code",
   "source": "gatrain.brand.unique().shape",
   "execution_count": 8,
   "outputs": [
    {
     "data": {
      "text/plain": "(120,)"
     },
     "execution_count": 8,
     "metadata": {},
     "output_type": "execute_result"
    }
   ],
   "metadata": {}
  },
  {
   "cell_type": "code",
   "source": "events.device_id.unique().shape",
   "execution_count": 9,
   "outputs": [
    {
     "data": {
      "text/plain": "(60865,)"
     },
     "execution_count": 9,
     "metadata": {},
     "output_type": "execute_result"
    }
   ],
   "metadata": {}
  },
  {
   "cell_type": "code",
   "source": "events.shape",
   "execution_count": 10,
   "outputs": [
    {
     "data": {
      "text/plain": "(3252950, 4)"
     },
     "execution_count": 10,
     "metadata": {},
     "output_type": "execute_result"
    }
   ],
   "metadata": {}
  },
  {
   "cell_type": "code",
   "source": "events.device_id.value_counts().head()",
   "execution_count": 11,
   "outputs": [
    {
     "data": {
      "text/plain": " 1186608308763918427    33426\n 3915082290673137129    14568\n-1656894751624916732     6731\n-6242501228649113250     4150\n-8340098378141155823     3973\nName: device_id, dtype: int64"
     },
     "execution_count": 11,
     "metadata": {},
     "output_type": "execute_result"
    }
   ],
   "metadata": {}
  },
  {
   "cell_type": "code",
   "source": "gatest.ix[1186608308763918427]",
   "execution_count": 12,
   "outputs": [
    {
     "data": {
      "text/plain": "testrow    102800\nbrand          51\nmodel         860\nName: 1186608308763918427, dtype: int64"
     },
     "execution_count": 12,
     "metadata": {},
     "output_type": "execute_result"
    }
   ],
   "metadata": {}
  },
  {
   "cell_type": "code",
   "source": "gatest.ix[3915082290673137129]",
   "execution_count": 13,
   "outputs": [
    {
     "data": {
      "text/plain": "testrow    40536\nbrand         15\nmodel        445\nName: 3915082290673137129, dtype: int64"
     },
     "execution_count": 13,
     "metadata": {},
     "output_type": "execute_result"
    }
   ],
   "metadata": {}
  },
  {
   "cell_type": "code",
   "source": "gatrain.shape[0]-len(set(gatrain.index)-set(events.device_id.unique()))",
   "execution_count": 14,
   "outputs": [
    {
     "data": {
      "text/plain": "23309"
     },
     "execution_count": 14,
     "metadata": {},
     "output_type": "execute_result"
    }
   ],
   "metadata": {}
  },
  {
   "cell_type": "code",
   "source": "len(set(gatrain.index)-set(events.device_id.unique()))",
   "execution_count": 15,
   "outputs": [
    {
     "data": {
      "text/plain": "51336"
     },
     "execution_count": 15,
     "metadata": {},
     "output_type": "execute_result"
    }
   ],
   "metadata": {}
  },
  {
   "cell_type": "code",
   "source": "23309/51336",
   "execution_count": 16,
   "outputs": [
    {
     "data": {
      "text/plain": "0.45404784167056256"
     },
     "execution_count": 16,
     "metadata": {},
     "output_type": "execute_result"
    }
   ],
   "metadata": {}
  },
  {
   "cell_type": "markdown",
   "source": "0.45404 = ratio of device_ids with events to no_events in train",
   "metadata": {}
  },
  {
   "cell_type": "code",
   "source": "gatest.shape[0]-len(set(gatest.index)-set(events.device_id.unique()))",
   "execution_count": 17,
   "outputs": [
    {
     "data": {
      "text/plain": "35194"
     },
     "execution_count": 17,
     "metadata": {},
     "output_type": "execute_result"
    }
   ],
   "metadata": {}
  },
  {
   "cell_type": "code",
   "source": "len(set(gatest.index)-set(events.device_id.unique()))",
   "execution_count": 18,
   "outputs": [
    {
     "data": {
      "text/plain": "76877"
     },
     "execution_count": 18,
     "metadata": {},
     "output_type": "execute_result"
    }
   ],
   "metadata": {}
  },
  {
   "cell_type": "code",
   "source": "35194/76877",
   "execution_count": 19,
   "outputs": [
    {
     "data": {
      "text/plain": "0.4577962199357415"
     },
     "execution_count": 19,
     "metadata": {},
     "output_type": "execute_result"
    }
   ],
   "metadata": {}
  },
  {
   "cell_type": "markdown",
   "source": "0.45779 = ratio of device_ids with events to no_events in test...almost similar ratio..so 23309 predicts 35194 and 51336 predicts 76877",
   "metadata": {}
  },
  {
   "cell_type": "code",
   "source": "events.device_id.unique().shape",
   "execution_count": 20,
   "outputs": [
    {
     "data": {
      "text/plain": "(60865,)"
     },
     "execution_count": 20,
     "metadata": {},
     "output_type": "execute_result"
    }
   ],
   "metadata": {}
  },
  {
   "cell_type": "code",
   "source": "len(set(gatrain.index) | set(events.device_id.unique()))",
   "execution_count": 21,
   "outputs": [
    {
     "data": {
      "text/plain": "112201"
     },
     "execution_count": 21,
     "metadata": {},
     "output_type": "execute_result"
    }
   ],
   "metadata": {}
  },
  {
   "cell_type": "markdown",
   "source": "112201 = sum of 73645+35194+2362",
   "metadata": {}
  },
  {
   "cell_type": "code",
   "source": "23309+35194",
   "execution_count": 22,
   "outputs": [
    {
     "data": {
      "text/plain": "58503"
     },
     "execution_count": 22,
     "metadata": {},
     "output_type": "execute_result"
    }
   ],
   "metadata": {}
  },
  {
   "cell_type": "markdown",
   "source": "58503 - total unique ids in events.csv which are meaningful",
   "metadata": {}
  },
  {
   "cell_type": "code",
   "source": "events.device_id.unique().shape[0]-len(set(events.device_id.unique())&(set(gatrain.index) | set(gatest.index)))",
   "execution_count": 23,
   "outputs": [
    {
     "data": {
      "text/plain": "2362"
     },
     "execution_count": 23,
     "metadata": {},
     "output_type": "execute_result"
    }
   ],
   "metadata": {}
  },
  {
   "cell_type": "markdown",
   "source": "2362 unique device_id's in events.csv are not in train or test..so events corresponding to these device_id's can be removed from events.csv",
   "metadata": {}
  },
  {
   "cell_type": "code",
   "source": "events_tr = list(set(events.device_id.unique())&set(gatrain.index))",
   "execution_count": 24,
   "outputs": [],
   "metadata": {}
  },
  {
   "cell_type": "code",
   "source": "gatrain.ix[events_tr].isnull().sum()",
   "execution_count": 25,
   "outputs": [
    {
     "data": {
      "text/plain": "gender      0\nage         0\ngroup       0\ntrainrow    0\nbrand       0\nmodel       0\ndtype: int64"
     },
     "execution_count": 25,
     "metadata": {},
     "output_type": "execute_result"
    }
   ],
   "metadata": {}
  },
  {
   "cell_type": "code",
   "source": "events_train = events.loc[events['device_id'].isin(events_tr)]",
   "execution_count": 26,
   "outputs": [],
   "metadata": {}
  },
  {
   "cell_type": "code",
   "source": "events_train.device_id.value_counts().head(10)",
   "execution_count": 27,
   "outputs": [
    {
     "data": {
      "text/plain": "-6242501228649113250    4150\n-8340098378141155823    3973\n-3746248670824158209    3907\n 5375599021847302819    3128\n 4782582047729166353    2899\n 1779631023439405334    2757\n 5098778421671837341    2722\n 3724654925765159056    2347\n-6875585507485886098    2310\n 6356179019102873408    2023\nName: device_id, dtype: int64"
     },
     "execution_count": 27,
     "metadata": {},
     "output_type": "execute_result"
    }
   ],
   "metadata": {}
  },
  {
   "cell_type": "markdown",
   "source": "above is count of no. of events for each device_ids in train which have events(those 23309)",
   "metadata": {}
  },
  {
   "cell_type": "code",
   "source": "events_te = list(set(events.device_id.unique())&set(gatest.index))",
   "execution_count": 28,
   "outputs": [],
   "metadata": {}
  },
  {
   "cell_type": "code",
   "source": "gatest.ix[events_te].isnull().sum()",
   "execution_count": 29,
   "outputs": [
    {
     "data": {
      "text/plain": "testrow    0\nbrand      0\nmodel      0\ndtype: int64"
     },
     "execution_count": 29,
     "metadata": {},
     "output_type": "execute_result"
    }
   ],
   "metadata": {}
  },
  {
   "cell_type": "code",
   "source": "events_test = events.loc[events['device_id'].isin(events_te)]",
   "execution_count": 30,
   "outputs": [],
   "metadata": {}
  },
  {
   "cell_type": "code",
   "source": "events_test.device_id.value_counts().head(10)",
   "execution_count": 31,
   "outputs": [
    {
     "data": {
      "text/plain": " 1186608308763918427    33426\n 3915082290673137129    14568\n 2504414082456157897     3804\n-3037377082444295812     3534\n-17299534936664237       3506\n-7369693784883843916     3446\n 8339429008953975436     3440\n 5083019926611946481     3395\n-5105332332397066846     3099\n 2771516290634663640     2975\nName: device_id, dtype: int64"
     },
     "execution_count": 31,
     "metadata": {},
     "output_type": "execute_result"
    }
   ],
   "metadata": {}
  },
  {
   "cell_type": "markdown",
   "source": "above is count of no. of events for each device_ids in test which have events(those 35194)",
   "metadata": {}
  },
  {
   "cell_type": "code",
   "source": "events_test.device_id.value_counts().quantile(0.99)",
   "execution_count": 32,
   "outputs": [
    {
     "data": {
      "text/plain": "531.06999999999971"
     },
     "execution_count": 32,
     "metadata": {},
     "output_type": "execute_result"
    }
   ],
   "metadata": {}
  },
  {
   "cell_type": "code",
   "source": "events_train.device_id.value_counts().quantile(0.99)",
   "execution_count": 33,
   "outputs": [
    {
     "data": {
      "text/plain": "516.91999999999825"
     },
     "execution_count": 33,
     "metadata": {},
     "output_type": "execute_result"
    }
   ],
   "metadata": {}
  },
  {
   "cell_type": "code",
   "source": "events_train.device_id.value_counts().quantile(0.11)",
   "execution_count": 34,
   "outputs": [
    {
     "data": {
      "text/plain": "2.0"
     },
     "execution_count": 34,
     "metadata": {},
     "output_type": "execute_result"
    }
   ],
   "metadata": {}
  },
  {
   "cell_type": "markdown",
   "source": "(0.99-0.11) = 88% device_id's in train have count of event_id's between 2 to 517..\nsimilarly for test",
   "metadata": {}
  },
  {
   "cell_type": "code",
   "source": "events_train.device_id.value_counts().mean()",
   "execution_count": 35,
   "outputs": [
    {
     "data": {
      "text/plain": "52.15131494272599"
     },
     "execution_count": 35,
     "metadata": {},
     "output_type": "execute_result"
    }
   ],
   "metadata": {}
  },
  {
   "cell_type": "code",
   "source": "events_test.device_id.value_counts().mean()",
   "execution_count": 36,
   "outputs": [
    {
     "data": {
      "text/plain": "55.26004432573734"
     },
     "execution_count": 36,
     "metadata": {},
     "output_type": "execute_result"
    }
   ],
   "metadata": {}
  },
  {
   "cell_type": "code",
   "source": "events[events.device_id==1779631023439405334].longitude.value_counts()",
   "execution_count": 37,
   "outputs": [
    {
     "data": {
      "text/plain": "114.26    2233\n114.25     275\n114.20     236\n114.21       9\n0.00         4\nName: longitude, dtype: int64"
     },
     "execution_count": 37,
     "metadata": {},
     "output_type": "execute_result"
    }
   ],
   "metadata": {}
  },
  {
   "cell_type": "code",
   "source": "events[events.device_id==3915082290673137129].longitude.value_counts()",
   "execution_count": 38,
   "outputs": [
    {
     "data": {
      "text/plain": "116.39    8034\n0.00      5879\n121.24     545\n112.88      58\n108.35      35\n114.19      12\n112.85       4\n118.77       1\nName: longitude, dtype: int64"
     },
     "execution_count": 38,
     "metadata": {},
     "output_type": "execute_result"
    }
   ],
   "metadata": {}
  },
  {
   "cell_type": "markdown",
   "source": "change 0 as weighted mean or median..given change restricted to (+2 or -2)",
   "execution_count": null,
   "outputs": [],
   "metadata": {}
  },
  {
   "cell_type": "code",
   "source": "events[events.device_id==2504414082456157897].longitude.value_counts()",
   "execution_count": 39,
   "outputs": [
    {
     "data": {
      "text/plain": "118.85    3000\n120.62     403\n120.61     117\n120.60      47\n118.81      28\n119.43      25\n120.14      21\n119.59      18\n120.34      12\n119.41       8\n119.95       8\n119.52       7\n119.94       6\n120.31       6\n118.84       5\n120.19       4\n119.42       4\n119.87       4\n119.44       4\n120.35       4\n120.03       4\n120.32       4\n119.99       4\n119.57       4\n119.80       4\n119.61       3\n119.51       3\n118.82       3\n119.75       3\n118.79       3\n119.55       3\n118.88       3\n119.79       3\n120.17       2\n120.20       2\n119.65       2\n120.18       2\n120.33       2\n120.07       2\n119.64       2\n119.69       2\n120.15       1\n119.62       1\n120.38       1\n119.73       1\n119.70       1\n120.23       1\n120.25       1\n118.78       1\n119.74       1\n119.66       1\n119.77       1\n120.56       1\n0.00         1\nName: longitude, dtype: int64"
     },
     "execution_count": 39,
     "metadata": {},
     "output_type": "execute_result"
    }
   ],
   "metadata": {}
  },
  {
   "cell_type": "markdown",
   "source": "make grids of 2 by 2..lat-lon and transform latitude longitude to grid number/////or divide latitude longitude by mod(4) or something",
   "execution_count": null,
   "outputs": [],
   "metadata": {}
  },
  {
   "cell_type": "code",
   "source": "events[events.device_id==-3037377082444295812].longitude.value_counts()",
   "execution_count": 40,
   "outputs": [
    {
     "data": {
      "text/plain": "115.82    1233\n115.85     662\n115.84     445\n115.91     382\n115.90     195\n115.83     133\n115.86      90\n115.88      75\n115.89      66\n115.79      51\n115.96      39\n115.92      27\n115.77      19\n115.94      17\n115.87      14\n115.81      13\n0.00        11\n115.78      11\n115.93      11\n115.97      10\n115.80       8\n115.98       5\n115.95       5\n115.76       5\n115.74       2\n115.75       2\n115.99       2\n115.72       1\nName: longitude, dtype: int64"
     },
     "execution_count": 40,
     "metadata": {},
     "output_type": "execute_result"
    }
   ],
   "metadata": {}
  },
  {
   "cell_type": "code",
   "source": "events[events.device_id==5375599021847302819].longitude.value_counts()",
   "execution_count": 41,
   "outputs": [
    {
     "data": {
      "text/plain": "115.02    2444\n115.13     684\nName: longitude, dtype: int64"
     },
     "execution_count": 41,
     "metadata": {},
     "output_type": "execute_result"
    }
   ],
   "metadata": {}
  },
  {
   "cell_type": "markdown",
   "source": "    1186608308763918427    33426\n     3915082290673137129    14568\n     2504414082456157897     3804\n    -3037377082444295812     3534\n    -17299534936664237       3506\n    -7369693784883843916     3446\n     8339429008953975436     3440\n     5083019926611946481     3395\n    -5105332332397066846     3099\n     2771516290634663640     2975\n    \n    --------------------------------------------\n    -6242501228649113250    4150\n    -8340098378141155823    3973\n    -3746248670824158209    3907\n     5375599021847302819    3128\n     4782582047729166353    2899\n     1779631023439405334    2757\n     5098778421671837341    2722\n     3724654925765159056    2347\n    -6875585507485886098    2310\n     6356179019102873408    2023",
   "metadata": {}
  },
  {
   "cell_type": "code",
   "source": "events[events.latitude==0].shape",
   "execution_count": 42,
   "outputs": [
    {
     "data": {
      "text/plain": "(968955, 4)"
     },
     "execution_count": 42,
     "metadata": {},
     "output_type": "execute_result"
    }
   ],
   "metadata": {}
  },
  {
   "cell_type": "code",
   "source": "events[events.longitude==0].shape",
   "execution_count": 43,
   "outputs": [
    {
     "data": {
      "text/plain": "(968711, 4)"
     },
     "execution_count": 43,
     "metadata": {},
     "output_type": "execute_result"
    }
   ],
   "metadata": {}
  },
  {
   "cell_type": "code",
   "source": "events[(events.longitude==0)&(events.latitude>0)]",
   "execution_count": 44,
   "outputs": [
    {
     "data": {
      "text/html": "<div>\n<table border=\"1\" class=\"dataframe\">\n  <thead>\n    <tr style=\"text-align: right;\">\n      <th></th>\n      <th>device_id</th>\n      <th>timestamp</th>\n      <th>longitude</th>\n      <th>latitude</th>\n    </tr>\n    <tr>\n      <th>event_id</th>\n      <th></th>\n      <th></th>\n      <th></th>\n      <th></th>\n    </tr>\n  </thead>\n  <tbody>\n    <tr>\n      <th>143103</th>\n      <td>8124653877439841139</td>\n      <td>2016-05-01 11:21:17</td>\n      <td>0.0</td>\n      <td>0.02</td>\n    </tr>\n    <tr>\n      <th>313832</th>\n      <td>8124653877439841139</td>\n      <td>2016-05-04 17:00:51</td>\n      <td>0.0</td>\n      <td>0.02</td>\n    </tr>\n    <tr>\n      <th>572638</th>\n      <td>8124653877439841139</td>\n      <td>2016-05-03 09:27:40</td>\n      <td>0.0</td>\n      <td>0.02</td>\n    </tr>\n    <tr>\n      <th>691374</th>\n      <td>8124653877439841139</td>\n      <td>2016-05-03 21:00:26</td>\n      <td>0.0</td>\n      <td>0.02</td>\n    </tr>\n    <tr>\n      <th>788005</th>\n      <td>8124653877439841139</td>\n      <td>2016-05-02 09:04:54</td>\n      <td>0.0</td>\n      <td>0.02</td>\n    </tr>\n    <tr>\n      <th>886689</th>\n      <td>-3936636173436703103</td>\n      <td>2016-05-03 21:17:52</td>\n      <td>0.0</td>\n      <td>0.24</td>\n    </tr>\n    <tr>\n      <th>1048873</th>\n      <td>8124653877439841139</td>\n      <td>2016-05-04 02:17:34</td>\n      <td>0.0</td>\n      <td>0.02</td>\n    </tr>\n    <tr>\n      <th>1134395</th>\n      <td>8124653877439841139</td>\n      <td>2016-05-04 03:08:43</td>\n      <td>0.0</td>\n      <td>0.02</td>\n    </tr>\n    <tr>\n      <th>1214458</th>\n      <td>8124653877439841139</td>\n      <td>2016-05-01 23:48:29</td>\n      <td>0.0</td>\n      <td>0.02</td>\n    </tr>\n    <tr>\n      <th>1253148</th>\n      <td>8124653877439841139</td>\n      <td>2016-05-01 13:57:00</td>\n      <td>0.0</td>\n      <td>0.02</td>\n    </tr>\n    <tr>\n      <th>1308121</th>\n      <td>8124653877439841139</td>\n      <td>2016-05-04 09:19:20</td>\n      <td>0.0</td>\n      <td>0.02</td>\n    </tr>\n    <tr>\n      <th>1336663</th>\n      <td>8124653877439841139</td>\n      <td>2016-05-03 12:35:57</td>\n      <td>0.0</td>\n      <td>0.02</td>\n    </tr>\n    <tr>\n      <th>1697857</th>\n      <td>-3936636173436703103</td>\n      <td>2016-05-03 21:17:28</td>\n      <td>0.0</td>\n      <td>0.24</td>\n    </tr>\n    <tr>\n      <th>1939931</th>\n      <td>8124653877439841139</td>\n      <td>2016-05-02 17:35:13</td>\n      <td>0.0</td>\n      <td>0.02</td>\n    </tr>\n    <tr>\n      <th>2049092</th>\n      <td>8124653877439841139</td>\n      <td>2016-05-03 10:25:29</td>\n      <td>0.0</td>\n      <td>0.02</td>\n    </tr>\n    <tr>\n      <th>2084090</th>\n      <td>8124653877439841139</td>\n      <td>2016-05-02 15:39:55</td>\n      <td>0.0</td>\n      <td>0.02</td>\n    </tr>\n    <tr>\n      <th>2434291</th>\n      <td>8124653877439841139</td>\n      <td>2016-05-04 18:35:12</td>\n      <td>0.0</td>\n      <td>0.02</td>\n    </tr>\n    <tr>\n      <th>2511435</th>\n      <td>8124653877439841139</td>\n      <td>2016-05-04 10:35:57</td>\n      <td>0.0</td>\n      <td>0.02</td>\n    </tr>\n    <tr>\n      <th>2679780</th>\n      <td>-3936636173436703103</td>\n      <td>2016-05-03 21:18:25</td>\n      <td>0.0</td>\n      <td>0.24</td>\n    </tr>\n    <tr>\n      <th>2818161</th>\n      <td>8124653877439841139</td>\n      <td>2016-05-03 00:19:19</td>\n      <td>0.0</td>\n      <td>0.02</td>\n    </tr>\n    <tr>\n      <th>2829551</th>\n      <td>8124653877439841139</td>\n      <td>2016-05-02 12:58:45</td>\n      <td>0.0</td>\n      <td>0.02</td>\n    </tr>\n    <tr>\n      <th>2993992</th>\n      <td>8124653877439841139</td>\n      <td>2016-05-01 10:40:39</td>\n      <td>0.0</td>\n      <td>0.02</td>\n    </tr>\n    <tr>\n      <th>3036621</th>\n      <td>-3936636173436703103</td>\n      <td>2016-05-03 21:17:22</td>\n      <td>0.0</td>\n      <td>0.24</td>\n    </tr>\n    <tr>\n      <th>3146692</th>\n      <td>8124653877439841139</td>\n      <td>2016-05-02 11:27:29</td>\n      <td>0.0</td>\n      <td>0.02</td>\n    </tr>\n  </tbody>\n</table>\n</div>",
      "text/plain": "                    device_id           timestamp  longitude  latitude\nevent_id                                                              \n143103    8124653877439841139 2016-05-01 11:21:17        0.0      0.02\n313832    8124653877439841139 2016-05-04 17:00:51        0.0      0.02\n572638    8124653877439841139 2016-05-03 09:27:40        0.0      0.02\n691374    8124653877439841139 2016-05-03 21:00:26        0.0      0.02\n788005    8124653877439841139 2016-05-02 09:04:54        0.0      0.02\n886689   -3936636173436703103 2016-05-03 21:17:52        0.0      0.24\n1048873   8124653877439841139 2016-05-04 02:17:34        0.0      0.02\n1134395   8124653877439841139 2016-05-04 03:08:43        0.0      0.02\n1214458   8124653877439841139 2016-05-01 23:48:29        0.0      0.02\n1253148   8124653877439841139 2016-05-01 13:57:00        0.0      0.02\n1308121   8124653877439841139 2016-05-04 09:19:20        0.0      0.02\n1336663   8124653877439841139 2016-05-03 12:35:57        0.0      0.02\n1697857  -3936636173436703103 2016-05-03 21:17:28        0.0      0.24\n1939931   8124653877439841139 2016-05-02 17:35:13        0.0      0.02\n2049092   8124653877439841139 2016-05-03 10:25:29        0.0      0.02\n2084090   8124653877439841139 2016-05-02 15:39:55        0.0      0.02\n2434291   8124653877439841139 2016-05-04 18:35:12        0.0      0.02\n2511435   8124653877439841139 2016-05-04 10:35:57        0.0      0.02\n2679780  -3936636173436703103 2016-05-03 21:18:25        0.0      0.24\n2818161   8124653877439841139 2016-05-03 00:19:19        0.0      0.02\n2829551   8124653877439841139 2016-05-02 12:58:45        0.0      0.02\n2993992   8124653877439841139 2016-05-01 10:40:39        0.0      0.02\n3036621  -3936636173436703103 2016-05-03 21:17:22        0.0      0.24\n3146692   8124653877439841139 2016-05-02 11:27:29        0.0      0.02"
     },
     "execution_count": 44,
     "metadata": {},
     "output_type": "execute_result"
    }
   ],
   "metadata": {}
  },
  {
   "cell_type": "code",
   "source": "df_near0 = events[(events[\"longitude\"]>-2) &\\\n                     (events[\"longitude\"]<2) &\\\n                     (events[\"latitude\"]>-2) &\\\n                     (events[\"latitude\"]<2)]",
   "execution_count": 45,
   "outputs": [],
   "metadata": {}
  },
  {
   "cell_type": "code",
   "source": "df_near0.shape",
   "execution_count": 46,
   "outputs": [
    {
     "data": {
      "text/plain": "(1047700, 4)"
     },
     "execution_count": 46,
     "metadata": {},
     "output_type": "execute_result"
    }
   ],
   "metadata": {}
  },
  {
   "cell_type": "markdown",
   "source": "change all in df_near0 to weighted mean or median of respective device_ids...restricted to max change (+2 or -2)....\nchange  180,-180 longitude to mean or median..mean is the mean of others excluding 0..",
   "execution_count": null,
   "outputs": [],
   "metadata": {}
  },
  {
   "cell_type": "code",
   "source": "df_near1 = events[(events[\"longitude\"]>-8) &\\\n                     (events[\"longitude\"]<8) &\\\n                     (events[\"latitude\"]>-8) &\\\n                     (events[\"latitude\"]<8)]",
   "execution_count": 47,
   "outputs": [],
   "metadata": {}
  },
  {
   "cell_type": "code",
   "source": "df_near1.shape",
   "execution_count": 48,
   "outputs": [
    {
     "data": {
      "text/plain": "(1047700, 4)"
     },
     "execution_count": 48,
     "metadata": {},
     "output_type": "execute_result"
    }
   ],
   "metadata": {}
  },
  {
   "cell_type": "code",
   "source": "events[(events.longitude<-150)&(events.longitude>-180)]",
   "execution_count": 49,
   "outputs": [
    {
     "data": {
      "text/html": "<div>\n<table border=\"1\" class=\"dataframe\">\n  <thead>\n    <tr style=\"text-align: right;\">\n      <th></th>\n      <th>device_id</th>\n      <th>timestamp</th>\n      <th>longitude</th>\n      <th>latitude</th>\n    </tr>\n    <tr>\n      <th>event_id</th>\n      <th></th>\n      <th></th>\n      <th></th>\n      <th></th>\n    </tr>\n  </thead>\n  <tbody>\n    <tr>\n      <th>391217</th>\n      <td>-8886768683305255724</td>\n      <td>2016-05-03 17:13:38</td>\n      <td>-155.99</td>\n      <td>19.82</td>\n    </tr>\n    <tr>\n      <th>391219</th>\n      <td>-8886768683305255724</td>\n      <td>2016-05-03 17:10:10</td>\n      <td>-155.99</td>\n      <td>19.82</td>\n    </tr>\n    <tr>\n      <th>456528</th>\n      <td>-8886768683305255724</td>\n      <td>2016-05-03 17:22:19</td>\n      <td>-155.99</td>\n      <td>19.82</td>\n    </tr>\n    <tr>\n      <th>466742</th>\n      <td>-8886768683305255724</td>\n      <td>2016-05-03 17:15:08</td>\n      <td>-155.99</td>\n      <td>19.82</td>\n    </tr>\n    <tr>\n      <th>502636</th>\n      <td>-8886768683305255724</td>\n      <td>2016-05-03 15:10:21</td>\n      <td>-155.99</td>\n      <td>19.82</td>\n    </tr>\n    <tr>\n      <th>771215</th>\n      <td>-8886768683305255724</td>\n      <td>2016-05-03 15:13:34</td>\n      <td>-155.99</td>\n      <td>19.82</td>\n    </tr>\n    <tr>\n      <th>853772</th>\n      <td>-8886768683305255724</td>\n      <td>2016-05-05 17:23:47</td>\n      <td>-155.99</td>\n      <td>19.82</td>\n    </tr>\n    <tr>\n      <th>959713</th>\n      <td>-8886768683305255724</td>\n      <td>2016-05-03 14:31:43</td>\n      <td>-155.99</td>\n      <td>19.82</td>\n    </tr>\n    <tr>\n      <th>1152452</th>\n      <td>-8886768683305255724</td>\n      <td>2016-05-03 16:38:44</td>\n      <td>-155.99</td>\n      <td>19.82</td>\n    </tr>\n    <tr>\n      <th>1343823</th>\n      <td>-8886768683305255724</td>\n      <td>2016-05-03 17:17:24</td>\n      <td>-155.99</td>\n      <td>19.82</td>\n    </tr>\n    <tr>\n      <th>1457271</th>\n      <td>-8886768683305255724</td>\n      <td>2016-05-05 17:19:31</td>\n      <td>-155.99</td>\n      <td>19.82</td>\n    </tr>\n    <tr>\n      <th>1543840</th>\n      <td>-8886768683305255724</td>\n      <td>2016-05-03 17:22:36</td>\n      <td>-155.99</td>\n      <td>19.82</td>\n    </tr>\n    <tr>\n      <th>1723867</th>\n      <td>-8886768683305255724</td>\n      <td>2016-05-03 17:09:29</td>\n      <td>-155.99</td>\n      <td>19.82</td>\n    </tr>\n    <tr>\n      <th>1858296</th>\n      <td>-8886768683305255724</td>\n      <td>2016-05-03 17:24:58</td>\n      <td>-155.99</td>\n      <td>19.82</td>\n    </tr>\n    <tr>\n      <th>1858335</th>\n      <td>-8886768683305255724</td>\n      <td>2016-05-03 17:14:08</td>\n      <td>-155.99</td>\n      <td>19.82</td>\n    </tr>\n    <tr>\n      <th>1968129</th>\n      <td>-8886768683305255724</td>\n      <td>2016-05-03 13:18:11</td>\n      <td>-155.99</td>\n      <td>19.82</td>\n    </tr>\n    <tr>\n      <th>2055437</th>\n      <td>-8886768683305255724</td>\n      <td>2016-05-03 15:14:48</td>\n      <td>-155.99</td>\n      <td>19.82</td>\n    </tr>\n    <tr>\n      <th>2097713</th>\n      <td>-8886768683305255724</td>\n      <td>2016-05-03 15:37:03</td>\n      <td>-155.99</td>\n      <td>19.82</td>\n    </tr>\n    <tr>\n      <th>2346269</th>\n      <td>-8886768683305255724</td>\n      <td>2016-05-05 17:07:42</td>\n      <td>-155.99</td>\n      <td>19.82</td>\n    </tr>\n    <tr>\n      <th>2401466</th>\n      <td>-8886768683305255724</td>\n      <td>2016-05-03 15:12:34</td>\n      <td>-155.99</td>\n      <td>19.82</td>\n    </tr>\n    <tr>\n      <th>2483749</th>\n      <td>-8886768683305255724</td>\n      <td>2016-05-03 17:18:16</td>\n      <td>-155.99</td>\n      <td>19.82</td>\n    </tr>\n    <tr>\n      <th>2591245</th>\n      <td>-8886768683305255724</td>\n      <td>2016-05-05 17:07:51</td>\n      <td>-155.99</td>\n      <td>19.82</td>\n    </tr>\n    <tr>\n      <th>2659709</th>\n      <td>-8886768683305255724</td>\n      <td>2016-05-03 13:51:53</td>\n      <td>-155.99</td>\n      <td>19.82</td>\n    </tr>\n    <tr>\n      <th>2781396</th>\n      <td>-8886768683305255724</td>\n      <td>2016-05-03 15:10:56</td>\n      <td>-155.99</td>\n      <td>19.82</td>\n    </tr>\n    <tr>\n      <th>3152563</th>\n      <td>-8886768683305255724</td>\n      <td>2016-05-03 15:13:04</td>\n      <td>-155.99</td>\n      <td>19.82</td>\n    </tr>\n    <tr>\n      <th>3207120</th>\n      <td>-8886768683305255724</td>\n      <td>2016-05-05 17:11:43</td>\n      <td>-155.99</td>\n      <td>19.82</td>\n    </tr>\n  </tbody>\n</table>\n</div>",
      "text/plain": "                    device_id           timestamp  longitude  latitude\nevent_id                                                              \n391217   -8886768683305255724 2016-05-03 17:13:38    -155.99     19.82\n391219   -8886768683305255724 2016-05-03 17:10:10    -155.99     19.82\n456528   -8886768683305255724 2016-05-03 17:22:19    -155.99     19.82\n466742   -8886768683305255724 2016-05-03 17:15:08    -155.99     19.82\n502636   -8886768683305255724 2016-05-03 15:10:21    -155.99     19.82\n771215   -8886768683305255724 2016-05-03 15:13:34    -155.99     19.82\n853772   -8886768683305255724 2016-05-05 17:23:47    -155.99     19.82\n959713   -8886768683305255724 2016-05-03 14:31:43    -155.99     19.82\n1152452  -8886768683305255724 2016-05-03 16:38:44    -155.99     19.82\n1343823  -8886768683305255724 2016-05-03 17:17:24    -155.99     19.82\n1457271  -8886768683305255724 2016-05-05 17:19:31    -155.99     19.82\n1543840  -8886768683305255724 2016-05-03 17:22:36    -155.99     19.82\n1723867  -8886768683305255724 2016-05-03 17:09:29    -155.99     19.82\n1858296  -8886768683305255724 2016-05-03 17:24:58    -155.99     19.82\n1858335  -8886768683305255724 2016-05-03 17:14:08    -155.99     19.82\n1968129  -8886768683305255724 2016-05-03 13:18:11    -155.99     19.82\n2055437  -8886768683305255724 2016-05-03 15:14:48    -155.99     19.82\n2097713  -8886768683305255724 2016-05-03 15:37:03    -155.99     19.82\n2346269  -8886768683305255724 2016-05-05 17:07:42    -155.99     19.82\n2401466  -8886768683305255724 2016-05-03 15:12:34    -155.99     19.82\n2483749  -8886768683305255724 2016-05-03 17:18:16    -155.99     19.82\n2591245  -8886768683305255724 2016-05-05 17:07:51    -155.99     19.82\n2659709  -8886768683305255724 2016-05-03 13:51:53    -155.99     19.82\n2781396  -8886768683305255724 2016-05-03 15:10:56    -155.99     19.82\n3152563  -8886768683305255724 2016-05-03 15:13:04    -155.99     19.82\n3207120  -8886768683305255724 2016-05-05 17:11:43    -155.99     19.82"
     },
     "execution_count": 49,
     "metadata": {},
     "output_type": "execute_result"
    }
   ],
   "metadata": {}
  },
  {
   "cell_type": "code",
   "source": "gatrain.ix[-8886768683305255724]",
   "execution_count": 50,
   "outputs": [
    {
     "data": {
      "text/plain": "gender           M\nage             35\ngroup       M32-38\ntrainrow     43544\nbrand           15\nmodel          287\nName: -8886768683305255724, dtype: object"
     },
     "execution_count": 50,
     "metadata": {},
     "output_type": "execute_result"
    }
   ],
   "metadata": {}
  },
  {
   "cell_type": "markdown",
   "source": "outlier maybe...above man in hawaii (-155.99,19.82)",
   "metadata": {}
  },
  {
   "cell_type": "code",
   "source": null,
   "execution_count": 51,
   "outputs": [],
   "metadata": {}
  }
 ]
}