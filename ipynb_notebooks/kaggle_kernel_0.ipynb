﻿{
 "metadata": {
  "kernelspec": {
   "display_name": "Python 3",
   "language": "python",
   "name": "python3"
  },
  "language_info": {
   "codemirror_mode": {
    "name": "ipython",
    "version": 3
   },
   "file_extension": ".py",
   "mimetype": "text/x-python",
   "name": "python",
   "nbconvert_exporter": "python",
   "pygments_lexer": "ipython3",
   "version": "3.5.2"
  }
 },
 "nbformat": 4,
 "nbformat_minor": 0,
 "cells": [
  {
   "cell_type": "code",
   "source": "import pandas as pd\nimport numpy as np\n%matplotlib inline\nimport seaborn as sns\nimport matplotlib.pyplot as plt\nimport os\nfrom sklearn.preprocessing import LabelEncoder\nfrom scipy.sparse import csr_matrix, hstack\nfrom sklearn.linear_model import LogisticRegression\nfrom sklearn.cross_validation import StratifiedKFold\nfrom sklearn.metrics import log_loss",
   "execution_count": 1,
   "outputs": [
    {
     "name": "stderr",
     "output_type": "stream",
     "text": "/opt/conda/lib/python3.5/site-packages/sklearn/cross_validation.py:43: DeprecationWarning: This module was deprecated in version 0.18 in favor of the model_selection module into which all the refactored classes and functions are moved. Also note that the interface of the new CV iterators are different from that of this module. This module will be removed in 0.20.\n  \"This module will be removed in 0.20.\", DeprecationWarning)\n"
    }
   ],
   "metadata": {}
  },
  {
   "cell_type": "code",
   "source": "datadir = '../input'\ngatrain = pd.read_csv(os.path.join(datadir,'gender_age_train.csv'),\n                      index_col='device_id')\ngatest = pd.read_csv(os.path.join(datadir,'gender_age_test.csv'),\n                     index_col = 'device_id')\nphone = pd.read_csv(os.path.join(datadir,'phone_brand_device_model.csv'))\n# Get rid of duplicate device ids in phone\nphone = phone.drop_duplicates('device_id',keep='first').set_index('device_id')\nevents = pd.read_csv(os.path.join(datadir,'events.csv'),\n                     parse_dates=['timestamp'], index_col='event_id')\nappevents = pd.read_csv(os.path.join(datadir,'app_events.csv'), \n                        usecols=['event_id','app_id','is_active'],\n                        dtype={'is_active':bool})\napplabels = pd.read_csv(os.path.join(datadir,'app_labels.csv'))",
   "execution_count": 2,
   "outputs": [],
   "metadata": {}
  },
  {
   "cell_type": "code",
   "source": "gatrain['trainrow'] = np.arange(gatrain.shape[0])\ngatest['testrow'] = np.arange(gatest.shape[0])",
   "execution_count": 3,
   "outputs": [],
   "metadata": {}
  },
  {
   "cell_type": "code",
   "source": "brandencoder = LabelEncoder().fit(phone.phone_brand)\nphone['brand'] = brandencoder.transform(phone['phone_brand'])\ngatrain['brand'] = phone['brand']\ngatest['brand'] = phone['brand']\nXtr_brand = csr_matrix((np.ones(gatrain.shape[0]), \n                       (gatrain.trainrow, gatrain.brand)))\nXte_brand = csr_matrix((np.ones(gatest.shape[0]), \n                       (gatest.testrow, gatest.brand)))\nprint('Brand features: train shape {}, test shape {}'.format(Xtr_brand.shape, Xte_brand.shape))",
   "execution_count": 4,
   "outputs": [
    {
     "name": "stdout",
     "output_type": "stream",
     "text": "Brand features: train shape (74645, 131), test shape (112071, 131)\n"
    }
   ],
   "metadata": {}
  },
  {
   "cell_type": "code",
   "source": "a = pd.DataFrame(Xtr_brand.toarray())",
   "execution_count": 5,
   "outputs": [],
   "metadata": {}
  },
  {
   "cell_type": "code",
   "source": "a.head()",
   "execution_count": 6,
   "outputs": [
    {
     "data": {
      "text/html": "<div>\n<table border=\"1\" class=\"dataframe\">\n  <thead>\n    <tr style=\"text-align: right;\">\n      <th></th>\n      <th>0</th>\n      <th>1</th>\n      <th>2</th>\n      <th>3</th>\n      <th>4</th>\n      <th>5</th>\n      <th>6</th>\n      <th>7</th>\n      <th>8</th>\n      <th>9</th>\n      <th>...</th>\n      <th>121</th>\n      <th>122</th>\n      <th>123</th>\n      <th>124</th>\n      <th>125</th>\n      <th>126</th>\n      <th>127</th>\n      <th>128</th>\n      <th>129</th>\n      <th>130</th>\n    </tr>\n  </thead>\n  <tbody>\n    <tr>\n      <th>0</th>\n      <td>0.0</td>\n      <td>0.0</td>\n      <td>0.0</td>\n      <td>0.0</td>\n      <td>0.0</td>\n      <td>0.0</td>\n      <td>0.0</td>\n      <td>0.0</td>\n      <td>0.0</td>\n      <td>0.0</td>\n      <td>...</td>\n      <td>0.0</td>\n      <td>0.0</td>\n      <td>0.0</td>\n      <td>0.0</td>\n      <td>0.0</td>\n      <td>0.0</td>\n      <td>0.0</td>\n      <td>0.0</td>\n      <td>0.0</td>\n      <td>0.0</td>\n    </tr>\n    <tr>\n      <th>1</th>\n      <td>0.0</td>\n      <td>0.0</td>\n      <td>0.0</td>\n      <td>0.0</td>\n      <td>0.0</td>\n      <td>0.0</td>\n      <td>0.0</td>\n      <td>0.0</td>\n      <td>0.0</td>\n      <td>0.0</td>\n      <td>...</td>\n      <td>0.0</td>\n      <td>0.0</td>\n      <td>0.0</td>\n      <td>0.0</td>\n      <td>0.0</td>\n      <td>0.0</td>\n      <td>0.0</td>\n      <td>0.0</td>\n      <td>0.0</td>\n      <td>0.0</td>\n    </tr>\n    <tr>\n      <th>2</th>\n      <td>0.0</td>\n      <td>0.0</td>\n      <td>0.0</td>\n      <td>0.0</td>\n      <td>0.0</td>\n      <td>0.0</td>\n      <td>0.0</td>\n      <td>0.0</td>\n      <td>0.0</td>\n      <td>0.0</td>\n      <td>...</td>\n      <td>0.0</td>\n      <td>0.0</td>\n      <td>0.0</td>\n      <td>0.0</td>\n      <td>0.0</td>\n      <td>0.0</td>\n      <td>0.0</td>\n      <td>0.0</td>\n      <td>0.0</td>\n      <td>0.0</td>\n    </tr>\n    <tr>\n      <th>3</th>\n      <td>0.0</td>\n      <td>0.0</td>\n      <td>0.0</td>\n      <td>0.0</td>\n      <td>0.0</td>\n      <td>0.0</td>\n      <td>0.0</td>\n      <td>0.0</td>\n      <td>0.0</td>\n      <td>0.0</td>\n      <td>...</td>\n      <td>0.0</td>\n      <td>0.0</td>\n      <td>0.0</td>\n      <td>0.0</td>\n      <td>0.0</td>\n      <td>0.0</td>\n      <td>0.0</td>\n      <td>0.0</td>\n      <td>0.0</td>\n      <td>0.0</td>\n    </tr>\n    <tr>\n      <th>4</th>\n      <td>0.0</td>\n      <td>0.0</td>\n      <td>0.0</td>\n      <td>0.0</td>\n      <td>0.0</td>\n      <td>0.0</td>\n      <td>0.0</td>\n      <td>0.0</td>\n      <td>0.0</td>\n      <td>0.0</td>\n      <td>...</td>\n      <td>0.0</td>\n      <td>0.0</td>\n      <td>0.0</td>\n      <td>0.0</td>\n      <td>0.0</td>\n      <td>0.0</td>\n      <td>0.0</td>\n      <td>0.0</td>\n      <td>0.0</td>\n      <td>0.0</td>\n    </tr>\n  </tbody>\n</table>\n<p>5 rows × 131 columns</p>\n</div>",
      "text/plain": "   0    1    2    3    4    5    6    7    8    9   ...   121  122  123  124  \\\n0  0.0  0.0  0.0  0.0  0.0  0.0  0.0  0.0  0.0  0.0 ...   0.0  0.0  0.0  0.0   \n1  0.0  0.0  0.0  0.0  0.0  0.0  0.0  0.0  0.0  0.0 ...   0.0  0.0  0.0  0.0   \n2  0.0  0.0  0.0  0.0  0.0  0.0  0.0  0.0  0.0  0.0 ...   0.0  0.0  0.0  0.0   \n3  0.0  0.0  0.0  0.0  0.0  0.0  0.0  0.0  0.0  0.0 ...   0.0  0.0  0.0  0.0   \n4  0.0  0.0  0.0  0.0  0.0  0.0  0.0  0.0  0.0  0.0 ...   0.0  0.0  0.0  0.0   \n\n   125  126  127  128  129  130  \n0  0.0  0.0  0.0  0.0  0.0  0.0  \n1  0.0  0.0  0.0  0.0  0.0  0.0  \n2  0.0  0.0  0.0  0.0  0.0  0.0  \n3  0.0  0.0  0.0  0.0  0.0  0.0  \n4  0.0  0.0  0.0  0.0  0.0  0.0  \n\n[5 rows x 131 columns]"
     },
     "execution_count": 6,
     "metadata": {},
     "output_type": "execute_result"
    }
   ],
   "metadata": {}
  },
  {
   "cell_type": "code",
   "source": "gatrain.brand.unique().shape",
   "execution_count": 7,
   "outputs": [
    {
     "data": {
      "text/plain": "(120,)"
     },
     "execution_count": 7,
     "metadata": {},
     "output_type": "execute_result"
    }
   ],
   "metadata": {}
  },
  {
   "cell_type": "code",
   "source": "gatrain.brand.min()",
   "execution_count": 24,
   "outputs": [
    {
     "data": {
      "text/plain": "1"
     },
     "execution_count": 24,
     "metadata": {},
     "output_type": "execute_result"
    }
   ],
   "metadata": {}
  },
  {
   "cell_type": "code",
   "source": "a[3].sum()",
   "execution_count": 32,
   "outputs": [
    {
     "data": {
      "text/plain": "332.0"
     },
     "execution_count": 32,
     "metadata": {},
     "output_type": "execute_result"
    }
   ],
   "metadata": {}
  },
  {
   "cell_type": "code",
   "source": "phone.brand.max()",
   "execution_count": 34,
   "outputs": [
    {
     "data": {
      "text/plain": "130"
     },
     "execution_count": 34,
     "metadata": {},
     "output_type": "execute_result"
    }
   ],
   "metadata": {}
  },
  {
   "cell_type": "code",
   "source": "phone.head()",
   "execution_count": 35,
   "outputs": [
    {
     "data": {
      "text/html": "<div>\n<table border=\"1\" class=\"dataframe\">\n  <thead>\n    <tr style=\"text-align: right;\">\n      <th></th>\n      <th>phone_brand</th>\n      <th>device_model</th>\n      <th>brand</th>\n    </tr>\n    <tr>\n      <th>device_id</th>\n      <th></th>\n      <th></th>\n      <th></th>\n    </tr>\n  </thead>\n  <tbody>\n    <tr>\n      <th>-8890648629457979026</th>\n      <td>小米</td>\n      <td>红米</td>\n      <td>51</td>\n    </tr>\n    <tr>\n      <th>1277779817574759137</th>\n      <td>小米</td>\n      <td>MI 2</td>\n      <td>51</td>\n    </tr>\n    <tr>\n      <th>5137427614288105724</th>\n      <td>三星</td>\n      <td>Galaxy S4</td>\n      <td>15</td>\n    </tr>\n    <tr>\n      <th>3669464369358936369</th>\n      <td>SUGAR</td>\n      <td>时尚手机</td>\n      <td>9</td>\n    </tr>\n    <tr>\n      <th>-5019277647504317457</th>\n      <td>三星</td>\n      <td>Galaxy Note 2</td>\n      <td>15</td>\n    </tr>\n  </tbody>\n</table>\n</div>",
      "text/plain": "                     phone_brand   device_model  brand\ndevice_id                                             \n-8890648629457979026          小米             红米     51\n 1277779817574759137          小米           MI 2     51\n 5137427614288105724          三星      Galaxy S4     15\n 3669464369358936369       SUGAR           时尚手机      9\n-5019277647504317457          三星  Galaxy Note 2     15"
     },
     "execution_count": 35,
     "metadata": {},
     "output_type": "execute_result"
    }
   ],
   "metadata": {}
  },
  {
   "cell_type": "code",
   "source": "m = phone.phone_brand.str.cat(phone.device_model)",
   "execution_count": 36,
   "outputs": [],
   "metadata": {}
  },
  {
   "cell_type": "code",
   "source": "m",
   "execution_count": 41,
   "outputs": [
    {
     "data": {
      "text/plain": "device_id\n-8890648629457979026                 小米红米\n 1277779817574759137               小米MI 2\n 5137427614288105724          三星Galaxy S4\n 3669464369358936369            SUGAR时尚手机\n-5019277647504317457      三星Galaxy Note 2\n 3238009352149731868               华为Mate\n-3883532755183027260              小米MI 2S\n-2972199645857147708              华为G610S\n-5827952925479472594        小米MI One Plus\n-8262508968076336275              vivoS7I\n 5840378295166286440          三星Galaxy S3\n-5776341595519925628              小米MI 2A\n 3437705102632680210          三星Galaxy S3\n-3568334676360016285          三星Galaxy S3\n 556978549708484782                小米MI 2\n 5694497738268412307               小米MI 3\n 6327116114284382479          华为G520-0000\n 773248989809697210             vivoX5Pro\n-686020914357018824               小米MI 2S\n 6936613487637228956                魅族MX2\n-3875043166283300758      三星Galaxy Note 2\n-6964140211214884922              小米MI 2S\n-30236203766311351                小米MI 2S\n 4887985552773989409            vivoXplay\n 7206202610070842107      三星Galaxy Note 2\n-39620037751344714                小米MI 2S\n 7223189369472462826               酷派7270\n-3998002640294516352            天语Touch 3\n 2527845705328727233            OPPOR2017\n-3157952721100703520      三星Galaxy Note 2\n                              ...        \n 42372237331287236                OPPOR7s\n 5227968728585496675            OPPOR813T\n 7793779831192048252              OPPOR1S\n-744475600656645305      三星Galaxy S7 Edge\n 3608110452636220010            努比亚My 布拉格\n-8618225365386360981                LGL22\n 2275764314427946733             华为Mate 8\n-2334418817028672523              OPPOA53\n-4449937638303316446           华为荣耀6 plus\n 1565799471880375963              金立GN151\n 7345944586031224659          华为Ascend P8\n-8541422542047946093           OPPOFind 5\n-4980799589632292473              酷派5263S\n-4982005935723339332            乐视超级手机Max\n-2200024706981051998             小米红米note\n 4088225607463878385      三星Galaxy Note 3\n 4533938230389516114             联想黄金斗士A8\n 2991768363764912164    三星Galaxy S6 Edge+\n-8903406387941280700               OPPOR9\n-6424608528529231693            小米红米Note2\n-2998819981424937912          三星Galaxy A8\n 2397799423340611378          三星Galaxy S5\n 2639235301715597247              OPPOA33\n 3884484562161888663             OPPO1100\n-6564340457392363163             中兴Axon天机\n 3210973037848940984              小米MI 2S\n 7979541072208733273               小米MI 4\n-187404680852357705                 小米红米2\n-2718274279595622821               小米MI 3\n 3098391762071677791               vivoX1\nName: phone_brand, dtype: object"
     },
     "execution_count": 41,
     "metadata": {},
     "output_type": "execute_result"
    }
   ],
   "metadata": {}
  },
  {
   "cell_type": "code",
   "source": "m.unique().shape",
   "execution_count": 39,
   "outputs": [
    {
     "data": {
      "text/plain": "(1667,)"
     },
     "execution_count": 39,
     "metadata": {},
     "output_type": "execute_result"
    }
   ],
   "metadata": {}
  },
  {
   "cell_type": "code",
   "source": "phone.device_model.unique().shape",
   "execution_count": 40,
   "outputs": [
    {
     "data": {
      "text/plain": "(1599,)"
     },
     "execution_count": 40,
     "metadata": {},
     "output_type": "execute_result"
    }
   ],
   "metadata": {}
  },
  {
   "cell_type": "code",
   "source": "m = phone.phone_brand.str.cat(phone.device_model)\nmodelencoder = LabelEncoder().fit(m)\nphone['model'] = modelencoder.transform(m)\ngatrain['model'] = phone['model']\ngatest['model'] = phone['model']\nXtr_model = csr_matrix((np.ones(gatrain.shape[0]), \n                       (gatrain.trainrow, gatrain.model)))\nXte_model = csr_matrix((np.ones(gatest.shape[0]), \n                       (gatest.testrow, gatest.model)))\nprint('Model features: train shape {}, test shape {}'.format(Xtr_model.shape, Xte_model.shape))",
   "execution_count": 42,
   "outputs": [
    {
     "name": "stdout",
     "output_type": "stream",
     "text": "Model features: train shape (74645, 1667), test shape (112071, 1667)\n"
    }
   ],
   "metadata": {}
  },
  {
   "cell_type": "code",
   "source": "b = pd.DataFrame(Xtr_model.toarray())",
   "execution_count": 43,
   "outputs": [],
   "metadata": {}
  },
  {
   "cell_type": "code",
   "source": "phone.model.min()",
   "execution_count": 54,
   "outputs": [
    {
     "data": {
      "text/plain": "0"
     },
     "execution_count": 54,
     "metadata": {},
     "output_type": "execute_result"
    }
   ],
   "metadata": {}
  },
  {
   "cell_type": "code",
   "source": null,
   "execution_count": null,
   "outputs": [],
   "metadata": {}
  }
 ]
}