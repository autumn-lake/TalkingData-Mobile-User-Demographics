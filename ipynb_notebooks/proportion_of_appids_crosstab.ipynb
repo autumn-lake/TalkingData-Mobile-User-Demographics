{
 "cells": [
  {
   "cell_type": "code",
   "execution_count": 1,
   "metadata": {
    "collapsed": true
   },
   "outputs": [],
   "source": [
    "import pandas as pd\n",
    "import numpy as np\n",
    "from scipy.sparse import csr_matrix\n",
    "\n",
    "def save_sparse_csr(filename,array):\n",
    "    np.savez(filename,data = array.data ,indices=array.indices,\n",
    "             indptr =array.indptr, shape=array.shape )\n",
    "\n",
    "def load_sparse_csr(filename):\n",
    "    loader = np.load(filename)\n",
    "    return csr_matrix((  loader['data'], loader['indices'], loader['indptr']),\n",
    "                         shape = loader['shape'])"
   ]
  },
  {
   "cell_type": "code",
   "execution_count": 2,
   "metadata": {
    "collapsed": true
   },
   "outputs": [],
   "source": [
    "df = pd.read_hdf('events_data.hdf5','table')"
   ]
  },
  {
   "cell_type": "code",
   "execution_count": 3,
   "metadata": {
    "collapsed": false
   },
   "outputs": [
    {
     "data": {
      "text/plain": [
       "32423"
      ]
     },
     "execution_count": 3,
     "metadata": {},
     "output_type": "execute_result"
    }
   ],
   "source": [
    "f = df.groupby(['app_id','device_id'])['is_active'].agg(['count'])\n",
    "\n",
    "g = df.groupby(['app_id','device_id'])['is_active'].mean()\n",
    "\n",
    "i = pd.DataFrame(g)\n",
    "\n",
    "j = i.unstack('device_id')\n",
    "\n",
    "h = f.unstack('device_id')\n",
    "\n",
    "h.fillna(0,inplace=True)\n",
    "\n",
    "j.fillna(0,inplace=True)\n",
    "\n",
    "h[h<8]=0\n",
    "\n",
    "h[h>=8]=1\n",
    "\n",
    "((h.sum())>0).sum()"
   ]
  },
  {
   "cell_type": "code",
   "execution_count": 4,
   "metadata": {
    "collapsed": false
   },
   "outputs": [
    {
     "data": {
      "text/plain": [
       "True"
      ]
     },
     "execution_count": 4,
     "metadata": {},
     "output_type": "execute_result"
    }
   ],
   "source": [
    "j.columns = j.columns.droplevel()\n",
    "h.columns = h.columns.droplevel()\n",
    "\n",
    "h.sort_index(axis=1,ascending=True,inplace=True)\n",
    "j.sort_index(axis=1,ascending=True,inplace=True)\n",
    "h.sort_index(axis=0,ascending=True,inplace=True)\n",
    "j.sort_index(axis=0,ascending=True,inplace=True)\n",
    "\n",
    "list(j.columns.values)==list(h.columns.values)"
   ]
  },
  {
   "cell_type": "code",
   "execution_count": 5,
   "metadata": {
    "collapsed": false
   },
   "outputs": [
    {
     "data": {
      "text/html": [
       "<div>\n",
       "<table border=\"1\" class=\"dataframe\">\n",
       "  <thead>\n",
       "    <tr style=\"text-align: right;\">\n",
       "      <th>device_id</th>\n",
       "      <th>-9222956879900151005</th>\n",
       "      <th>-9222661944218806987</th>\n",
       "      <th>-9222399302879214035</th>\n",
       "      <th>-9221825537663503111</th>\n",
       "      <th>-9221767098072603291</th>\n",
       "      <th>-9221079146476055829</th>\n",
       "      <th>-9221026417907250887</th>\n",
       "      <th>-9220830859283101130</th>\n",
       "      <th>-9220452176650064280</th>\n",
       "      <th>-9220329415676028483</th>\n",
       "      <th>...</th>\n",
       "      <th>9219164468944552013</th>\n",
       "      <th>9219842210460037807</th>\n",
       "      <th>9219937375310355234</th>\n",
       "      <th>9220562120895859549</th>\n",
       "      <th>9220814716773471568</th>\n",
       "      <th>9220914901466458680</th>\n",
       "      <th>9221586026451102237</th>\n",
       "      <th>9222110179000857683</th>\n",
       "      <th>9222355582733155698</th>\n",
       "      <th>9222539910510672930</th>\n",
       "    </tr>\n",
       "    <tr>\n",
       "      <th>app_id</th>\n",
       "      <th></th>\n",
       "      <th></th>\n",
       "      <th></th>\n",
       "      <th></th>\n",
       "      <th></th>\n",
       "      <th></th>\n",
       "      <th></th>\n",
       "      <th></th>\n",
       "      <th></th>\n",
       "      <th></th>\n",
       "      <th></th>\n",
       "      <th></th>\n",
       "      <th></th>\n",
       "      <th></th>\n",
       "      <th></th>\n",
       "      <th></th>\n",
       "      <th></th>\n",
       "      <th></th>\n",
       "      <th></th>\n",
       "      <th></th>\n",
       "      <th></th>\n",
       "    </tr>\n",
       "  </thead>\n",
       "  <tbody>\n",
       "    <tr>\n",
       "      <th>-9221156934682287334</th>\n",
       "      <td>0.0</td>\n",
       "      <td>0.0</td>\n",
       "      <td>0.0</td>\n",
       "      <td>0.0</td>\n",
       "      <td>0.0</td>\n",
       "      <td>0.0</td>\n",
       "      <td>0.0</td>\n",
       "      <td>0.0</td>\n",
       "      <td>0.0</td>\n",
       "      <td>0.0</td>\n",
       "      <td>...</td>\n",
       "      <td>0.0</td>\n",
       "      <td>0.0</td>\n",
       "      <td>0.0</td>\n",
       "      <td>0.0</td>\n",
       "      <td>0.0</td>\n",
       "      <td>0.0</td>\n",
       "      <td>0.0</td>\n",
       "      <td>0.0</td>\n",
       "      <td>0.0</td>\n",
       "      <td>0.0</td>\n",
       "    </tr>\n",
       "    <tr>\n",
       "      <th>-9220899153371182692</th>\n",
       "      <td>0.0</td>\n",
       "      <td>0.0</td>\n",
       "      <td>0.0</td>\n",
       "      <td>0.0</td>\n",
       "      <td>0.0</td>\n",
       "      <td>0.0</td>\n",
       "      <td>0.0</td>\n",
       "      <td>0.0</td>\n",
       "      <td>0.0</td>\n",
       "      <td>0.0</td>\n",
       "      <td>...</td>\n",
       "      <td>0.0</td>\n",
       "      <td>0.0</td>\n",
       "      <td>0.0</td>\n",
       "      <td>0.0</td>\n",
       "      <td>0.0</td>\n",
       "      <td>0.0</td>\n",
       "      <td>0.0</td>\n",
       "      <td>0.0</td>\n",
       "      <td>0.0</td>\n",
       "      <td>0.0</td>\n",
       "    </tr>\n",
       "    <tr>\n",
       "      <th>-9218487885271516150</th>\n",
       "      <td>0.0</td>\n",
       "      <td>0.0</td>\n",
       "      <td>0.0</td>\n",
       "      <td>0.0</td>\n",
       "      <td>0.0</td>\n",
       "      <td>0.0</td>\n",
       "      <td>0.0</td>\n",
       "      <td>0.0</td>\n",
       "      <td>0.0</td>\n",
       "      <td>0.0</td>\n",
       "      <td>...</td>\n",
       "      <td>0.0</td>\n",
       "      <td>0.0</td>\n",
       "      <td>0.0</td>\n",
       "      <td>0.0</td>\n",
       "      <td>0.0</td>\n",
       "      <td>0.0</td>\n",
       "      <td>0.0</td>\n",
       "      <td>0.0</td>\n",
       "      <td>0.0</td>\n",
       "      <td>0.0</td>\n",
       "    </tr>\n",
       "    <tr>\n",
       "      <th>-9218487885267037129</th>\n",
       "      <td>0.0</td>\n",
       "      <td>0.0</td>\n",
       "      <td>0.0</td>\n",
       "      <td>0.0</td>\n",
       "      <td>0.0</td>\n",
       "      <td>0.0</td>\n",
       "      <td>0.0</td>\n",
       "      <td>0.0</td>\n",
       "      <td>0.0</td>\n",
       "      <td>0.0</td>\n",
       "      <td>...</td>\n",
       "      <td>0.0</td>\n",
       "      <td>0.0</td>\n",
       "      <td>0.0</td>\n",
       "      <td>0.0</td>\n",
       "      <td>0.0</td>\n",
       "      <td>0.0</td>\n",
       "      <td>0.0</td>\n",
       "      <td>0.0</td>\n",
       "      <td>0.0</td>\n",
       "      <td>0.0</td>\n",
       "    </tr>\n",
       "    <tr>\n",
       "      <th>-9218310540360546691</th>\n",
       "      <td>0.0</td>\n",
       "      <td>0.0</td>\n",
       "      <td>0.0</td>\n",
       "      <td>0.0</td>\n",
       "      <td>0.0</td>\n",
       "      <td>0.0</td>\n",
       "      <td>0.0</td>\n",
       "      <td>0.0</td>\n",
       "      <td>0.0</td>\n",
       "      <td>0.0</td>\n",
       "      <td>...</td>\n",
       "      <td>0.0</td>\n",
       "      <td>0.0</td>\n",
       "      <td>0.0</td>\n",
       "      <td>0.0</td>\n",
       "      <td>0.0</td>\n",
       "      <td>0.0</td>\n",
       "      <td>0.0</td>\n",
       "      <td>0.0</td>\n",
       "      <td>0.0</td>\n",
       "      <td>0.0</td>\n",
       "    </tr>\n",
       "  </tbody>\n",
       "</table>\n",
       "<p>5 rows × 60822 columns</p>\n",
       "</div>"
      ],
      "text/plain": [
       "device_id             -9222956879900151005  -9222661944218806987  \\\n",
       "app_id                                                             \n",
       "-9221156934682287334                   0.0                   0.0   \n",
       "-9220899153371182692                   0.0                   0.0   \n",
       "-9218487885271516150                   0.0                   0.0   \n",
       "-9218487885267037129                   0.0                   0.0   \n",
       "-9218310540360546691                   0.0                   0.0   \n",
       "\n",
       "device_id             -9222399302879214035  -9221825537663503111  \\\n",
       "app_id                                                             \n",
       "-9221156934682287334                   0.0                   0.0   \n",
       "-9220899153371182692                   0.0                   0.0   \n",
       "-9218487885271516150                   0.0                   0.0   \n",
       "-9218487885267037129                   0.0                   0.0   \n",
       "-9218310540360546691                   0.0                   0.0   \n",
       "\n",
       "device_id             -9221767098072603291  -9221079146476055829  \\\n",
       "app_id                                                             \n",
       "-9221156934682287334                   0.0                   0.0   \n",
       "-9220899153371182692                   0.0                   0.0   \n",
       "-9218487885271516150                   0.0                   0.0   \n",
       "-9218487885267037129                   0.0                   0.0   \n",
       "-9218310540360546691                   0.0                   0.0   \n",
       "\n",
       "device_id             -9221026417907250887  -9220830859283101130  \\\n",
       "app_id                                                             \n",
       "-9221156934682287334                   0.0                   0.0   \n",
       "-9220899153371182692                   0.0                   0.0   \n",
       "-9218487885271516150                   0.0                   0.0   \n",
       "-9218487885267037129                   0.0                   0.0   \n",
       "-9218310540360546691                   0.0                   0.0   \n",
       "\n",
       "device_id             -9220452176650064280  -9220329415676028483  \\\n",
       "app_id                                                             \n",
       "-9221156934682287334                   0.0                   0.0   \n",
       "-9220899153371182692                   0.0                   0.0   \n",
       "-9218487885271516150                   0.0                   0.0   \n",
       "-9218487885267037129                   0.0                   0.0   \n",
       "-9218310540360546691                   0.0                   0.0   \n",
       "\n",
       "device_id                     ...            9219164468944552013  \\\n",
       "app_id                        ...                                  \n",
       "-9221156934682287334          ...                            0.0   \n",
       "-9220899153371182692          ...                            0.0   \n",
       "-9218487885271516150          ...                            0.0   \n",
       "-9218487885267037129          ...                            0.0   \n",
       "-9218310540360546691          ...                            0.0   \n",
       "\n",
       "device_id              9219842210460037807   9219937375310355234  \\\n",
       "app_id                                                             \n",
       "-9221156934682287334                   0.0                   0.0   \n",
       "-9220899153371182692                   0.0                   0.0   \n",
       "-9218487885271516150                   0.0                   0.0   \n",
       "-9218487885267037129                   0.0                   0.0   \n",
       "-9218310540360546691                   0.0                   0.0   \n",
       "\n",
       "device_id              9220562120895859549   9220814716773471568  \\\n",
       "app_id                                                             \n",
       "-9221156934682287334                   0.0                   0.0   \n",
       "-9220899153371182692                   0.0                   0.0   \n",
       "-9218487885271516150                   0.0                   0.0   \n",
       "-9218487885267037129                   0.0                   0.0   \n",
       "-9218310540360546691                   0.0                   0.0   \n",
       "\n",
       "device_id              9220914901466458680   9221586026451102237  \\\n",
       "app_id                                                             \n",
       "-9221156934682287334                   0.0                   0.0   \n",
       "-9220899153371182692                   0.0                   0.0   \n",
       "-9218487885271516150                   0.0                   0.0   \n",
       "-9218487885267037129                   0.0                   0.0   \n",
       "-9218310540360546691                   0.0                   0.0   \n",
       "\n",
       "device_id              9222110179000857683   9222355582733155698  \\\n",
       "app_id                                                             \n",
       "-9221156934682287334                   0.0                   0.0   \n",
       "-9220899153371182692                   0.0                   0.0   \n",
       "-9218487885271516150                   0.0                   0.0   \n",
       "-9218487885267037129                   0.0                   0.0   \n",
       "-9218310540360546691                   0.0                   0.0   \n",
       "\n",
       "device_id              9222539910510672930  \n",
       "app_id                                      \n",
       "-9221156934682287334                   0.0  \n",
       "-9220899153371182692                   0.0  \n",
       "-9218487885271516150                   0.0  \n",
       "-9218487885267037129                   0.0  \n",
       "-9218310540360546691                   0.0  \n",
       "\n",
       "[5 rows x 60822 columns]"
      ]
     },
     "execution_count": 5,
     "metadata": {},
     "output_type": "execute_result"
    }
   ],
   "source": [
    "j.head()"
   ]
  },
  {
   "cell_type": "code",
   "execution_count": 6,
   "metadata": {
    "collapsed": true
   },
   "outputs": [],
   "source": [
    "k = csr_matrix(j)\n",
    "l = csr_matrix(h)\n",
    "m = k.multiply(l)\n",
    "\n",
    "n = pd.DataFrame(m.toarray())\n",
    "\n",
    "n.columns = list(j.columns.values)\n",
    "\n",
    "n.index = list(j.index.values)\n",
    "\n",
    "o = csr_matrix(n)"
   ]
  },
  {
   "cell_type": "code",
   "execution_count": 8,
   "metadata": {
    "collapsed": false
   },
   "outputs": [],
   "source": [
    "cols = pd.Series(n.columns)\n",
    "rows = pd.Series(n.index)"
   ]
  },
  {
   "cell_type": "code",
   "execution_count": 13,
   "metadata": {
    "collapsed": false
   },
   "outputs": [],
   "source": [
    "cols.to_csv('cols.csv',index_label='index',header=True)"
   ]
  },
  {
   "cell_type": "code",
   "execution_count": 14,
   "metadata": {
    "collapsed": true
   },
   "outputs": [],
   "source": [
    "rows.to_csv('rows.csv',index_label='index',header=True)"
   ]
  },
  {
   "cell_type": "code",
   "execution_count": 9,
   "metadata": {
    "collapsed": true
   },
   "outputs": [],
   "source": [
    "save_sparse_csr('crosstab_device_appid_>=8',o)"
   ]
  },
  {
   "cell_type": "code",
   "execution_count": null,
   "metadata": {
    "collapsed": true
   },
   "outputs": [],
   "source": []
  }
 ],
 "metadata": {
  "anaconda-cloud": {},
  "kernelspec": {
   "display_name": "Python [Root]",
   "language": "python",
   "name": "Python [Root]"
  },
  "language_info": {
   "codemirror_mode": {
    "name": "ipython",
    "version": 3
   },
   "file_extension": ".py",
   "mimetype": "text/x-python",
   "name": "python",
   "nbconvert_exporter": "python",
   "pygments_lexer": "ipython3",
   "version": "3.5.2"
  }
 },
 "nbformat": 4,
 "nbformat_minor": 0
}
