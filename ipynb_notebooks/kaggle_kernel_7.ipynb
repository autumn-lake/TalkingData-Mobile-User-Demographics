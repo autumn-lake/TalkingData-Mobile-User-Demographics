{
 "cells": [
  {
   "cell_type": "code",
   "execution_count": 1,
   "metadata": {
    "collapsed": false
   },
   "outputs": [],
   "source": [
    "import pandas as pd\n",
    "import numpy as np\n",
    "%matplotlib inline\n",
    "#import seaborn as sns\n",
    "import matplotlib.pyplot as plt\n",
    "import os\n",
    "from sklearn.preprocessing import LabelEncoder\n",
    "from scipy.sparse import csr_matrix, hstack\n",
    "from sklearn.linear_model import LogisticRegression\n",
    "from sklearn.cross_validation import StratifiedKFold\n",
    "from sklearn.metrics import log_loss"
   ]
  },
  {
   "cell_type": "code",
   "execution_count": 2,
   "metadata": {
    "collapsed": true
   },
   "outputs": [],
   "source": [
    "datadir = 'input/'\n",
    "gatrain = pd.read_csv(os.path.join(datadir,'gender_age_train.csv'),\n",
    "                      index_col='device_id')\n",
    "gatest = pd.read_csv(os.path.join(datadir,'gender_age_test.csv'),\n",
    "                     index_col = 'device_id')\n",
    "phone = pd.read_csv(os.path.join(datadir,'phone_brand_device_model.csv'))\n",
    "# Get rid of duplicate device ids in phone \n",
    "phone = phone.drop_duplicates('device_id',keep='first').set_index('device_id')\n",
    "events = pd.read_csv(os.path.join(datadir,'events.csv'),\n",
    "                     parse_dates=['timestamp'], index_col='event_id')\n",
    "appevents = pd.read_csv(os.path.join(datadir,'app_events.csv'), \n",
    "                        usecols=['event_id','app_id','is_active'],\n",
    "                        dtype={'is_active':bool})\n",
    "applabels = pd.read_csv(os.path.join(datadir,'app_labels.csv'))"
   ]
  },
  {
   "cell_type": "code",
   "execution_count": 3,
   "metadata": {
    "collapsed": true
   },
   "outputs": [],
   "source": [
    "gatrain['trainrow'] = np.arange(gatrain.shape[0])\n",
    "gatest['testrow'] = np.arange(gatest.shape[0])"
   ]
  },
  {
   "cell_type": "code",
   "execution_count": 4,
   "metadata": {
    "collapsed": false
   },
   "outputs": [
    {
     "name": "stdout",
     "output_type": "stream",
     "text": [
      "Brand features: train shape (74645, 131), test shape (112071, 131)\n"
     ]
    }
   ],
   "source": [
    "brandencoder = LabelEncoder().fit(phone.phone_brand)\n",
    "phone['brand'] = brandencoder.transform(phone['phone_brand'])\n",
    "gatrain['brand'] = phone['brand']\n",
    "gatest['brand'] = phone['brand']\n",
    "Xtr_brand = csr_matrix((np.ones(gatrain.shape[0]), \n",
    "                       (gatrain.trainrow, gatrain.brand)))\n",
    "Xte_brand = csr_matrix((np.ones(gatest.shape[0]), \n",
    "                       (gatest.testrow, gatest.brand)))\n",
    "print('Brand features: train shape {}, test shape {}'.format(Xtr_brand.shape, Xte_brand.shape))"
   ]
  },
  {
   "cell_type": "code",
   "execution_count": 5,
   "metadata": {
    "collapsed": false
   },
   "outputs": [
    {
     "name": "stdout",
     "output_type": "stream",
     "text": [
      "Model features: train shape (74645, 1667), test shape (112071, 1667)\n"
     ]
    }
   ],
   "source": [
    "m = phone.phone_brand.str.cat(phone.device_model)\n",
    "modelencoder = LabelEncoder().fit(m)\n",
    "phone['model'] = modelencoder.transform(m)\n",
    "gatrain['model'] = phone['model']\n",
    "gatest['model'] = phone['model']\n",
    "Xtr_model = csr_matrix((np.ones(gatrain.shape[0]), \n",
    "                       (gatrain.trainrow, gatrain.model)))\n",
    "Xte_model = csr_matrix((np.ones(gatest.shape[0]), \n",
    "                       (gatest.testrow, gatest.model)))\n",
    "print('Model features: train shape {}, test shape {}'.format(Xtr_model.shape, Xte_model.shape))"
   ]
  },
  {
   "cell_type": "code",
   "execution_count": 33,
   "metadata": {
    "collapsed": false
   },
   "outputs": [
    {
     "data": {
      "text/html": [
       "<div>\n",
       "<table border=\"1\" class=\"dataframe\">\n",
       "  <thead>\n",
       "    <tr style=\"text-align: right;\">\n",
       "      <th></th>\n",
       "      <th>event_id</th>\n",
       "      <th>app_id</th>\n",
       "      <th>is_active</th>\n",
       "      <th>app</th>\n",
       "    </tr>\n",
       "  </thead>\n",
       "  <tbody>\n",
       "    <tr>\n",
       "      <th>0</th>\n",
       "      <td>2</td>\n",
       "      <td>5927333115845830913</td>\n",
       "      <td>True</td>\n",
       "      <td>15408</td>\n",
       "    </tr>\n",
       "    <tr>\n",
       "      <th>1</th>\n",
       "      <td>2</td>\n",
       "      <td>-5720078949152207372</td>\n",
       "      <td>False</td>\n",
       "      <td>3384</td>\n",
       "    </tr>\n",
       "    <tr>\n",
       "      <th>2</th>\n",
       "      <td>2</td>\n",
       "      <td>-1633887856876571208</td>\n",
       "      <td>False</td>\n",
       "      <td>7620</td>\n",
       "    </tr>\n",
       "    <tr>\n",
       "      <th>3</th>\n",
       "      <td>2</td>\n",
       "      <td>-653184325010919369</td>\n",
       "      <td>True</td>\n",
       "      <td>8902</td>\n",
       "    </tr>\n",
       "    <tr>\n",
       "      <th>4</th>\n",
       "      <td>2</td>\n",
       "      <td>8693964245073640147</td>\n",
       "      <td>True</td>\n",
       "      <td>18686</td>\n",
       "    </tr>\n",
       "  </tbody>\n",
       "</table>\n",
       "</div>"
      ],
      "text/plain": [
       "   event_id               app_id is_active    app\n",
       "0         2  5927333115845830913      True  15408\n",
       "1         2 -5720078949152207372     False   3384\n",
       "2         2 -1633887856876571208     False   7620\n",
       "3         2  -653184325010919369      True   8902\n",
       "4         2  8693964245073640147      True  18686"
      ]
     },
     "execution_count": 33,
     "metadata": {},
     "output_type": "execute_result"
    }
   ],
   "source": [
    "appevents.head()"
   ]
  },
  {
   "cell_type": "code",
   "execution_count": 9,
   "metadata": {
    "collapsed": true
   },
   "outputs": [],
   "source": [
    "appencoder = LabelEncoder().fit(appevents.app_id)\n",
    "appevents['app'] = appencoder.transform(appevents.app_id)\n",
    "napps = len(appencoder.classes_)"
   ]
  },
  {
   "cell_type": "code",
   "execution_count": 16,
   "metadata": {
    "collapsed": false
   },
   "outputs": [],
   "source": [
    "a = list(events[events.device_id==-9222956879900151005].index)"
   ]
  },
  {
   "cell_type": "code",
   "execution_count": 21,
   "metadata": {
    "collapsed": false
   },
   "outputs": [],
   "source": [
    "df = appevents[appevents['event_id'].isin(a)]"
   ]
  },
  {
   "cell_type": "code",
   "execution_count": 34,
   "metadata": {
    "collapsed": false
   },
   "outputs": [
    {
     "data": {
      "text/html": [
       "<div>\n",
       "<table border=\"1\" class=\"dataframe\">\n",
       "  <thead>\n",
       "    <tr style=\"text-align: right;\">\n",
       "      <th></th>\n",
       "      <th>event_id</th>\n",
       "      <th>app_id</th>\n",
       "      <th>is_active</th>\n",
       "      <th>app</th>\n",
       "    </tr>\n",
       "  </thead>\n",
       "  <tbody>\n",
       "    <tr>\n",
       "      <th>134870</th>\n",
       "      <td>11281</td>\n",
       "      <td>-7937802522076404023</td>\n",
       "      <td>False</td>\n",
       "      <td>1248</td>\n",
       "    </tr>\n",
       "    <tr>\n",
       "      <th>134871</th>\n",
       "      <td>11281</td>\n",
       "      <td>5861860846205000600</td>\n",
       "      <td>False</td>\n",
       "      <td>15328</td>\n",
       "    </tr>\n",
       "    <tr>\n",
       "      <th>134872</th>\n",
       "      <td>11281</td>\n",
       "      <td>-1633857878693155547</td>\n",
       "      <td>False</td>\n",
       "      <td>7673</td>\n",
       "    </tr>\n",
       "    <tr>\n",
       "      <th>134873</th>\n",
       "      <td>11281</td>\n",
       "      <td>-506173428906005275</td>\n",
       "      <td>False</td>\n",
       "      <td>9117</td>\n",
       "    </tr>\n",
       "    <tr>\n",
       "      <th>134874</th>\n",
       "      <td>11281</td>\n",
       "      <td>-1200607960388315089</td>\n",
       "      <td>False</td>\n",
       "      <td>8198</td>\n",
       "    </tr>\n",
       "  </tbody>\n",
       "</table>\n",
       "</div>"
      ],
      "text/plain": [
       "        event_id               app_id is_active    app\n",
       "134870     11281 -7937802522076404023     False   1248\n",
       "134871     11281  5861860846205000600     False  15328\n",
       "134872     11281 -1633857878693155547     False   7673\n",
       "134873     11281  -506173428906005275     False   9117\n",
       "134874     11281 -1200607960388315089     False   8198"
      ]
     },
     "execution_count": 34,
     "metadata": {},
     "output_type": "execute_result"
    }
   ],
   "source": [
    "df.head()"
   ]
  },
  {
   "cell_type": "code",
   "execution_count": 83,
   "metadata": {
    "collapsed": false
   },
   "outputs": [
    {
     "data": {
      "text/html": [
       "<div>\n",
       "<table border=\"1\" class=\"dataframe\">\n",
       "  <thead>\n",
       "    <tr style=\"text-align: right;\">\n",
       "      <th></th>\n",
       "      <th>event_id</th>\n",
       "      <th>app_id</th>\n",
       "      <th>is_active</th>\n",
       "      <th>app</th>\n",
       "    </tr>\n",
       "  </thead>\n",
       "  <tbody>\n",
       "    <tr>\n",
       "      <th>1352</th>\n",
       "      <td>112</td>\n",
       "      <td>-8670045756254444686</td>\n",
       "      <td>False</td>\n",
       "      <td>548</td>\n",
       "    </tr>\n",
       "    <tr>\n",
       "      <th>1984</th>\n",
       "      <td>138</td>\n",
       "      <td>-8670045756254444686</td>\n",
       "      <td>False</td>\n",
       "      <td>548</td>\n",
       "    </tr>\n",
       "    <tr>\n",
       "      <th>4865</th>\n",
       "      <td>313</td>\n",
       "      <td>-8670045756254444686</td>\n",
       "      <td>False</td>\n",
       "      <td>548</td>\n",
       "    </tr>\n",
       "    <tr>\n",
       "      <th>5235</th>\n",
       "      <td>337</td>\n",
       "      <td>-8670045756254444686</td>\n",
       "      <td>False</td>\n",
       "      <td>548</td>\n",
       "    </tr>\n",
       "    <tr>\n",
       "      <th>6562</th>\n",
       "      <td>408</td>\n",
       "      <td>-8670045756254444686</td>\n",
       "      <td>False</td>\n",
       "      <td>548</td>\n",
       "    </tr>\n",
       "  </tbody>\n",
       "</table>\n",
       "</div>"
      ],
      "text/plain": [
       "      event_id               app_id is_active  app\n",
       "1352       112 -8670045756254444686     False  548\n",
       "1984       138 -8670045756254444686     False  548\n",
       "4865       313 -8670045756254444686     False  548\n",
       "5235       337 -8670045756254444686     False  548\n",
       "6562       408 -8670045756254444686     False  548"
      ]
     },
     "execution_count": 83,
     "metadata": {},
     "output_type": "execute_result"
    }
   ],
   "source": [
    "appevents[appevents.app==548].head()"
   ]
  },
  {
   "cell_type": "code",
   "execution_count": 29,
   "metadata": {
    "collapsed": false
   },
   "outputs": [
    {
     "data": {
      "text/html": [
       "<div>\n",
       "<table border=\"1\" class=\"dataframe\">\n",
       "  <thead>\n",
       "    <tr style=\"text-align: right;\">\n",
       "      <th></th>\n",
       "      <th>event_id</th>\n",
       "      <th>app_id</th>\n",
       "      <th>is_active</th>\n",
       "      <th>app</th>\n",
       "    </tr>\n",
       "  </thead>\n",
       "  <tbody>\n",
       "    <tr>\n",
       "      <th>134918</th>\n",
       "      <td>11281</td>\n",
       "      <td>-8670045756254444686</td>\n",
       "      <td>False</td>\n",
       "      <td>548</td>\n",
       "    </tr>\n",
       "    <tr>\n",
       "      <th>2056191</th>\n",
       "      <td>205471</td>\n",
       "      <td>-8670045756254444686</td>\n",
       "      <td>False</td>\n",
       "      <td>548</td>\n",
       "    </tr>\n",
       "    <tr>\n",
       "      <th>2107001</th>\n",
       "      <td>211711</td>\n",
       "      <td>-8670045756254444686</td>\n",
       "      <td>False</td>\n",
       "      <td>548</td>\n",
       "    </tr>\n",
       "    <tr>\n",
       "      <th>3434827</th>\n",
       "      <td>341279</td>\n",
       "      <td>-8670045756254444686</td>\n",
       "      <td>False</td>\n",
       "      <td>548</td>\n",
       "    </tr>\n",
       "    <tr>\n",
       "      <th>4482565</th>\n",
       "      <td>446042</td>\n",
       "      <td>-8670045756254444686</td>\n",
       "      <td>False</td>\n",
       "      <td>548</td>\n",
       "    </tr>\n",
       "    <tr>\n",
       "      <th>4522855</th>\n",
       "      <td>450249</td>\n",
       "      <td>-8670045756254444686</td>\n",
       "      <td>False</td>\n",
       "      <td>548</td>\n",
       "    </tr>\n",
       "    <tr>\n",
       "      <th>5534459</th>\n",
       "      <td>554351</td>\n",
       "      <td>-8670045756254444686</td>\n",
       "      <td>False</td>\n",
       "      <td>548</td>\n",
       "    </tr>\n",
       "    <tr>\n",
       "      <th>6605064</th>\n",
       "      <td>662820</td>\n",
       "      <td>-8670045756254444686</td>\n",
       "      <td>True</td>\n",
       "      <td>548</td>\n",
       "    </tr>\n",
       "    <tr>\n",
       "      <th>7934959</th>\n",
       "      <td>796155</td>\n",
       "      <td>-8670045756254444686</td>\n",
       "      <td>False</td>\n",
       "      <td>548</td>\n",
       "    </tr>\n",
       "    <tr>\n",
       "      <th>9246520</th>\n",
       "      <td>926370</td>\n",
       "      <td>-8670045756254444686</td>\n",
       "      <td>False</td>\n",
       "      <td>548</td>\n",
       "    </tr>\n",
       "    <tr>\n",
       "      <th>11158246</th>\n",
       "      <td>1117996</td>\n",
       "      <td>-8670045756254444686</td>\n",
       "      <td>True</td>\n",
       "      <td>548</td>\n",
       "    </tr>\n",
       "    <tr>\n",
       "      <th>11785093</th>\n",
       "      <td>1180629</td>\n",
       "      <td>-8670045756254444686</td>\n",
       "      <td>False</td>\n",
       "      <td>548</td>\n",
       "    </tr>\n",
       "    <tr>\n",
       "      <th>13132844</th>\n",
       "      <td>1315995</td>\n",
       "      <td>-8670045756254444686</td>\n",
       "      <td>False</td>\n",
       "      <td>548</td>\n",
       "    </tr>\n",
       "    <tr>\n",
       "      <th>17706938</th>\n",
       "      <td>1772031</td>\n",
       "      <td>-8670045756254444686</td>\n",
       "      <td>False</td>\n",
       "      <td>548</td>\n",
       "    </tr>\n",
       "    <tr>\n",
       "      <th>20846477</th>\n",
       "      <td>2084996</td>\n",
       "      <td>-8670045756254444686</td>\n",
       "      <td>False</td>\n",
       "      <td>548</td>\n",
       "    </tr>\n",
       "    <tr>\n",
       "      <th>24585550</th>\n",
       "      <td>2463851</td>\n",
       "      <td>-8670045756254444686</td>\n",
       "      <td>False</td>\n",
       "      <td>548</td>\n",
       "    </tr>\n",
       "    <tr>\n",
       "      <th>25159693</th>\n",
       "      <td>2517595</td>\n",
       "      <td>-8670045756254444686</td>\n",
       "      <td>True</td>\n",
       "      <td>548</td>\n",
       "    </tr>\n",
       "    <tr>\n",
       "      <th>26967514</th>\n",
       "      <td>2700015</td>\n",
       "      <td>-8670045756254444686</td>\n",
       "      <td>True</td>\n",
       "      <td>548</td>\n",
       "    </tr>\n",
       "  </tbody>\n",
       "</table>\n",
       "</div>"
      ],
      "text/plain": [
       "          event_id               app_id is_active  app\n",
       "134918       11281 -8670045756254444686     False  548\n",
       "2056191     205471 -8670045756254444686     False  548\n",
       "2107001     211711 -8670045756254444686     False  548\n",
       "3434827     341279 -8670045756254444686     False  548\n",
       "4482565     446042 -8670045756254444686     False  548\n",
       "4522855     450249 -8670045756254444686     False  548\n",
       "5534459     554351 -8670045756254444686     False  548\n",
       "6605064     662820 -8670045756254444686      True  548\n",
       "7934959     796155 -8670045756254444686     False  548\n",
       "9246520     926370 -8670045756254444686     False  548\n",
       "11158246   1117996 -8670045756254444686      True  548\n",
       "11785093   1180629 -8670045756254444686     False  548\n",
       "13132844   1315995 -8670045756254444686     False  548\n",
       "17706938   1772031 -8670045756254444686     False  548\n",
       "20846477   2084996 -8670045756254444686     False  548\n",
       "24585550   2463851 -8670045756254444686     False  548\n",
       "25159693   2517595 -8670045756254444686      True  548\n",
       "26967514   2700015 -8670045756254444686      True  548"
      ]
     },
     "execution_count": 29,
     "metadata": {},
     "output_type": "execute_result"
    }
   ],
   "source": [
    "df[df.app==548]"
   ]
  },
  {
   "cell_type": "code",
   "execution_count": 6,
   "metadata": {
    "collapsed": false
   },
   "outputs": [
    {
     "data": {
      "text/html": [
       "<div>\n",
       "<table border=\"1\" class=\"dataframe\">\n",
       "  <thead>\n",
       "    <tr style=\"text-align: right;\">\n",
       "      <th></th>\n",
       "      <th>device_id</th>\n",
       "      <th>app</th>\n",
       "      <th>size</th>\n",
       "      <th>trainrow</th>\n",
       "      <th>testrow</th>\n",
       "    </tr>\n",
       "  </thead>\n",
       "  <tbody>\n",
       "    <tr>\n",
       "      <th>0</th>\n",
       "      <td>-9222956879900151005</td>\n",
       "      <td>548</td>\n",
       "      <td>18</td>\n",
       "      <td>21594.0</td>\n",
       "      <td>NaN</td>\n",
       "    </tr>\n",
       "    <tr>\n",
       "      <th>1</th>\n",
       "      <td>-9222956879900151005</td>\n",
       "      <td>1096</td>\n",
       "      <td>18</td>\n",
       "      <td>21594.0</td>\n",
       "      <td>NaN</td>\n",
       "    </tr>\n",
       "    <tr>\n",
       "      <th>2</th>\n",
       "      <td>-9222956879900151005</td>\n",
       "      <td>1248</td>\n",
       "      <td>26</td>\n",
       "      <td>21594.0</td>\n",
       "      <td>NaN</td>\n",
       "    </tr>\n",
       "    <tr>\n",
       "      <th>3</th>\n",
       "      <td>-9222956879900151005</td>\n",
       "      <td>1545</td>\n",
       "      <td>12</td>\n",
       "      <td>21594.0</td>\n",
       "      <td>NaN</td>\n",
       "    </tr>\n",
       "    <tr>\n",
       "      <th>4</th>\n",
       "      <td>-9222956879900151005</td>\n",
       "      <td>1664</td>\n",
       "      <td>18</td>\n",
       "      <td>21594.0</td>\n",
       "      <td>NaN</td>\n",
       "    </tr>\n",
       "  </tbody>\n",
       "</table>\n",
       "</div>"
      ],
      "text/plain": [
       "             device_id   app  size  trainrow  testrow\n",
       "0 -9222956879900151005   548    18   21594.0      NaN\n",
       "1 -9222956879900151005  1096    18   21594.0      NaN\n",
       "2 -9222956879900151005  1248    26   21594.0      NaN\n",
       "3 -9222956879900151005  1545    12   21594.0      NaN\n",
       "4 -9222956879900151005  1664    18   21594.0      NaN"
      ]
     },
     "execution_count": 6,
     "metadata": {},
     "output_type": "execute_result"
    }
   ],
   "source": [
    "deviceapps = (appevents.merge(events[['device_id']], how='left',left_on='event_id',right_index=True)\n",
    "                       .groupby(['device_id','app'])['app'].agg(['size'])\n",
    "                       .merge(gatrain[['trainrow']], how='left', left_index=True, right_index=True)\n",
    "                       .merge(gatest[['testrow']], how='left', left_index=True, right_index=True)\n",
    "                       .reset_index())\n",
    "deviceapps.head()"
   ]
  },
  {
   "cell_type": "code",
   "execution_count": 7,
   "metadata": {
    "collapsed": false
   },
   "outputs": [
    {
     "name": "stdout",
     "output_type": "stream",
     "text": [
      "Apps data: train shape (74645, 19237), test shape (112071, 19237)\n"
     ]
    }
   ],
   "source": [
    "d = deviceapps.dropna(subset=['trainrow'])\n",
    "Xtr_app = csr_matrix((np.ones(d.shape[0]), (d.trainrow, d.app)), \n",
    "                      shape=(gatrain.shape[0],napps))\n",
    "d = deviceapps.dropna(subset=['testrow'])\n",
    "Xte_app = csr_matrix((np.ones(d.shape[0]), (d.testrow, d.app)), \n",
    "                      shape=(gatest.shape[0],napps))\n",
    "print('Apps data: train shape {}, test shape {}'.format(Xtr_app.shape, Xte_app.shape))"
   ]
  },
  {
   "cell_type": "code",
   "execution_count": 8,
   "metadata": {
    "collapsed": true
   },
   "outputs": [],
   "source": [
    "applabels = applabels.loc[applabels.app_id.isin(appevents.app_id.unique())]\n",
    "applabels['app'] = appencoder.transform(applabels.app_id)\n",
    "labelencoder = LabelEncoder().fit(applabels.label_id)\n",
    "applabels['label'] = labelencoder.transform(applabels.label_id)\n",
    "nlabels = len(labelencoder.classes_)"
   ]
  },
  {
   "cell_type": "code",
   "execution_count": 9,
   "metadata": {
    "collapsed": false
   },
   "outputs": [
    {
     "data": {
      "text/html": [
       "<div>\n",
       "<table border=\"1\" class=\"dataframe\">\n",
       "  <thead>\n",
       "    <tr style=\"text-align: right;\">\n",
       "      <th></th>\n",
       "      <th>device_id</th>\n",
       "      <th>label</th>\n",
       "      <th>size</th>\n",
       "      <th>trainrow</th>\n",
       "      <th>testrow</th>\n",
       "    </tr>\n",
       "  </thead>\n",
       "  <tbody>\n",
       "    <tr>\n",
       "      <th>0</th>\n",
       "      <td>-9222956879900151005</td>\n",
       "      <td>117</td>\n",
       "      <td>1</td>\n",
       "      <td>21594.0</td>\n",
       "      <td>NaN</td>\n",
       "    </tr>\n",
       "    <tr>\n",
       "      <th>1</th>\n",
       "      <td>-9222956879900151005</td>\n",
       "      <td>120</td>\n",
       "      <td>1</td>\n",
       "      <td>21594.0</td>\n",
       "      <td>NaN</td>\n",
       "    </tr>\n",
       "    <tr>\n",
       "      <th>2</th>\n",
       "      <td>-9222956879900151005</td>\n",
       "      <td>126</td>\n",
       "      <td>1</td>\n",
       "      <td>21594.0</td>\n",
       "      <td>NaN</td>\n",
       "    </tr>\n",
       "    <tr>\n",
       "      <th>3</th>\n",
       "      <td>-9222956879900151005</td>\n",
       "      <td>138</td>\n",
       "      <td>2</td>\n",
       "      <td>21594.0</td>\n",
       "      <td>NaN</td>\n",
       "    </tr>\n",
       "    <tr>\n",
       "      <th>4</th>\n",
       "      <td>-9222956879900151005</td>\n",
       "      <td>147</td>\n",
       "      <td>2</td>\n",
       "      <td>21594.0</td>\n",
       "      <td>NaN</td>\n",
       "    </tr>\n",
       "  </tbody>\n",
       "</table>\n",
       "</div>"
      ],
      "text/plain": [
       "             device_id  label  size  trainrow  testrow\n",
       "0 -9222956879900151005    117     1   21594.0      NaN\n",
       "1 -9222956879900151005    120     1   21594.0      NaN\n",
       "2 -9222956879900151005    126     1   21594.0      NaN\n",
       "3 -9222956879900151005    138     2   21594.0      NaN\n",
       "4 -9222956879900151005    147     2   21594.0      NaN"
      ]
     },
     "execution_count": 9,
     "metadata": {},
     "output_type": "execute_result"
    }
   ],
   "source": [
    "devicelabels = (deviceapps[['device_id','app']]\n",
    "                .merge(applabels[['app','label']])\n",
    "                .groupby(['device_id','label'])['app'].agg(['size'])\n",
    "                .merge(gatrain[['trainrow']], how='left', left_index=True, right_index=True)\n",
    "                .merge(gatest[['testrow']], how='left', left_index=True, right_index=True)\n",
    "                .reset_index())\n",
    "devicelabels.head()"
   ]
  },
  {
   "cell_type": "code",
   "execution_count": 10,
   "metadata": {
    "collapsed": false
   },
   "outputs": [
    {
     "name": "stdout",
     "output_type": "stream",
     "text": [
      "Labels data: train shape (74645, 492), test shape (112071, 492)\n"
     ]
    }
   ],
   "source": [
    "d = devicelabels.dropna(subset=['trainrow'])\n",
    "Xtr_label = csr_matrix((np.ones(d.shape[0]), (d.trainrow, d.label)), \n",
    "                      shape=(gatrain.shape[0],nlabels))\n",
    "d = devicelabels.dropna(subset=['testrow'])\n",
    "Xte_label = csr_matrix((np.ones(d.shape[0]), (d.testrow, d.label)), \n",
    "                      shape=(gatest.shape[0],nlabels))\n",
    "print('Labels data: train shape {}, test shape {}'.format(Xtr_label.shape, Xte_label.shape))"
   ]
  },
  {
   "cell_type": "code",
   "execution_count": 11,
   "metadata": {
    "collapsed": false
   },
   "outputs": [
    {
     "name": "stdout",
     "output_type": "stream",
     "text": [
      "All features: train shape (74645, 21527), test shape (112071, 21527)\n"
     ]
    }
   ],
   "source": [
    "Xtrain = hstack((Xtr_brand, Xtr_model, Xtr_app, Xtr_label), format='csr')\n",
    "Xtest =  hstack((Xte_brand, Xte_model, Xte_app, Xte_label), format='csr')\n",
    "print('All features: train shape {}, test shape {}'.format(Xtrain.shape, Xtest.shape))"
   ]
  },
  {
   "cell_type": "code",
   "execution_count": 12,
   "metadata": {
    "collapsed": true
   },
   "outputs": [],
   "source": [
    "targetencoder = LabelEncoder().fit(gatrain.group)\n",
    "y = targetencoder.transform(gatrain.group)\n",
    "nclasses = len(targetencoder.classes_)"
   ]
  },
  {
   "cell_type": "code",
   "execution_count": 16,
   "metadata": {
    "collapsed": true
   },
   "outputs": [],
   "source": [
    "def score(clf, random_state = 667):\n",
    "    kf = StratifiedKFold(y, n_folds=10, shuffle=True, random_state=random_state)\n",
    "    pred = np.zeros((y.shape[0],nclasses))\n",
    "    for itrain, itest in kf:\n",
    "        Xtr, Xte = Xtrain[itrain, :], Xtrain[itest, :]\n",
    "        ytr, yte = y[itrain], y[itest]\n",
    "        clf.fit(Xtr, ytr)\n",
    "        pred[itest,:] = clf.predict_proba(Xte)\n",
    "        # Downsize to one fold only for kernels\n",
    "        #print(\"{:.5f}\".format(log_loss(yte, pred[itest,:])), end=' ')\n",
    "        #return log_loss(yte, pred[itest, :])\n",
    "    #print('')\n",
    "    print(\"{:.5f}\".format(log_loss(y, pred)), end=' ')\n",
    "    return log_loss(y, pred)"
   ]
  },
  {
   "cell_type": "code",
   "execution_count": 14,
   "metadata": {
    "collapsed": false
   },
   "outputs": [
    {
     "name": "stdout",
     "output_type": "stream",
     "text": [
      "[  1.00000000e-05   3.59381366e-05   1.29154967e-04   4.64158883e-04\n",
      "   1.66810054e-03   5.99484250e-03   2.15443469e-02   7.74263683e-02\n",
      "   2.78255940e-01   1.00000000e+00]\n",
      "2.42089 2.41076 2.38880 2.35239 2.31165 2.28323 2.27516 2.29900 2.36632 2.41221 "
     ]
    },
    {
     "data": {
      "image/png": "[encoded data removed]",
      "text/plain": [
       "<matplotlib.figure.Figure at 0x7fc62ed49160>"
      ]
     },
     "metadata": {},
     "output_type": "display_data"
    }
   ],
   "source": [
    "Cs = np.logspace(-5,0,10)\n",
    "print(Cs)\n",
    "res = []\n",
    "for C in Cs:\n",
    "    res.append(score(LogisticRegression(C = C, multi_class='multinomial',solver='lbfgs')))\n",
    "plt.semilogx(Cs, res,'-o');"
   ]
  },
  {
   "cell_type": "code",
   "execution_count": 35,
   "metadata": {
    "collapsed": true
   },
   "outputs": [],
   "source": [
    "applabels = applabels.loc[applabels.app_id.isin(appevents.app_id.unique())]"
   ]
  },
  {
   "cell_type": "code",
   "execution_count": 37,
   "metadata": {
    "collapsed": false
   },
   "outputs": [
    {
     "data": {
      "text/plain": [
       "(78204, 2)"
      ]
     },
     "execution_count": 37,
     "metadata": {},
     "output_type": "execute_result"
    }
   ],
   "source": [
    "applabels.shape"
   ]
  },
  {
   "cell_type": "code",
   "execution_count": 38,
   "metadata": {
    "collapsed": false
   },
   "outputs": [
    {
     "data": {
      "text/plain": [
       "(19237,)"
      ]
     },
     "execution_count": 38,
     "metadata": {},
     "output_type": "execute_result"
    }
   ],
   "source": [
    "applabels.app_id.unique().shape"
   ]
  },
  {
   "cell_type": "code",
   "execution_count": 47,
   "metadata": {
    "collapsed": false
   },
   "outputs": [
    {
     "data": {
      "text/plain": [
       "(492,)"
      ]
     },
     "execution_count": 47,
     "metadata": {},
     "output_type": "execute_result"
    }
   ],
   "source": [
    "applabels.label_id.unique().shape"
   ]
  },
  {
   "cell_type": "code",
   "execution_count": 48,
   "metadata": {
    "collapsed": false
   },
   "outputs": [
    {
     "data": {
      "text/html": [
       "<div>\n",
       "<table border=\"1\" class=\"dataframe\">\n",
       "  <thead>\n",
       "    <tr style=\"text-align: right;\">\n",
       "      <th></th>\n",
       "      <th>app_id</th>\n",
       "      <th>label_id</th>\n",
       "      <th>app</th>\n",
       "      <th>label</th>\n",
       "    </tr>\n",
       "  </thead>\n",
       "  <tbody>\n",
       "    <tr>\n",
       "      <th>0</th>\n",
       "      <td>7324884708820027918</td>\n",
       "      <td>251</td>\n",
       "      <td>17355</td>\n",
       "      <td>207</td>\n",
       "    </tr>\n",
       "    <tr>\n",
       "      <th>1</th>\n",
       "      <td>-4494216993218550286</td>\n",
       "      <td>251</td>\n",
       "      <td>4618</td>\n",
       "      <td>207</td>\n",
       "    </tr>\n",
       "    <tr>\n",
       "      <th>2</th>\n",
       "      <td>6058196446775239644</td>\n",
       "      <td>406</td>\n",
       "      <td>15548</td>\n",
       "      <td>247</td>\n",
       "    </tr>\n",
       "    <tr>\n",
       "      <th>3</th>\n",
       "      <td>6058196446775239644</td>\n",
       "      <td>407</td>\n",
       "      <td>15548</td>\n",
       "      <td>248</td>\n",
       "    </tr>\n",
       "    <tr>\n",
       "      <th>4</th>\n",
       "      <td>8694625920731541625</td>\n",
       "      <td>406</td>\n",
       "      <td>18689</td>\n",
       "      <td>247</td>\n",
       "    </tr>\n",
       "  </tbody>\n",
       "</table>\n",
       "</div>"
      ],
      "text/plain": [
       "                app_id  label_id    app  label\n",
       "0  7324884708820027918       251  17355    207\n",
       "1 -4494216993218550286       251   4618    207\n",
       "2  6058196446775239644       406  15548    247\n",
       "3  6058196446775239644       407  15548    248\n",
       "4  8694625920731541625       406  18689    247"
      ]
     },
     "execution_count": 48,
     "metadata": {},
     "output_type": "execute_result"
    }
   ],
   "source": [
    "applabels.head()"
   ]
  },
  {
   "cell_type": "code",
   "execution_count": 41,
   "metadata": {
    "collapsed": true
   },
   "outputs": [],
   "source": [
    "applabels['app'] = appencoder.transform(applabels.app_id)"
   ]
  },
  {
   "cell_type": "code",
   "execution_count": 43,
   "metadata": {
    "collapsed": true
   },
   "outputs": [],
   "source": [
    "labelencoder = LabelEncoder().fit(applabels.label_id)"
   ]
  },
  {
   "cell_type": "code",
   "execution_count": 44,
   "metadata": {
    "collapsed": true
   },
   "outputs": [],
   "source": [
    "applabels['label'] = labelencoder.transform(applabels.label_id)\n",
    "nlabels = len(labelencoder.classes_)"
   ]
  },
  {
   "cell_type": "code",
   "execution_count": 50,
   "metadata": {
    "collapsed": false
   },
   "outputs": [
    {
     "data": {
      "text/html": [
       "<div>\n",
       "<table border=\"1\" class=\"dataframe\">\n",
       "  <thead>\n",
       "    <tr style=\"text-align: right;\">\n",
       "      <th></th>\n",
       "      <th>device_id</th>\n",
       "      <th>app</th>\n",
       "      <th>size</th>\n",
       "      <th>trainrow</th>\n",
       "      <th>testrow</th>\n",
       "    </tr>\n",
       "  </thead>\n",
       "  <tbody>\n",
       "    <tr>\n",
       "      <th>0</th>\n",
       "      <td>-9222956879900151005</td>\n",
       "      <td>548</td>\n",
       "      <td>18</td>\n",
       "      <td>21594.0</td>\n",
       "      <td>NaN</td>\n",
       "    </tr>\n",
       "    <tr>\n",
       "      <th>1</th>\n",
       "      <td>-9222956879900151005</td>\n",
       "      <td>1096</td>\n",
       "      <td>18</td>\n",
       "      <td>21594.0</td>\n",
       "      <td>NaN</td>\n",
       "    </tr>\n",
       "    <tr>\n",
       "      <th>2</th>\n",
       "      <td>-9222956879900151005</td>\n",
       "      <td>1248</td>\n",
       "      <td>26</td>\n",
       "      <td>21594.0</td>\n",
       "      <td>NaN</td>\n",
       "    </tr>\n",
       "    <tr>\n",
       "      <th>3</th>\n",
       "      <td>-9222956879900151005</td>\n",
       "      <td>1545</td>\n",
       "      <td>12</td>\n",
       "      <td>21594.0</td>\n",
       "      <td>NaN</td>\n",
       "    </tr>\n",
       "    <tr>\n",
       "      <th>4</th>\n",
       "      <td>-9222956879900151005</td>\n",
       "      <td>1664</td>\n",
       "      <td>18</td>\n",
       "      <td>21594.0</td>\n",
       "      <td>NaN</td>\n",
       "    </tr>\n",
       "  </tbody>\n",
       "</table>\n",
       "</div>"
      ],
      "text/plain": [
       "             device_id   app  size  trainrow  testrow\n",
       "0 -9222956879900151005   548    18   21594.0      NaN\n",
       "1 -9222956879900151005  1096    18   21594.0      NaN\n",
       "2 -9222956879900151005  1248    26   21594.0      NaN\n",
       "3 -9222956879900151005  1545    12   21594.0      NaN\n",
       "4 -9222956879900151005  1664    18   21594.0      NaN"
      ]
     },
     "execution_count": 50,
     "metadata": {},
     "output_type": "execute_result"
    }
   ],
   "source": [
    "appencoder = LabelEncoder().fit(appevents.app_id)\n",
    "appevents['app'] = appencoder.transform(appevents.app_id)\n",
    "napps = len(appencoder.classes_)\n",
    "deviceapps = (appevents.merge(events[['device_id']], how='left',left_on='event_id',right_index=True)\n",
    "                       .groupby(['device_id','app'])['app'].agg(['size'])\n",
    "                       .merge(gatrain[['trainrow']], how='left', left_index=True, right_index=True)\n",
    "                       .merge(gatest[['testrow']], how='left', left_index=True, right_index=True)\n",
    "                       .reset_index())\n",
    "deviceapps.head()"
   ]
  },
  {
   "cell_type": "code",
   "execution_count": 54,
   "metadata": {
    "collapsed": false
   },
   "outputs": [
    {
     "data": {
      "text/plain": [
       "360"
      ]
     },
     "execution_count": 54,
     "metadata": {},
     "output_type": "execute_result"
    }
   ],
   "source": [
    "deviceapps[deviceapps.device_id==-9222956879900151005].size.sum()"
   ]
  },
  {
   "cell_type": "code",
   "execution_count": 51,
   "metadata": {
    "collapsed": false
   },
   "outputs": [
    {
     "data": {
      "text/html": [
       "<div>\n",
       "<table border=\"1\" class=\"dataframe\">\n",
       "  <thead>\n",
       "    <tr style=\"text-align: right;\">\n",
       "      <th></th>\n",
       "      <th>device_id</th>\n",
       "      <th>label</th>\n",
       "      <th>size</th>\n",
       "      <th>trainrow</th>\n",
       "      <th>testrow</th>\n",
       "    </tr>\n",
       "  </thead>\n",
       "  <tbody>\n",
       "    <tr>\n",
       "      <th>0</th>\n",
       "      <td>-9222956879900151005</td>\n",
       "      <td>117</td>\n",
       "      <td>1</td>\n",
       "      <td>21594.0</td>\n",
       "      <td>NaN</td>\n",
       "    </tr>\n",
       "    <tr>\n",
       "      <th>1</th>\n",
       "      <td>-9222956879900151005</td>\n",
       "      <td>120</td>\n",
       "      <td>1</td>\n",
       "      <td>21594.0</td>\n",
       "      <td>NaN</td>\n",
       "    </tr>\n",
       "    <tr>\n",
       "      <th>2</th>\n",
       "      <td>-9222956879900151005</td>\n",
       "      <td>126</td>\n",
       "      <td>1</td>\n",
       "      <td>21594.0</td>\n",
       "      <td>NaN</td>\n",
       "    </tr>\n",
       "    <tr>\n",
       "      <th>3</th>\n",
       "      <td>-9222956879900151005</td>\n",
       "      <td>138</td>\n",
       "      <td>2</td>\n",
       "      <td>21594.0</td>\n",
       "      <td>NaN</td>\n",
       "    </tr>\n",
       "    <tr>\n",
       "      <th>4</th>\n",
       "      <td>-9222956879900151005</td>\n",
       "      <td>147</td>\n",
       "      <td>2</td>\n",
       "      <td>21594.0</td>\n",
       "      <td>NaN</td>\n",
       "    </tr>\n",
       "  </tbody>\n",
       "</table>\n",
       "</div>"
      ],
      "text/plain": [
       "             device_id  label  size  trainrow  testrow\n",
       "0 -9222956879900151005    117     1   21594.0      NaN\n",
       "1 -9222956879900151005    120     1   21594.0      NaN\n",
       "2 -9222956879900151005    126     1   21594.0      NaN\n",
       "3 -9222956879900151005    138     2   21594.0      NaN\n",
       "4 -9222956879900151005    147     2   21594.0      NaN"
      ]
     },
     "execution_count": 51,
     "metadata": {},
     "output_type": "execute_result"
    }
   ],
   "source": [
    "devicelabels = (deviceapps[['device_id','app']]\n",
    "                .merge(applabels[['app','label']])\n",
    "                .groupby(['device_id','label'])['app'].agg(['size'])\n",
    "                .merge(gatrain[['trainrow']], how='left', left_index=True, right_index=True)\n",
    "                .merge(gatest[['testrow']], how='left', left_index=True, right_index=True)\n",
    "                .reset_index())\n",
    "devicelabels.head()"
   ]
  },
  {
   "cell_type": "code",
   "execution_count": 76,
   "metadata": {
    "collapsed": false
   },
   "outputs": [
    {
     "data": {
      "text/html": [
       "<div>\n",
       "<table border=\"1\" class=\"dataframe\">\n",
       "  <thead>\n",
       "    <tr style=\"text-align: right;\">\n",
       "      <th></th>\n",
       "      <th>device_id</th>\n",
       "      <th>label</th>\n",
       "      <th>size</th>\n",
       "      <th>trainrow</th>\n",
       "      <th>testrow</th>\n",
       "    </tr>\n",
       "  </thead>\n",
       "  <tbody>\n",
       "    <tr>\n",
       "      <th>0</th>\n",
       "      <td>-9222956879900151005</td>\n",
       "      <td>117</td>\n",
       "      <td>1</td>\n",
       "      <td>21594.0</td>\n",
       "      <td>NaN</td>\n",
       "    </tr>\n",
       "    <tr>\n",
       "      <th>1</th>\n",
       "      <td>-9222956879900151005</td>\n",
       "      <td>120</td>\n",
       "      <td>1</td>\n",
       "      <td>21594.0</td>\n",
       "      <td>NaN</td>\n",
       "    </tr>\n",
       "    <tr>\n",
       "      <th>2</th>\n",
       "      <td>-9222956879900151005</td>\n",
       "      <td>126</td>\n",
       "      <td>1</td>\n",
       "      <td>21594.0</td>\n",
       "      <td>NaN</td>\n",
       "    </tr>\n",
       "    <tr>\n",
       "      <th>3</th>\n",
       "      <td>-9222956879900151005</td>\n",
       "      <td>138</td>\n",
       "      <td>2</td>\n",
       "      <td>21594.0</td>\n",
       "      <td>NaN</td>\n",
       "    </tr>\n",
       "    <tr>\n",
       "      <th>4</th>\n",
       "      <td>-9222956879900151005</td>\n",
       "      <td>147</td>\n",
       "      <td>2</td>\n",
       "      <td>21594.0</td>\n",
       "      <td>NaN</td>\n",
       "    </tr>\n",
       "    <tr>\n",
       "      <th>5</th>\n",
       "      <td>-9222956879900151005</td>\n",
       "      <td>170</td>\n",
       "      <td>1</td>\n",
       "      <td>21594.0</td>\n",
       "      <td>NaN</td>\n",
       "    </tr>\n",
       "    <tr>\n",
       "      <th>6</th>\n",
       "      <td>-9222956879900151005</td>\n",
       "      <td>181</td>\n",
       "      <td>1</td>\n",
       "      <td>21594.0</td>\n",
       "      <td>NaN</td>\n",
       "    </tr>\n",
       "    <tr>\n",
       "      <th>7</th>\n",
       "      <td>-9222956879900151005</td>\n",
       "      <td>190</td>\n",
       "      <td>1</td>\n",
       "      <td>21594.0</td>\n",
       "      <td>NaN</td>\n",
       "    </tr>\n",
       "    <tr>\n",
       "      <th>8</th>\n",
       "      <td>-9222956879900151005</td>\n",
       "      <td>207</td>\n",
       "      <td>8</td>\n",
       "      <td>21594.0</td>\n",
       "      <td>NaN</td>\n",
       "    </tr>\n",
       "    <tr>\n",
       "      <th>9</th>\n",
       "      <td>-9222956879900151005</td>\n",
       "      <td>208</td>\n",
       "      <td>11</td>\n",
       "      <td>21594.0</td>\n",
       "      <td>NaN</td>\n",
       "    </tr>\n",
       "    <tr>\n",
       "      <th>10</th>\n",
       "      <td>-9222956879900151005</td>\n",
       "      <td>212</td>\n",
       "      <td>2</td>\n",
       "      <td>21594.0</td>\n",
       "      <td>NaN</td>\n",
       "    </tr>\n",
       "    <tr>\n",
       "      <th>11</th>\n",
       "      <td>-9222956879900151005</td>\n",
       "      <td>218</td>\n",
       "      <td>2</td>\n",
       "      <td>21594.0</td>\n",
       "      <td>NaN</td>\n",
       "    </tr>\n",
       "    <tr>\n",
       "      <th>12</th>\n",
       "      <td>-9222956879900151005</td>\n",
       "      <td>219</td>\n",
       "      <td>8</td>\n",
       "      <td>21594.0</td>\n",
       "      <td>NaN</td>\n",
       "    </tr>\n",
       "    <tr>\n",
       "      <th>13</th>\n",
       "      <td>-9222956879900151005</td>\n",
       "      <td>239</td>\n",
       "      <td>5</td>\n",
       "      <td>21594.0</td>\n",
       "      <td>NaN</td>\n",
       "    </tr>\n",
       "    <tr>\n",
       "      <th>14</th>\n",
       "      <td>-9222956879900151005</td>\n",
       "      <td>240</td>\n",
       "      <td>4</td>\n",
       "      <td>21594.0</td>\n",
       "      <td>NaN</td>\n",
       "    </tr>\n",
       "    <tr>\n",
       "      <th>15</th>\n",
       "      <td>-9222956879900151005</td>\n",
       "      <td>245</td>\n",
       "      <td>1</td>\n",
       "      <td>21594.0</td>\n",
       "      <td>NaN</td>\n",
       "    </tr>\n",
       "    <tr>\n",
       "      <th>16</th>\n",
       "      <td>-9222956879900151005</td>\n",
       "      <td>246</td>\n",
       "      <td>32</td>\n",
       "      <td>21594.0</td>\n",
       "      <td>NaN</td>\n",
       "    </tr>\n",
       "    <tr>\n",
       "      <th>17</th>\n",
       "      <td>-9222956879900151005</td>\n",
       "      <td>247</td>\n",
       "      <td>5</td>\n",
       "      <td>21594.0</td>\n",
       "      <td>NaN</td>\n",
       "    </tr>\n",
       "    <tr>\n",
       "      <th>18</th>\n",
       "      <td>-9222956879900151005</td>\n",
       "      <td>248</td>\n",
       "      <td>5</td>\n",
       "      <td>21594.0</td>\n",
       "      <td>NaN</td>\n",
       "    </tr>\n",
       "    <tr>\n",
       "      <th>19</th>\n",
       "      <td>-9222956879900151005</td>\n",
       "      <td>249</td>\n",
       "      <td>64</td>\n",
       "      <td>21594.0</td>\n",
       "      <td>NaN</td>\n",
       "    </tr>\n",
       "    <tr>\n",
       "      <th>20</th>\n",
       "      <td>-9222956879900151005</td>\n",
       "      <td>250</td>\n",
       "      <td>17</td>\n",
       "      <td>21594.0</td>\n",
       "      <td>NaN</td>\n",
       "    </tr>\n",
       "    <tr>\n",
       "      <th>21</th>\n",
       "      <td>-9222956879900151005</td>\n",
       "      <td>270</td>\n",
       "      <td>14</td>\n",
       "      <td>21594.0</td>\n",
       "      <td>NaN</td>\n",
       "    </tr>\n",
       "    <tr>\n",
       "      <th>22</th>\n",
       "      <td>-9222956879900151005</td>\n",
       "      <td>271</td>\n",
       "      <td>1</td>\n",
       "      <td>21594.0</td>\n",
       "      <td>NaN</td>\n",
       "    </tr>\n",
       "    <tr>\n",
       "      <th>23</th>\n",
       "      <td>-9222956879900151005</td>\n",
       "      <td>273</td>\n",
       "      <td>1</td>\n",
       "      <td>21594.0</td>\n",
       "      <td>NaN</td>\n",
       "    </tr>\n",
       "    <tr>\n",
       "      <th>24</th>\n",
       "      <td>-9222956879900151005</td>\n",
       "      <td>275</td>\n",
       "      <td>1</td>\n",
       "      <td>21594.0</td>\n",
       "      <td>NaN</td>\n",
       "    </tr>\n",
       "    <tr>\n",
       "      <th>25</th>\n",
       "      <td>-9222956879900151005</td>\n",
       "      <td>276</td>\n",
       "      <td>2</td>\n",
       "      <td>21594.0</td>\n",
       "      <td>NaN</td>\n",
       "    </tr>\n",
       "    <tr>\n",
       "      <th>26</th>\n",
       "      <td>-9222956879900151005</td>\n",
       "      <td>279</td>\n",
       "      <td>9</td>\n",
       "      <td>21594.0</td>\n",
       "      <td>NaN</td>\n",
       "    </tr>\n",
       "    <tr>\n",
       "      <th>27</th>\n",
       "      <td>-9222956879900151005</td>\n",
       "      <td>285</td>\n",
       "      <td>1</td>\n",
       "      <td>21594.0</td>\n",
       "      <td>NaN</td>\n",
       "    </tr>\n",
       "    <tr>\n",
       "      <th>28</th>\n",
       "      <td>-9222956879900151005</td>\n",
       "      <td>287</td>\n",
       "      <td>3</td>\n",
       "      <td>21594.0</td>\n",
       "      <td>NaN</td>\n",
       "    </tr>\n",
       "    <tr>\n",
       "      <th>29</th>\n",
       "      <td>-9222956879900151005</td>\n",
       "      <td>291</td>\n",
       "      <td>31</td>\n",
       "      <td>21594.0</td>\n",
       "      <td>NaN</td>\n",
       "    </tr>\n",
       "    <tr>\n",
       "      <th>30</th>\n",
       "      <td>-9222956879900151005</td>\n",
       "      <td>296</td>\n",
       "      <td>1</td>\n",
       "      <td>21594.0</td>\n",
       "      <td>NaN</td>\n",
       "    </tr>\n",
       "    <tr>\n",
       "      <th>31</th>\n",
       "      <td>-9222956879900151005</td>\n",
       "      <td>297</td>\n",
       "      <td>1</td>\n",
       "      <td>21594.0</td>\n",
       "      <td>NaN</td>\n",
       "    </tr>\n",
       "    <tr>\n",
       "      <th>32</th>\n",
       "      <td>-9222956879900151005</td>\n",
       "      <td>305</td>\n",
       "      <td>30</td>\n",
       "      <td>21594.0</td>\n",
       "      <td>NaN</td>\n",
       "    </tr>\n",
       "    <tr>\n",
       "      <th>33</th>\n",
       "      <td>-9222956879900151005</td>\n",
       "      <td>306</td>\n",
       "      <td>18</td>\n",
       "      <td>21594.0</td>\n",
       "      <td>NaN</td>\n",
       "    </tr>\n",
       "    <tr>\n",
       "      <th>34</th>\n",
       "      <td>-9222956879900151005</td>\n",
       "      <td>308</td>\n",
       "      <td>1</td>\n",
       "      <td>21594.0</td>\n",
       "      <td>NaN</td>\n",
       "    </tr>\n",
       "    <tr>\n",
       "      <th>35</th>\n",
       "      <td>-9222956879900151005</td>\n",
       "      <td>310</td>\n",
       "      <td>14</td>\n",
       "      <td>21594.0</td>\n",
       "      <td>NaN</td>\n",
       "    </tr>\n",
       "    <tr>\n",
       "      <th>36</th>\n",
       "      <td>-9222956879900151005</td>\n",
       "      <td>316</td>\n",
       "      <td>1</td>\n",
       "      <td>21594.0</td>\n",
       "      <td>NaN</td>\n",
       "    </tr>\n",
       "    <tr>\n",
       "      <th>37</th>\n",
       "      <td>-9222956879900151005</td>\n",
       "      <td>317</td>\n",
       "      <td>1</td>\n",
       "      <td>21594.0</td>\n",
       "      <td>NaN</td>\n",
       "    </tr>\n",
       "    <tr>\n",
       "      <th>38</th>\n",
       "      <td>-9222956879900151005</td>\n",
       "      <td>318</td>\n",
       "      <td>18</td>\n",
       "      <td>21594.0</td>\n",
       "      <td>NaN</td>\n",
       "    </tr>\n",
       "    <tr>\n",
       "      <th>39</th>\n",
       "      <td>-9222956879900151005</td>\n",
       "      <td>320</td>\n",
       "      <td>14</td>\n",
       "      <td>21594.0</td>\n",
       "      <td>NaN</td>\n",
       "    </tr>\n",
       "    <tr>\n",
       "      <th>40</th>\n",
       "      <td>-9222956879900151005</td>\n",
       "      <td>322</td>\n",
       "      <td>18</td>\n",
       "      <td>21594.0</td>\n",
       "      <td>NaN</td>\n",
       "    </tr>\n",
       "    <tr>\n",
       "      <th>41</th>\n",
       "      <td>-9222956879900151005</td>\n",
       "      <td>323</td>\n",
       "      <td>1</td>\n",
       "      <td>21594.0</td>\n",
       "      <td>NaN</td>\n",
       "    </tr>\n",
       "    <tr>\n",
       "      <th>42</th>\n",
       "      <td>-9222956879900151005</td>\n",
       "      <td>324</td>\n",
       "      <td>1</td>\n",
       "      <td>21594.0</td>\n",
       "      <td>NaN</td>\n",
       "    </tr>\n",
       "    <tr>\n",
       "      <th>43</th>\n",
       "      <td>-9222956879900151005</td>\n",
       "      <td>325</td>\n",
       "      <td>14</td>\n",
       "      <td>21594.0</td>\n",
       "      <td>NaN</td>\n",
       "    </tr>\n",
       "    <tr>\n",
       "      <th>44</th>\n",
       "      <td>-9222956879900151005</td>\n",
       "      <td>326</td>\n",
       "      <td>18</td>\n",
       "      <td>21594.0</td>\n",
       "      <td>NaN</td>\n",
       "    </tr>\n",
       "    <tr>\n",
       "      <th>45</th>\n",
       "      <td>-9222956879900151005</td>\n",
       "      <td>328</td>\n",
       "      <td>2</td>\n",
       "      <td>21594.0</td>\n",
       "      <td>NaN</td>\n",
       "    </tr>\n",
       "    <tr>\n",
       "      <th>46</th>\n",
       "      <td>-9222956879900151005</td>\n",
       "      <td>329</td>\n",
       "      <td>14</td>\n",
       "      <td>21594.0</td>\n",
       "      <td>NaN</td>\n",
       "    </tr>\n",
       "    <tr>\n",
       "      <th>47</th>\n",
       "      <td>-9222956879900151005</td>\n",
       "      <td>380</td>\n",
       "      <td>2</td>\n",
       "      <td>21594.0</td>\n",
       "      <td>NaN</td>\n",
       "    </tr>\n",
       "    <tr>\n",
       "      <th>48</th>\n",
       "      <td>-9222956879900151005</td>\n",
       "      <td>385</td>\n",
       "      <td>2</td>\n",
       "      <td>21594.0</td>\n",
       "      <td>NaN</td>\n",
       "    </tr>\n",
       "    <tr>\n",
       "      <th>49</th>\n",
       "      <td>-9222956879900151005</td>\n",
       "      <td>396</td>\n",
       "      <td>1</td>\n",
       "      <td>21594.0</td>\n",
       "      <td>NaN</td>\n",
       "    </tr>\n",
       "    <tr>\n",
       "      <th>50</th>\n",
       "      <td>-9222956879900151005</td>\n",
       "      <td>397</td>\n",
       "      <td>1</td>\n",
       "      <td>21594.0</td>\n",
       "      <td>NaN</td>\n",
       "    </tr>\n",
       "    <tr>\n",
       "      <th>51</th>\n",
       "      <td>-9222956879900151005</td>\n",
       "      <td>443</td>\n",
       "      <td>50</td>\n",
       "      <td>21594.0</td>\n",
       "      <td>NaN</td>\n",
       "    </tr>\n",
       "    <tr>\n",
       "      <th>52</th>\n",
       "      <td>-9222956879900151005</td>\n",
       "      <td>444</td>\n",
       "      <td>50</td>\n",
       "      <td>21594.0</td>\n",
       "      <td>NaN</td>\n",
       "    </tr>\n",
       "    <tr>\n",
       "      <th>53</th>\n",
       "      <td>-9222956879900151005</td>\n",
       "      <td>477</td>\n",
       "      <td>58</td>\n",
       "      <td>21594.0</td>\n",
       "      <td>NaN</td>\n",
       "    </tr>\n",
       "    <tr>\n",
       "      <th>54</th>\n",
       "      <td>-9222956879900151005</td>\n",
       "      <td>478</td>\n",
       "      <td>1</td>\n",
       "      <td>21594.0</td>\n",
       "      <td>NaN</td>\n",
       "    </tr>\n",
       "    <tr>\n",
       "      <th>55</th>\n",
       "      <td>-9222956879900151005</td>\n",
       "      <td>480</td>\n",
       "      <td>1</td>\n",
       "      <td>21594.0</td>\n",
       "      <td>NaN</td>\n",
       "    </tr>\n",
       "  </tbody>\n",
       "</table>\n",
       "</div>"
      ],
      "text/plain": [
       "              device_id  label  size  trainrow  testrow\n",
       "0  -9222956879900151005    117     1   21594.0      NaN\n",
       "1  -9222956879900151005    120     1   21594.0      NaN\n",
       "2  -9222956879900151005    126     1   21594.0      NaN\n",
       "3  -9222956879900151005    138     2   21594.0      NaN\n",
       "4  -9222956879900151005    147     2   21594.0      NaN\n",
       "5  -9222956879900151005    170     1   21594.0      NaN\n",
       "6  -9222956879900151005    181     1   21594.0      NaN\n",
       "7  -9222956879900151005    190     1   21594.0      NaN\n",
       "8  -9222956879900151005    207     8   21594.0      NaN\n",
       "9  -9222956879900151005    208    11   21594.0      NaN\n",
       "10 -9222956879900151005    212     2   21594.0      NaN\n",
       "11 -9222956879900151005    218     2   21594.0      NaN\n",
       "12 -9222956879900151005    219     8   21594.0      NaN\n",
       "13 -9222956879900151005    239     5   21594.0      NaN\n",
       "14 -9222956879900151005    240     4   21594.0      NaN\n",
       "15 -9222956879900151005    245     1   21594.0      NaN\n",
       "16 -9222956879900151005    246    32   21594.0      NaN\n",
       "17 -9222956879900151005    247     5   21594.0      NaN\n",
       "18 -9222956879900151005    248     5   21594.0      NaN\n",
       "19 -9222956879900151005    249    64   21594.0      NaN\n",
       "20 -9222956879900151005    250    17   21594.0      NaN\n",
       "21 -9222956879900151005    270    14   21594.0      NaN\n",
       "22 -9222956879900151005    271     1   21594.0      NaN\n",
       "23 -9222956879900151005    273     1   21594.0      NaN\n",
       "24 -9222956879900151005    275     1   21594.0      NaN\n",
       "25 -9222956879900151005    276     2   21594.0      NaN\n",
       "26 -9222956879900151005    279     9   21594.0      NaN\n",
       "27 -9222956879900151005    285     1   21594.0      NaN\n",
       "28 -9222956879900151005    287     3   21594.0      NaN\n",
       "29 -9222956879900151005    291    31   21594.0      NaN\n",
       "30 -9222956879900151005    296     1   21594.0      NaN\n",
       "31 -9222956879900151005    297     1   21594.0      NaN\n",
       "32 -9222956879900151005    305    30   21594.0      NaN\n",
       "33 -9222956879900151005    306    18   21594.0      NaN\n",
       "34 -9222956879900151005    308     1   21594.0      NaN\n",
       "35 -9222956879900151005    310    14   21594.0      NaN\n",
       "36 -9222956879900151005    316     1   21594.0      NaN\n",
       "37 -9222956879900151005    317     1   21594.0      NaN\n",
       "38 -9222956879900151005    318    18   21594.0      NaN\n",
       "39 -9222956879900151005    320    14   21594.0      NaN\n",
       "40 -9222956879900151005    322    18   21594.0      NaN\n",
       "41 -9222956879900151005    323     1   21594.0      NaN\n",
       "42 -9222956879900151005    324     1   21594.0      NaN\n",
       "43 -9222956879900151005    325    14   21594.0      NaN\n",
       "44 -9222956879900151005    326    18   21594.0      NaN\n",
       "45 -9222956879900151005    328     2   21594.0      NaN\n",
       "46 -9222956879900151005    329    14   21594.0      NaN\n",
       "47 -9222956879900151005    380     2   21594.0      NaN\n",
       "48 -9222956879900151005    385     2   21594.0      NaN\n",
       "49 -9222956879900151005    396     1   21594.0      NaN\n",
       "50 -9222956879900151005    397     1   21594.0      NaN\n",
       "51 -9222956879900151005    443    50   21594.0      NaN\n",
       "52 -9222956879900151005    444    50   21594.0      NaN\n",
       "53 -9222956879900151005    477    58   21594.0      NaN\n",
       "54 -9222956879900151005    478     1   21594.0      NaN\n",
       "55 -9222956879900151005    480     1   21594.0      NaN"
      ]
     },
     "execution_count": 76,
     "metadata": {},
     "output_type": "execute_result"
    }
   ],
   "source": [
    "devicelabels[devicelabels.device_id==-9222956879900151005]"
   ]
  },
  {
   "cell_type": "code",
   "execution_count": 55,
   "metadata": {
    "collapsed": false
   },
   "outputs": [
    {
     "data": {
      "text/plain": [
       "280"
      ]
     },
     "execution_count": 55,
     "metadata": {},
     "output_type": "execute_result"
    }
   ],
   "source": [
    "devicelabels[devicelabels.device_id==-9222956879900151005].size.sum()"
   ]
  },
  {
   "cell_type": "code",
   "execution_count": 56,
   "metadata": {
    "collapsed": true
   },
   "outputs": [],
   "source": [
    "label_cat = pd.read_csv(os.path.join(datadir,'label_categories.csv'))"
   ]
  },
  {
   "cell_type": "code",
   "execution_count": 70,
   "metadata": {
    "collapsed": false
   },
   "outputs": [
    {
     "data": {
      "text/html": [
       "<div>\n",
       "<table border=\"1\" class=\"dataframe\">\n",
       "  <thead>\n",
       "    <tr style=\"text-align: right;\">\n",
       "      <th></th>\n",
       "      <th>label_id</th>\n",
       "      <th>category</th>\n",
       "    </tr>\n",
       "  </thead>\n",
       "  <tbody>\n",
       "    <tr>\n",
       "      <th>0</th>\n",
       "      <td>1</td>\n",
       "      <td>NaN</td>\n",
       "    </tr>\n",
       "    <tr>\n",
       "      <th>1</th>\n",
       "      <td>2</td>\n",
       "      <td>game-game type</td>\n",
       "    </tr>\n",
       "    <tr>\n",
       "      <th>2</th>\n",
       "      <td>3</td>\n",
       "      <td>game-Game themes</td>\n",
       "    </tr>\n",
       "    <tr>\n",
       "      <th>3</th>\n",
       "      <td>4</td>\n",
       "      <td>game-Art Style</td>\n",
       "    </tr>\n",
       "    <tr>\n",
       "      <th>4</th>\n",
       "      <td>5</td>\n",
       "      <td>game-Leisure time</td>\n",
       "    </tr>\n",
       "  </tbody>\n",
       "</table>\n",
       "</div>"
      ],
      "text/plain": [
       "   label_id           category\n",
       "0         1                NaN\n",
       "1         2     game-game type\n",
       "2         3   game-Game themes\n",
       "3         4     game-Art Style\n",
       "4         5  game-Leisure time"
      ]
     },
     "execution_count": 70,
     "metadata": {},
     "output_type": "execute_result"
    }
   ],
   "source": [
    "label_cat.head()"
   ]
  },
  {
   "cell_type": "code",
   "execution_count": 65,
   "metadata": {
    "collapsed": false
   },
   "outputs": [
    {
     "data": {
      "text/html": [
       "<div>\n",
       "<table border=\"1\" class=\"dataframe\">\n",
       "  <thead>\n",
       "    <tr style=\"text-align: right;\">\n",
       "      <th></th>\n",
       "      <th>app_id</th>\n",
       "      <th>label_id</th>\n",
       "      <th>app</th>\n",
       "      <th>label</th>\n",
       "    </tr>\n",
       "  </thead>\n",
       "  <tbody>\n",
       "    <tr>\n",
       "      <th>0</th>\n",
       "      <td>7324884708820027918</td>\n",
       "      <td>251</td>\n",
       "      <td>17355</td>\n",
       "      <td>207</td>\n",
       "    </tr>\n",
       "    <tr>\n",
       "      <th>1</th>\n",
       "      <td>-4494216993218550286</td>\n",
       "      <td>251</td>\n",
       "      <td>4618</td>\n",
       "      <td>207</td>\n",
       "    </tr>\n",
       "    <tr>\n",
       "      <th>2</th>\n",
       "      <td>6058196446775239644</td>\n",
       "      <td>406</td>\n",
       "      <td>15548</td>\n",
       "      <td>247</td>\n",
       "    </tr>\n",
       "    <tr>\n",
       "      <th>3</th>\n",
       "      <td>6058196446775239644</td>\n",
       "      <td>407</td>\n",
       "      <td>15548</td>\n",
       "      <td>248</td>\n",
       "    </tr>\n",
       "    <tr>\n",
       "      <th>4</th>\n",
       "      <td>8694625920731541625</td>\n",
       "      <td>406</td>\n",
       "      <td>18689</td>\n",
       "      <td>247</td>\n",
       "    </tr>\n",
       "  </tbody>\n",
       "</table>\n",
       "</div>"
      ],
      "text/plain": [
       "                app_id  label_id    app  label\n",
       "0  7324884708820027918       251  17355    207\n",
       "1 -4494216993218550286       251   4618    207\n",
       "2  6058196446775239644       406  15548    247\n",
       "3  6058196446775239644       407  15548    248\n",
       "4  8694625920731541625       406  18689    247"
      ]
     },
     "execution_count": 65,
     "metadata": {},
     "output_type": "execute_result"
    }
   ],
   "source": [
    "applabels.head()"
   ]
  },
  {
   "cell_type": "code",
   "execution_count": 71,
   "metadata": {
    "collapsed": false
   },
   "outputs": [
    {
     "data": {
      "text/plain": [
       "(492,)"
      ]
     },
     "execution_count": 71,
     "metadata": {},
     "output_type": "execute_result"
    }
   ],
   "source": [
    "applabels.label_id.unique().shape"
   ]
  },
  {
   "cell_type": "code",
   "execution_count": 72,
   "metadata": {
    "collapsed": false
   },
   "outputs": [],
   "source": [
    "applabels = applabels.merge(label_cat,how='inner',on='label_id')"
   ]
  },
  {
   "cell_type": "code",
   "execution_count": 73,
   "metadata": {
    "collapsed": false
   },
   "outputs": [
    {
     "data": {
      "text/html": [
       "<div>\n",
       "<table border=\"1\" class=\"dataframe\">\n",
       "  <thead>\n",
       "    <tr style=\"text-align: right;\">\n",
       "      <th></th>\n",
       "      <th>app_id</th>\n",
       "      <th>label_id</th>\n",
       "      <th>app</th>\n",
       "      <th>label</th>\n",
       "      <th>category</th>\n",
       "    </tr>\n",
       "  </thead>\n",
       "  <tbody>\n",
       "    <tr>\n",
       "      <th>0</th>\n",
       "      <td>7324884708820027918</td>\n",
       "      <td>251</td>\n",
       "      <td>17355</td>\n",
       "      <td>207</td>\n",
       "      <td>Finance</td>\n",
       "    </tr>\n",
       "    <tr>\n",
       "      <th>1</th>\n",
       "      <td>-4494216993218550286</td>\n",
       "      <td>251</td>\n",
       "      <td>4618</td>\n",
       "      <td>207</td>\n",
       "      <td>Finance</td>\n",
       "    </tr>\n",
       "    <tr>\n",
       "      <th>2</th>\n",
       "      <td>8756705988821000489</td>\n",
       "      <td>251</td>\n",
       "      <td>18741</td>\n",
       "      <td>207</td>\n",
       "      <td>Finance</td>\n",
       "    </tr>\n",
       "    <tr>\n",
       "      <th>3</th>\n",
       "      <td>1061207043315821111</td>\n",
       "      <td>251</td>\n",
       "      <td>10841</td>\n",
       "      <td>207</td>\n",
       "      <td>Finance</td>\n",
       "    </tr>\n",
       "    <tr>\n",
       "      <th>4</th>\n",
       "      <td>-1491198667294647703</td>\n",
       "      <td>251</td>\n",
       "      <td>7857</td>\n",
       "      <td>207</td>\n",
       "      <td>Finance</td>\n",
       "    </tr>\n",
       "  </tbody>\n",
       "</table>\n",
       "</div>"
      ],
      "text/plain": [
       "                app_id  label_id    app  label category\n",
       "0  7324884708820027918       251  17355    207  Finance\n",
       "1 -4494216993218550286       251   4618    207  Finance\n",
       "2  8756705988821000489       251  18741    207  Finance\n",
       "3  1061207043315821111       251  10841    207  Finance\n",
       "4 -1491198667294647703       251   7857    207  Finance"
      ]
     },
     "execution_count": 73,
     "metadata": {},
     "output_type": "execute_result"
    }
   ],
   "source": [
    "applabels.head()"
   ]
  },
  {
   "cell_type": "code",
   "execution_count": 75,
   "metadata": {
    "collapsed": false
   },
   "outputs": [
    {
     "data": {
      "text/plain": [
       "array(['Finance', 'unknown', 'DS_P2P net loan', 'Securities',\n",
       "       'Lottery ticket', 'IMF', 'Precious Metals', 'pursue',\n",
       "       'Science and Technology', 'Customization', 'service',\n",
       "       'Smart Shopping', 'Personal Effectiveness', 'free', 'vitality',\n",
       "       'Trendy / cool', 'Relatives', 'comfortable', 'Simple',\n",
       "       'Debit and credit', 'Crowdfunding financing', 'Custom label',\n",
       "       'Ping', 'safety Insurance', 'Peace - Search', 'mobile bank',\n",
       "       'Direct Bank', 'futures', 'Property Industry 1.0', 'Industry tag',\n",
       "       'Pay', 'Wealth Management', '1 free', 'Cozy 1', 'Services 1',\n",
       "       'Pursuit 1', 'Trendy / cool 1', 'Customized 1', 'Passion 1',\n",
       "       'Noble 1', 'Personal Effectiveness 1', 'Total Cost 1',\n",
       "       'Smart Shopping 1', 'Science and Technology 1', 'Relatives 1',\n",
       "       'Irritation / Fun 1', '1 vitality', 'Quality 1', '1 reputation',\n",
       "       'Nature 1', 'Simple 1', 'Classical 1', 'Property Industry 2.0',\n",
       "       'Occupational identity', 'College Students',\n",
       "       'Condition of the vehicles', 'Bank financing', 'Internet banking',\n",
       "       'stock', 'Insurance', 'other', 'Stock Futures', 'fund', 'Trust',\n",
       "       'Consumer loans', 'Financial Services', 'fixed income', 'P2P',\n",
       "       'Direct Banking', 'Crowdfunding', 'A shares', 'Life Insurance',\n",
       "       'exchange rate', 'Financial Supermarket', 'Financial Information',\n",
       "       'Commodity Futures', 'Monetary Fund', 'Third party payment',\n",
       "       'Other shares', 'H shares', 'Financial Futures', 'Equity Fund',\n",
       "       'Trust funds', 'Antique collection', 'Low risk', 'Low Risk',\n",
       "       'High risk', 'Medium risk', 'Liquid medium', 'Lower liquidity',\n",
       "       'Low liquidity', 'High mobility', 'High Flow', 'Low profitability',\n",
       "       'Low income', 'Higher income', 'Moderate profitability',\n",
       "       'High profitability', 'And the Church', 'Direct Insurance',\n",
       "       'Exchange', 'Casual puzzle categories', 'The elimination of class',\n",
       "       'MOBA', 'Pirated content', 'SLG (strategy)', 'Chess categories',\n",
       "       'Cards RPG', 'Tower Defense', 'Online booking class', 'Other Read',\n",
       "       'MMO', 'ARPG', 'read', 'Shootout Shooting (STG)', 'round',\n",
       "       'Parkour avoid class', 'Business simulation', 'music',\n",
       "       'Flight Shooting', \"Read the operator's\", 'Racing (RAC)', 'Sports',\n",
       "       'User Community', 'Buy class', 'Listening to books category',\n",
       "       'Vermicelli', 'Animation aggregate class',\n",
       "       'Class animation community', 'Hardware Related', 'game',\n",
       "       'literature', 'the film', 'Animation', 'Tencent',\n",
       "       'Comics Reading Tools', 'Doctors', 'Pregnant baby', 'Prepare baby',\n",
       "       'Maternal and child population', 'Parenting stage',\n",
       "       'Families with big baby', 'Families with small babies',\n",
       "       'Families with babies', 'noble', 'Total Cost', 'natural', 'quality',\n",
       "       'Cool trendy', 'Reputation', 'Enthusiasm', 'classical',\n",
       "       'Stimulate fun', 'Property Industry new', 'Low Cost Airlines',\n",
       "       'Full Service Airlines', 'Regional Aviation', 'Airline type',\n",
       "       'Airline Alliances', 'Aeronautical Information Service', 'airport',\n",
       "       'Aviation Integrated Services', 'aviation', 'Air Travel',\n",
       "       'Southeast Asia (aviation)',\n",
       "       'Hong Kong, Macao and Taiwan (aviation)',\n",
       "       'Europe, the United States and Macao (aviation)',\n",
       "       'Chinese mainland (Airlines)', 'Flight area', 'Travel Travel',\n",
       "       'Overseas travel', 'Domestic travel', 'Tour around',\n",
       "       'Integrated tourism', 'Purpose of travel', 'travel',\n",
       "       'Free exercise', 'Travel Information', 'Share Tour',\n",
       "       'Travel preferences', 'Southeast Asia (Travel)',\n",
       "       'Hong Kong, Macao and Taiwan (Travel)',\n",
       "       'Europe, the United States and Macao (Travel)',\n",
       "       'Japan and South Korea (Travel)', 'Destination Region',\n",
       "       'High-speed rail train reservation',\n",
       "       'Integrated Air Travel Booking', 'Integrated ticket reservation',\n",
       "       'Book hotel complex', 'Coach reservations', 'Booking channels',\n",
       "       'High-end hotel', 'Hotel Chain', 'Non-standard accommodation',\n",
       "       'Hotel Type', 'Hotels', 'financial', 'Xian Xia', 'effort',\n",
       "       'navigation', 'reality show', 'Jin Yong', 'Senki', 'tribe', 'Ninja',\n",
       "       'Romance', 'Shushan', 'Martial arts', 'Domestic animation', 'Harem',\n",
       "       'fashion', 'game-Cutting things', 'game-Finding fault',\n",
       "       'game-stress reliever', 'game-pet', 'game-Answer', 'game-Fishing',\n",
       "       'game-Music and Dance', 'game-Puzzle', 'game-Adventure puzzle',\n",
       "       'game-Parkour', 'game-Racing', 'game-Motorcycle', 'game-Rowing',\n",
       "       'game-aircraft', 'game-Box', 'game-gem', 'game-Lianliankan',\n",
       "       'game-Zuma', 'game-Bobble', 'game-Cartoon',\n",
       "       'game-Role -playing games', 'game-Competitive action',\n",
       "       'game-Tactics', 'game-card', 'game-Business simulation',\n",
       "       'game-Horizontal version', 'game-shooting', 'game-3D',\n",
       "       'game-flight', 'game-tank', 'game-Snipe', 'poker game_doudizhu',\n",
       "       'chess', 'majiang', 'table game', 'Texas Poker', 'poker', 'Puzzle',\n",
       "       'Literacy Games', 'Intellectual development game', 'math',\n",
       "       'checkpoints game', 'Beach landing game', 'old style game',\n",
       "       'basketball', 'football', 'tennis', 'billards', 'other ball game',\n",
       "       'Turn based RPG game', 'realtime fighting', 'war chess', 'business',\n",
       "       'farm', 'pet raising up', 'love raising up', 'puzzel', 'gambling',\n",
       "       '3 kindom game', 'knight game', 'Cultivation fantasy game',\n",
       "       'Journey to the West game', 'Outlaws of the Marsh game',\n",
       "       'Chinese Classical Mythology', 'Western Mythology',\n",
       "       '80s Japanese comic', '90s Japanese comic', 'movie', 'shows',\n",
       "       'millitary and wars', 'science fiction', 'zombies game',\n",
       "       'World of Warcraft', 'magic', 'dotal-lol', 'sailing game', 'sports',\n",
       "       'Chinese painting', 'japanese and korean style',\n",
       "       'japanese comic and animation', 'US and Europe animation',\n",
       "       'Cute style comic', 'pixel style comic', 'violence comic',\n",
       "       'US and Europe magic comic', 'realistic style comic',\n",
       "       'chinese comic', 'online malls',\n",
       "       'online shopping by group, like groupon',\n",
       "       'online shopping navigation', 'online shopping, price comparing',\n",
       "       'Sea Amoy', 'education for babies', 'education outside class',\n",
       "       'foreign language', 'professional skills', 'art and culture',\n",
       "       'exams', 'class managemetn', 'children books', 'novels',\n",
       "       'magazine and journal', 'comics', 'dictionary', 'reading platform',\n",
       "       'poetry', 'joke', 'Audiobooks', 'science', 'news',\n",
       "       'Entertainment News', 'Sports News', 'Technology Information',\n",
       "       'gaming strategy', 'weibo', 'love and marriage', 'community',\n",
       "       'picture sharing', 'radio', 'video', 'show', 'map',\n",
       "       'Behalf of the drive', 'Taxi', 'Car', 'flight', 'Bus', 'train',\n",
       "       'Hotel application', 'tourism product', 'coach transport',\n",
       "       'Decoration', 'Appliances', 'Furniture', 'household products',\n",
       "       'Smart Home', 'Smart Appliances', 'lose weight', 'sports and gym',\n",
       "       'health', 'Medical', 'Health Management', 'Wearable Health', 'IM',\n",
       "       'pictures photography', 'Man playing favorites',\n",
       "       'takeaway ordering', 'Astrology Horoscope', 'Reviews', 'Recipes',\n",
       "       'Express', 'Accounting', 'Car Owners', 'fashion outfit',\n",
       "       'Integrated Living', 'Jobs', 'Scheduling', 'notes', 'File Editor',\n",
       "       'business cards', 'Contacts', 'network disk', 'store management',\n",
       "       'Engineering Drawing', 'Housing Advice', 'KTV', 'Automotive News',\n",
       "       'Sale of cars', 'A beauty care', 'study abroad', 'RPG game',\n",
       "       'poker and chess', 'business strategy game', 'game-game type',\n",
       "       'game-Art Style', 'game-Gem Elimination', 'fighting game',\n",
       "       'raising up game', 'Guard tower defense game',\n",
       "       'Children puzzle game', 'game-Leisure time', 'convenience services',\n",
       "       'Beauty Nail', 'blogs', 'Housekeeping', 'System Tools', 'Utilities',\n",
       "       'Prepare pregnant pregnancy', 'Maternal and child supplies',\n",
       "       'Points Activities', 'management', 'Desktop Enhancements',\n",
       "       'Parenting', 'Buy', 'Rentals', 'coupon', 'Travel advisory',\n",
       "       'Calendar', 'shopping sharing', 'Clock', 'Information',\n",
       "       'Share Travels', 'App Store', 'Sellers', 'WIFI', 'entertainment',\n",
       "       'Academic Information', 'email', 'Mother', 'phone', 'Weather',\n",
       "       'psychology', 'Estate', 'Business Office', 'search',\n",
       "       'Make-up application', 'Skin care applications',\n",
       "       'Traditional securities brokerage', 'P2P net loan',\n",
       "       'Third-party card management', 'Internet Banking',\n",
       "       'Consumer Finance', 'Traditional Insurance', 'Heritage Foundation',\n",
       "       'Internet Securities', 'Bank Credit Card', 'Internet Insurance',\n",
       "       'library', 'readers', 'Editor', 'mesasge', 'cosplay',\n",
       "       'casual games', 'Chess game', 'strategy game', 'Adventure Game',\n",
       "       'Card Game', 'Table Games', 'Sports Games', 'Music Games',\n",
       "       'action games', 'Puzzles', 'Games', 'Simulators',\n",
       "       'Educational games', 'Racing games', 'Family Games'], dtype=object)"
      ]
     },
     "execution_count": 75,
     "metadata": {},
     "output_type": "execute_result"
    }
   ],
   "source": [
    "applabels.category.unique()"
   ]
  },
  {
   "cell_type": "code",
   "execution_count": null,
   "metadata": {
    "collapsed": true
   },
   "outputs": [],
   "source": []
  }
 ],
 "metadata": {
  "anaconda-cloud": {},
  "kernelspec": {
   "display_name": "Python [Root]",
   "language": "python",
   "name": "Python [Root]"
  },
  "language_info": {
   "codemirror_mode": {
    "name": "ipython",
    "version": 3
   },
   "file_extension": ".py",
   "mimetype": "text/x-python",
   "name": "python",
   "nbconvert_exporter": "python",
   "pygments_lexer": "ipython3",
   "version": "3.5.2"
  }
 },
 "nbformat": 4,
 "nbformat_minor": 0
}
