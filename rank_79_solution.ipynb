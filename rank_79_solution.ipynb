{
 "cells": [
  {
   "cell_type": "code",
   "execution_count": 259,
   "metadata": {
    "collapsed": false
   },
   "outputs": [
    {
     "name": "stderr",
     "output_type": "stream",
     "text": [
      "/home/choudharyk0408/anaconda3/lib/python3.5/site-packages/ipykernel/__main__.py:76: FutureWarning: sort(columns=....) is deprecated, use sort_values(by=.....)\n"
     ]
    }
   ],
   "source": [
    "import pandas as pd\n",
    "import numpy as np\n",
    "import xgboost as xgb\n",
    "%matplotlib inline\n",
    "#import seaborn as sns\n",
    "import matplotlib.pyplot as plt\n",
    "import os\n",
    "from sklearn.preprocessing import LabelEncoder\n",
    "from scipy.sparse import csr_matrix, hstack\n",
    "from sklearn.linear_model import LogisticRegression\n",
    "from sklearn.cross_validation import StratifiedKFold\n",
    "from sklearn.metrics import log_loss\n",
    "\n",
    "datadir = 'input/'\n",
    "gatrain = pd.read_csv(os.path.join(datadir,'gender_age_train.csv'),\n",
    "                      index_col='device_id')\n",
    "gatest = pd.read_csv(os.path.join(datadir,'gender_age_test.csv'),\n",
    "                     index_col = 'device_id')\n",
    "phone = pd.read_csv(os.path.join(datadir,'phone_brand_device_model.csv'))\n",
    "# Get rid of duplicate device ids in phone\n",
    "phone = phone.drop_duplicates('device_id',keep='first').set_index('device_id')\n",
    "\n",
    "gatrain['row'] = np.arange(gatrain.shape[0])\n",
    "gatest['row'] = np.arange(gatest.shape[0])\n",
    "\n",
    "brandencoder = LabelEncoder().fit(phone.phone_brand)\n",
    "phone['brand'] = brandencoder.transform(phone['phone_brand'])\n",
    "gatrain['brand'] = phone['brand']\n",
    "gatest['brand'] = phone['brand']\n",
    "\n",
    "m = phone.phone_brand.str.cat(phone.device_model)\n",
    "modelencoder = LabelEncoder().fit(m)\n",
    "phone['model'] = modelencoder.transform(m)\n",
    "gatrain['model'] = phone['model']\n",
    "gatest['model'] = phone['model']\n",
    "\n",
    "gatrain['nid_order'] = gatrain.row/74645.0\n",
    "gatest['nid_order'] = gatest.row/112071.0\n",
    "\n",
    "gatrain['to_group'] = gatrain.gender.astype(str)+'.'+gatrain.age.astype(str)+'.'+gatrain.brand.astype(str)+'.'+gatrain.model.astype(str)\n",
    "\n",
    "gatrain['to_group_bm'] = gatrain.brand.astype(str)+'.'+gatrain.model.astype(str)\n",
    "gatest['to_group_bm'] = gatest.brand.astype(str)+'.'+gatest.model.astype(str)\n",
    "\n",
    "tr_groupby_bm = gatrain.groupby('to_group_bm')\n",
    "te_groupby_bm = gatest.groupby('to_group_bm')\n",
    "\n",
    "grpp_bm_unique = list(set(gatrain.to_group_bm.unique())&set(gatest.to_group_bm.unique()))\n",
    "\n",
    "def consecutive(data, stepsize=1):\n",
    "    return np.split(data, np.where(np.diff(data) != stepsize)[0]+1)\n",
    "\n",
    "final_te_gender = pd.Series('X',index=gatest.index)\n",
    "final_te_age = pd.Series(0,index=gatest.index)\n",
    "final_te_grp = pd.Series('Y',index=gatest.index)\n",
    "\n",
    "for grpp_bm in grpp_bm_unique:\n",
    "    df_tr_grpp_bm = tr_groupby_bm.get_group(grpp_bm)\n",
    "    df_te_grpp_bm = te_groupby_bm.get_group(grpp_bm)\n",
    "    tr_groupby_all = df_tr_grpp_bm.groupby('to_group')\n",
    "    for grpp_all in df_tr_grpp_bm.to_group.unique():\n",
    "        df_tr_grpp_all = tr_groupby_all.get_group(grpp_all)\n",
    "        b = consecutive(df_tr_grpp_all.row)\n",
    "        tr_consec = []\n",
    "        for a in b:\n",
    "            if a.shape[0]>1:\n",
    "                tr_consec.append(a)\n",
    "        for i in range(len(tr_consec)):\n",
    "            df_tr_smallest = df_tr_grpp_all.ix[tr_consec[i].index]\n",
    "            meann = df_tr_smallest.nid_order.mean()\n",
    "            gndr = df_tr_smallest.gender.unique()[0]\n",
    "            agee = df_tr_smallest.age.unique()[0]\n",
    "            target_grp = df_tr_smallest.group.unique()[0]\n",
    "            l_cnd = meann - 0.001\n",
    "            h_cnd = meann + 0.001\n",
    "            df_te_small = df_te_grpp_bm[(df_te_grpp_bm.nid_order>l_cnd)&(df_te_grpp_bm.nid_order<h_cnd)].sort('row')\n",
    "            g = consecutive(df_te_small.row)\n",
    "            te_consec = []\n",
    "            for f in g:\n",
    "                if f.shape[0]>2:\n",
    "                    te_consec.append(f)\n",
    "            minn = []\n",
    "            for j in range(len(te_consec)):\n",
    "                df_te_smallest = df_te_small.ix[te_consec[j].index]\n",
    "                meann_te = df_te_smallest.nid_order.mean()\n",
    "                minn.append(meann_te)\n",
    "            if len(minn)>0:\n",
    "                indd = minn.index(min(minn))\n",
    "                df_te_smallest_final = df_te_small.ix[te_consec[indd].index]\n",
    "                final_te_gender[df_te_smallest_final.index] = gndr\n",
    "                final_te_age[df_te_smallest_final.index] = agee\n",
    "                final_te_grp[df_te_smallest_final.index] = target_grp"
   ]
  },
  {
   "cell_type": "code",
   "execution_count": 260,
   "metadata": {
    "collapsed": false
   },
   "outputs": [
    {
     "data": {
      "text/plain": [
       "3498"
      ]
     },
     "execution_count": 260,
     "metadata": {},
     "output_type": "execute_result"
    }
   ],
   "source": [
    "(final_te_age>0).sum()"
   ]
  },
  {
   "cell_type": "code",
   "execution_count": 285,
   "metadata": {
    "collapsed": false
   },
   "outputs": [],
   "source": [
    "preds = pd.read_csv(os.path.join(datadir,'sub_nn.csv'),\n",
    "                      index_col='device_id')"
   ]
  },
  {
   "cell_type": "code",
   "execution_count": 286,
   "metadata": {
    "collapsed": false
   },
   "outputs": [],
   "source": [
    "final_te = pd.concat([final_te_gender, final_te_age, final_te_grp], axis=1)"
   ]
  },
  {
   "cell_type": "code",
   "execution_count": 287,
   "metadata": {
    "collapsed": true
   },
   "outputs": [],
   "source": [
    "targetencoder = LabelEncoder().fit(gatrain.group)\n",
    "y = targetencoder.transform(gatrain.group)\n",
    "nclasses = len(targetencoder.classes_)"
   ]
  },
  {
   "cell_type": "code",
   "execution_count": 288,
   "metadata": {
    "collapsed": false
   },
   "outputs": [
    {
     "data": {
      "text/plain": [
       "array(['F23-', 'F24-26', 'F27-28', 'F29-32', 'F33-42', 'F43+', 'M22-',\n",
       "       'M23-26', 'M27-28', 'M29-31', 'M32-38', 'M39+'], dtype=object)"
      ]
     },
     "execution_count": 288,
     "metadata": {},
     "output_type": "execute_result"
    }
   ],
   "source": [
    "targetencoder.classes_"
   ]
  },
  {
   "cell_type": "code",
   "execution_count": 289,
   "metadata": {
    "collapsed": false
   },
   "outputs": [],
   "source": [
    "calcs = final_te[final_te[0]!='X']"
   ]
  },
  {
   "cell_type": "code",
   "execution_count": 290,
   "metadata": {
    "collapsed": false
   },
   "outputs": [
    {
     "name": "stderr",
     "output_type": "stream",
     "text": [
      "/home/choudharyk0408/anaconda3/lib/python3.5/site-packages/ipykernel/__main__.py:1: SettingWithCopyWarning: \n",
      "A value is trying to be set on a copy of a slice from a DataFrame\n",
      "\n",
      "See the caveats in the documentation: http://pandas.pydata.org/pandas-docs/stable/indexing.html#indexing-view-versus-copy\n",
      "  if __name__ == '__main__':\n"
     ]
    }
   ],
   "source": [
    "calcs.drop([0,1],axis=1,inplace=True)"
   ]
  },
  {
   "cell_type": "code",
   "execution_count": 291,
   "metadata": {
    "collapsed": false
   },
   "outputs": [],
   "source": [
    "calcs.columns = ['te_group']"
   ]
  },
  {
   "cell_type": "code",
   "execution_count": 292,
   "metadata": {
    "collapsed": false
   },
   "outputs": [
    {
     "data": {
      "text/plain": [
       "(3498, 1)"
      ]
     },
     "execution_count": 292,
     "metadata": {},
     "output_type": "execute_result"
    }
   ],
   "source": [
    "calcs.shape"
   ]
  },
  {
   "cell_type": "code",
   "execution_count": 293,
   "metadata": {
    "collapsed": true
   },
   "outputs": [],
   "source": [
    "aaa = np.zeros((calcs.shape[0],12))"
   ]
  },
  {
   "cell_type": "code",
   "execution_count": 294,
   "metadata": {
    "collapsed": false
   },
   "outputs": [],
   "source": [
    "abb = pd.DataFrame(aaa,index=calcs.index,columns=targetencoder.classes_)"
   ]
  },
  {
   "cell_type": "code",
   "execution_count": 295,
   "metadata": {
    "collapsed": false
   },
   "outputs": [
    {
     "data": {
      "text/plain": [
       "Index(['F23-', 'F24-26', 'F27-28', 'F29-32', 'F33-42', 'F43+', 'M22-',\n",
       "       'M23-26', 'M27-28', 'M29-31', 'M32-38', 'M39+'],\n",
       "      dtype='object')"
      ]
     },
     "execution_count": 295,
     "metadata": {},
     "output_type": "execute_result"
    }
   ],
   "source": [
    "abb.columns"
   ]
  },
  {
   "cell_type": "code",
   "execution_count": 296,
   "metadata": {
    "collapsed": false
   },
   "outputs": [],
   "source": [
    "lst = abb.columns.tolist()"
   ]
  },
  {
   "cell_type": "code",
   "execution_count": 297,
   "metadata": {
    "collapsed": false
   },
   "outputs": [],
   "source": [
    "for grpp in calcs.te_group.unique():\n",
    "    a = calcs.groupby('te_group').get_group(grpp)\n",
    "    b = pd.Series(0.36/11,index=abb.index)\n",
    "    b[a.index] = 0.64\n",
    "    ac = abb.drop([grpp],axis=1)\n",
    "    fin = pd.concat([ac,b],axis=1)\n",
    "    fin = fin.rename(columns = {0:grpp})\n",
    "    abb = fin[lst]"
   ]
  },
  {
   "cell_type": "code",
   "execution_count": 298,
   "metadata": {
    "collapsed": false
   },
   "outputs": [
    {
     "data": {
      "text/html": [
       "<div>\n",
       "<table border=\"1\" class=\"dataframe\">\n",
       "  <thead>\n",
       "    <tr style=\"text-align: right;\">\n",
       "      <th></th>\n",
       "      <th>F23-</th>\n",
       "      <th>F24-26</th>\n",
       "      <th>F27-28</th>\n",
       "      <th>F29-32</th>\n",
       "      <th>F33-42</th>\n",
       "      <th>F43+</th>\n",
       "      <th>M22-</th>\n",
       "      <th>M23-26</th>\n",
       "      <th>M27-28</th>\n",
       "      <th>M29-31</th>\n",
       "      <th>M32-38</th>\n",
       "      <th>M39+</th>\n",
       "    </tr>\n",
       "    <tr>\n",
       "      <th>device_id</th>\n",
       "      <th></th>\n",
       "      <th></th>\n",
       "      <th></th>\n",
       "      <th></th>\n",
       "      <th></th>\n",
       "      <th></th>\n",
       "      <th></th>\n",
       "      <th></th>\n",
       "      <th></th>\n",
       "      <th></th>\n",
       "      <th></th>\n",
       "      <th></th>\n",
       "    </tr>\n",
       "  </thead>\n",
       "  <tbody>\n",
       "    <tr>\n",
       "      <th>-2923586054882771834</th>\n",
       "      <td>0.032727</td>\n",
       "      <td>0.032727</td>\n",
       "      <td>0.032727</td>\n",
       "      <td>0.032727</td>\n",
       "      <td>0.032727</td>\n",
       "      <td>0.032727</td>\n",
       "      <td>0.032727</td>\n",
       "      <td>0.032727</td>\n",
       "      <td>0.032727</td>\n",
       "      <td>0.032727</td>\n",
       "      <td>0.640000</td>\n",
       "      <td>0.032727</td>\n",
       "    </tr>\n",
       "    <tr>\n",
       "      <th>6954091558526049914</th>\n",
       "      <td>0.032727</td>\n",
       "      <td>0.032727</td>\n",
       "      <td>0.032727</td>\n",
       "      <td>0.032727</td>\n",
       "      <td>0.032727</td>\n",
       "      <td>0.032727</td>\n",
       "      <td>0.032727</td>\n",
       "      <td>0.032727</td>\n",
       "      <td>0.032727</td>\n",
       "      <td>0.032727</td>\n",
       "      <td>0.640000</td>\n",
       "      <td>0.032727</td>\n",
       "    </tr>\n",
       "    <tr>\n",
       "      <th>5872285898854951798</th>\n",
       "      <td>0.032727</td>\n",
       "      <td>0.032727</td>\n",
       "      <td>0.032727</td>\n",
       "      <td>0.032727</td>\n",
       "      <td>0.032727</td>\n",
       "      <td>0.032727</td>\n",
       "      <td>0.032727</td>\n",
       "      <td>0.032727</td>\n",
       "      <td>0.032727</td>\n",
       "      <td>0.032727</td>\n",
       "      <td>0.640000</td>\n",
       "      <td>0.032727</td>\n",
       "    </tr>\n",
       "    <tr>\n",
       "      <th>-3593469878585100</th>\n",
       "      <td>0.032727</td>\n",
       "      <td>0.032727</td>\n",
       "      <td>0.032727</td>\n",
       "      <td>0.032727</td>\n",
       "      <td>0.032727</td>\n",
       "      <td>0.032727</td>\n",
       "      <td>0.032727</td>\n",
       "      <td>0.032727</td>\n",
       "      <td>0.032727</td>\n",
       "      <td>0.032727</td>\n",
       "      <td>0.640000</td>\n",
       "      <td>0.032727</td>\n",
       "    </tr>\n",
       "    <tr>\n",
       "      <th>4231882985343693248</th>\n",
       "      <td>0.032727</td>\n",
       "      <td>0.032727</td>\n",
       "      <td>0.032727</td>\n",
       "      <td>0.032727</td>\n",
       "      <td>0.032727</td>\n",
       "      <td>0.032727</td>\n",
       "      <td>0.032727</td>\n",
       "      <td>0.032727</td>\n",
       "      <td>0.640000</td>\n",
       "      <td>0.032727</td>\n",
       "      <td>0.032727</td>\n",
       "      <td>0.032727</td>\n",
       "    </tr>\n",
       "  </tbody>\n",
       "</table>\n",
       "</div>"
      ],
      "text/plain": [
       "                          F23-    F24-26    F27-28    F29-32    F33-42  \\\n",
       "device_id                                                                \n",
       "-2923586054882771834  0.032727  0.032727  0.032727  0.032727  0.032727   \n",
       " 6954091558526049914  0.032727  0.032727  0.032727  0.032727  0.032727   \n",
       " 5872285898854951798  0.032727  0.032727  0.032727  0.032727  0.032727   \n",
       "-3593469878585100     0.032727  0.032727  0.032727  0.032727  0.032727   \n",
       " 4231882985343693248  0.032727  0.032727  0.032727  0.032727  0.032727   \n",
       "\n",
       "                          F43+      M22-    M23-26    M27-28    M29-31  \\\n",
       "device_id                                                                \n",
       "-2923586054882771834  0.032727  0.032727  0.032727  0.032727  0.032727   \n",
       " 6954091558526049914  0.032727  0.032727  0.032727  0.032727  0.032727   \n",
       " 5872285898854951798  0.032727  0.032727  0.032727  0.032727  0.032727   \n",
       "-3593469878585100     0.032727  0.032727  0.032727  0.032727  0.032727   \n",
       " 4231882985343693248  0.032727  0.032727  0.032727  0.640000  0.032727   \n",
       "\n",
       "                        M32-38      M39+  \n",
       "device_id                                 \n",
       "-2923586054882771834  0.640000  0.032727  \n",
       " 6954091558526049914  0.640000  0.032727  \n",
       " 5872285898854951798  0.640000  0.032727  \n",
       "-3593469878585100     0.640000  0.032727  \n",
       " 4231882985343693248  0.032727  0.032727  "
      ]
     },
     "execution_count": 298,
     "metadata": {},
     "output_type": "execute_result"
    }
   ],
   "source": [
    "abb.head()"
   ]
  },
  {
   "cell_type": "code",
   "execution_count": 299,
   "metadata": {
    "collapsed": false
   },
   "outputs": [],
   "source": [
    "ssss = list(set(preds.index)-set(abb.index))"
   ]
  },
  {
   "cell_type": "code",
   "execution_count": 300,
   "metadata": {
    "collapsed": false
   },
   "outputs": [],
   "source": [
    "no_calcs = preds.ix[ssss]"
   ]
  },
  {
   "cell_type": "code",
   "execution_count": 301,
   "metadata": {
    "collapsed": true
   },
   "outputs": [],
   "source": [
    "pred = no_calcs.append(abb)"
   ]
  },
  {
   "cell_type": "code",
   "execution_count": 302,
   "metadata": {
    "collapsed": false
   },
   "outputs": [
    {
     "data": {
      "text/html": [
       "<div>\n",
       "<table border=\"1\" class=\"dataframe\">\n",
       "  <thead>\n",
       "    <tr style=\"text-align: right;\">\n",
       "      <th></th>\n",
       "      <th>F23-</th>\n",
       "      <th>F24-26</th>\n",
       "      <th>F27-28</th>\n",
       "      <th>F29-32</th>\n",
       "      <th>F33-42</th>\n",
       "      <th>F43+</th>\n",
       "      <th>M22-</th>\n",
       "      <th>M23-26</th>\n",
       "      <th>M27-28</th>\n",
       "      <th>M29-31</th>\n",
       "      <th>M32-38</th>\n",
       "      <th>M39+</th>\n",
       "    </tr>\n",
       "    <tr>\n",
       "      <th>device_id</th>\n",
       "      <th></th>\n",
       "      <th></th>\n",
       "      <th></th>\n",
       "      <th></th>\n",
       "      <th></th>\n",
       "      <th></th>\n",
       "      <th></th>\n",
       "      <th></th>\n",
       "      <th></th>\n",
       "      <th></th>\n",
       "      <th></th>\n",
       "      <th></th>\n",
       "    </tr>\n",
       "  </thead>\n",
       "  <tbody>\n",
       "    <tr>\n",
       "      <th>-7249086381035094010</th>\n",
       "      <td>0.085533</td>\n",
       "      <td>0.059336</td>\n",
       "      <td>0.040886</td>\n",
       "      <td>0.057198</td>\n",
       "      <td>0.066309</td>\n",
       "      <td>0.051006</td>\n",
       "      <td>0.139732</td>\n",
       "      <td>0.142341</td>\n",
       "      <td>0.068471</td>\n",
       "      <td>0.087911</td>\n",
       "      <td>0.106545</td>\n",
       "      <td>0.094732</td>\n",
       "    </tr>\n",
       "    <tr>\n",
       "      <th>5421829656841551877</th>\n",
       "      <td>0.021293</td>\n",
       "      <td>0.038490</td>\n",
       "      <td>0.033813</td>\n",
       "      <td>0.048620</td>\n",
       "      <td>0.043741</td>\n",
       "      <td>0.032427</td>\n",
       "      <td>0.066179</td>\n",
       "      <td>0.195513</td>\n",
       "      <td>0.139519</td>\n",
       "      <td>0.159547</td>\n",
       "      <td>0.148544</td>\n",
       "      <td>0.072314</td>\n",
       "    </tr>\n",
       "    <tr>\n",
       "      <th>-5862574739713163254</th>\n",
       "      <td>0.000473</td>\n",
       "      <td>0.003572</td>\n",
       "      <td>0.006406</td>\n",
       "      <td>0.023080</td>\n",
       "      <td>0.034201</td>\n",
       "      <td>0.017633</td>\n",
       "      <td>0.002894</td>\n",
       "      <td>0.044494</td>\n",
       "      <td>0.095608</td>\n",
       "      <td>0.219370</td>\n",
       "      <td>0.429108</td>\n",
       "      <td>0.123160</td>\n",
       "    </tr>\n",
       "    <tr>\n",
       "      <th>3755622189044858888</th>\n",
       "      <td>0.079022</td>\n",
       "      <td>0.064634</td>\n",
       "      <td>0.047576</td>\n",
       "      <td>0.067438</td>\n",
       "      <td>0.077539</td>\n",
       "      <td>0.062125</td>\n",
       "      <td>0.109404</td>\n",
       "      <td>0.127062</td>\n",
       "      <td>0.069683</td>\n",
       "      <td>0.088174</td>\n",
       "      <td>0.109980</td>\n",
       "      <td>0.097363</td>\n",
       "    </tr>\n",
       "    <tr>\n",
       "      <th>-2635910126289027061</th>\n",
       "      <td>0.068133</td>\n",
       "      <td>0.064781</td>\n",
       "      <td>0.044728</td>\n",
       "      <td>0.054448</td>\n",
       "      <td>0.046258</td>\n",
       "      <td>0.032755</td>\n",
       "      <td>0.148570</td>\n",
       "      <td>0.188836</td>\n",
       "      <td>0.095844</td>\n",
       "      <td>0.103673</td>\n",
       "      <td>0.096057</td>\n",
       "      <td>0.055918</td>\n",
       "    </tr>\n",
       "  </tbody>\n",
       "</table>\n",
       "</div>"
      ],
      "text/plain": [
       "                          F23-    F24-26    F27-28    F29-32    F33-42  \\\n",
       "device_id                                                                \n",
       "-7249086381035094010  0.085533  0.059336  0.040886  0.057198  0.066309   \n",
       " 5421829656841551877  0.021293  0.038490  0.033813  0.048620  0.043741   \n",
       "-5862574739713163254  0.000473  0.003572  0.006406  0.023080  0.034201   \n",
       " 3755622189044858888  0.079022  0.064634  0.047576  0.067438  0.077539   \n",
       "-2635910126289027061  0.068133  0.064781  0.044728  0.054448  0.046258   \n",
       "\n",
       "                          F43+      M22-    M23-26    M27-28    M29-31  \\\n",
       "device_id                                                                \n",
       "-7249086381035094010  0.051006  0.139732  0.142341  0.068471  0.087911   \n",
       " 5421829656841551877  0.032427  0.066179  0.195513  0.139519  0.159547   \n",
       "-5862574739713163254  0.017633  0.002894  0.044494  0.095608  0.219370   \n",
       " 3755622189044858888  0.062125  0.109404  0.127062  0.069683  0.088174   \n",
       "-2635910126289027061  0.032755  0.148570  0.188836  0.095844  0.103673   \n",
       "\n",
       "                        M32-38      M39+  \n",
       "device_id                                 \n",
       "-7249086381035094010  0.106545  0.094732  \n",
       " 5421829656841551877  0.148544  0.072314  \n",
       "-5862574739713163254  0.429108  0.123160  \n",
       " 3755622189044858888  0.109980  0.097363  \n",
       "-2635910126289027061  0.096057  0.055918  "
      ]
     },
     "execution_count": 302,
     "metadata": {},
     "output_type": "execute_result"
    }
   ],
   "source": [
    "pred.head()"
   ]
  },
  {
   "cell_type": "code",
   "execution_count": 303,
   "metadata": {
    "collapsed": false
   },
   "outputs": [],
   "source": [
    "pred_fin = pred.reindex(gatest.index)"
   ]
  },
  {
   "cell_type": "code",
   "execution_count": 304,
   "metadata": {
    "collapsed": false
   },
   "outputs": [
    {
     "data": {
      "text/html": [
       "<div>\n",
       "<table border=\"1\" class=\"dataframe\">\n",
       "  <thead>\n",
       "    <tr style=\"text-align: right;\">\n",
       "      <th></th>\n",
       "      <th>F23-</th>\n",
       "      <th>F24-26</th>\n",
       "      <th>F27-28</th>\n",
       "      <th>F29-32</th>\n",
       "      <th>F33-42</th>\n",
       "      <th>F43+</th>\n",
       "      <th>M22-</th>\n",
       "      <th>M23-26</th>\n",
       "      <th>M27-28</th>\n",
       "      <th>M29-31</th>\n",
       "      <th>M32-38</th>\n",
       "      <th>M39+</th>\n",
       "    </tr>\n",
       "    <tr>\n",
       "      <th>device_id</th>\n",
       "      <th></th>\n",
       "      <th></th>\n",
       "      <th></th>\n",
       "      <th></th>\n",
       "      <th></th>\n",
       "      <th></th>\n",
       "      <th></th>\n",
       "      <th></th>\n",
       "      <th></th>\n",
       "      <th></th>\n",
       "      <th></th>\n",
       "      <th></th>\n",
       "    </tr>\n",
       "  </thead>\n",
       "  <tbody>\n",
       "    <tr>\n",
       "      <th>1002079943728939269</th>\n",
       "      <td>0.000085</td>\n",
       "      <td>0.000334</td>\n",
       "      <td>0.000893</td>\n",
       "      <td>0.004595</td>\n",
       "      <td>0.025983</td>\n",
       "      <td>0.055502</td>\n",
       "      <td>0.000651</td>\n",
       "      <td>0.009696</td>\n",
       "      <td>0.012555</td>\n",
       "      <td>0.046925</td>\n",
       "      <td>0.208794</td>\n",
       "      <td>0.633987</td>\n",
       "    </tr>\n",
       "    <tr>\n",
       "      <th>-1547860181818787117</th>\n",
       "      <td>0.002245</td>\n",
       "      <td>0.007434</td>\n",
       "      <td>0.014363</td>\n",
       "      <td>0.043093</td>\n",
       "      <td>0.104500</td>\n",
       "      <td>0.140147</td>\n",
       "      <td>0.002643</td>\n",
       "      <td>0.024815</td>\n",
       "      <td>0.036756</td>\n",
       "      <td>0.080273</td>\n",
       "      <td>0.201748</td>\n",
       "      <td>0.341982</td>\n",
       "    </tr>\n",
       "    <tr>\n",
       "      <th>7374582448058474277</th>\n",
       "      <td>0.011884</td>\n",
       "      <td>0.035730</td>\n",
       "      <td>0.043454</td>\n",
       "      <td>0.118219</td>\n",
       "      <td>0.147204</td>\n",
       "      <td>0.068086</td>\n",
       "      <td>0.008886</td>\n",
       "      <td>0.043222</td>\n",
       "      <td>0.060531</td>\n",
       "      <td>0.117160</td>\n",
       "      <td>0.219570</td>\n",
       "      <td>0.126052</td>\n",
       "    </tr>\n",
       "    <tr>\n",
       "      <th>-6220210354783429585</th>\n",
       "      <td>0.003221</td>\n",
       "      <td>0.007278</td>\n",
       "      <td>0.007807</td>\n",
       "      <td>0.015015</td>\n",
       "      <td>0.026515</td>\n",
       "      <td>0.037776</td>\n",
       "      <td>0.033981</td>\n",
       "      <td>0.162003</td>\n",
       "      <td>0.100991</td>\n",
       "      <td>0.174032</td>\n",
       "      <td>0.233889</td>\n",
       "      <td>0.197494</td>\n",
       "    </tr>\n",
       "    <tr>\n",
       "      <th>-5893464122623104785</th>\n",
       "      <td>0.036345</td>\n",
       "      <td>0.051801</td>\n",
       "      <td>0.044587</td>\n",
       "      <td>0.066842</td>\n",
       "      <td>0.068415</td>\n",
       "      <td>0.053703</td>\n",
       "      <td>0.074669</td>\n",
       "      <td>0.142736</td>\n",
       "      <td>0.097170</td>\n",
       "      <td>0.125785</td>\n",
       "      <td>0.138205</td>\n",
       "      <td>0.099743</td>\n",
       "    </tr>\n",
       "  </tbody>\n",
       "</table>\n",
       "</div>"
      ],
      "text/plain": [
       "                          F23-    F24-26    F27-28    F29-32    F33-42  \\\n",
       "device_id                                                                \n",
       " 1002079943728939269  0.000085  0.000334  0.000893  0.004595  0.025983   \n",
       "-1547860181818787117  0.002245  0.007434  0.014363  0.043093  0.104500   \n",
       " 7374582448058474277  0.011884  0.035730  0.043454  0.118219  0.147204   \n",
       "-6220210354783429585  0.003221  0.007278  0.007807  0.015015  0.026515   \n",
       "-5893464122623104785  0.036345  0.051801  0.044587  0.066842  0.068415   \n",
       "\n",
       "                          F43+      M22-    M23-26    M27-28    M29-31  \\\n",
       "device_id                                                                \n",
       " 1002079943728939269  0.055502  0.000651  0.009696  0.012555  0.046925   \n",
       "-1547860181818787117  0.140147  0.002643  0.024815  0.036756  0.080273   \n",
       " 7374582448058474277  0.068086  0.008886  0.043222  0.060531  0.117160   \n",
       "-6220210354783429585  0.037776  0.033981  0.162003  0.100991  0.174032   \n",
       "-5893464122623104785  0.053703  0.074669  0.142736  0.097170  0.125785   \n",
       "\n",
       "                        M32-38      M39+  \n",
       "device_id                                 \n",
       " 1002079943728939269  0.208794  0.633987  \n",
       "-1547860181818787117  0.201748  0.341982  \n",
       " 7374582448058474277  0.219570  0.126052  \n",
       "-6220210354783429585  0.233889  0.197494  \n",
       "-5893464122623104785  0.138205  0.099743  "
      ]
     },
     "execution_count": 304,
     "metadata": {},
     "output_type": "execute_result"
    }
   ],
   "source": [
    "pred_fin.head()"
   ]
  },
  {
   "cell_type": "code",
   "execution_count": 305,
   "metadata": {
    "collapsed": false
   },
   "outputs": [
    {
     "data": {
      "text/html": [
       "<div>\n",
       "<table border=\"1\" class=\"dataframe\">\n",
       "  <thead>\n",
       "    <tr style=\"text-align: right;\">\n",
       "      <th></th>\n",
       "      <th>row</th>\n",
       "      <th>brand</th>\n",
       "      <th>model</th>\n",
       "      <th>nid_order</th>\n",
       "      <th>to_group_bm</th>\n",
       "    </tr>\n",
       "    <tr>\n",
       "      <th>device_id</th>\n",
       "      <th></th>\n",
       "      <th></th>\n",
       "      <th></th>\n",
       "      <th></th>\n",
       "      <th></th>\n",
       "    </tr>\n",
       "  </thead>\n",
       "  <tbody>\n",
       "    <tr>\n",
       "      <th>1002079943728939269</th>\n",
       "      <td>0</td>\n",
       "      <td>51</td>\n",
       "      <td>857</td>\n",
       "      <td>0.000000</td>\n",
       "      <td>51.857</td>\n",
       "    </tr>\n",
       "    <tr>\n",
       "      <th>-1547860181818787117</th>\n",
       "      <td>1</td>\n",
       "      <td>51</td>\n",
       "      <td>860</td>\n",
       "      <td>0.000009</td>\n",
       "      <td>51.860</td>\n",
       "    </tr>\n",
       "    <tr>\n",
       "      <th>7374582448058474277</th>\n",
       "      <td>2</td>\n",
       "      <td>31</td>\n",
       "      <td>717</td>\n",
       "      <td>0.000018</td>\n",
       "      <td>31.717</td>\n",
       "    </tr>\n",
       "    <tr>\n",
       "      <th>-6220210354783429585</th>\n",
       "      <td>3</td>\n",
       "      <td>31</td>\n",
       "      <td>735</td>\n",
       "      <td>0.000027</td>\n",
       "      <td>31.735</td>\n",
       "    </tr>\n",
       "    <tr>\n",
       "      <th>-5893464122623104785</th>\n",
       "      <td>4</td>\n",
       "      <td>51</td>\n",
       "      <td>843</td>\n",
       "      <td>0.000036</td>\n",
       "      <td>51.843</td>\n",
       "    </tr>\n",
       "  </tbody>\n",
       "</table>\n",
       "</div>"
      ],
      "text/plain": [
       "                      row  brand  model  nid_order to_group_bm\n",
       "device_id                                                     \n",
       " 1002079943728939269    0     51    857   0.000000      51.857\n",
       "-1547860181818787117    1     51    860   0.000009      51.860\n",
       " 7374582448058474277    2     31    717   0.000018      31.717\n",
       "-6220210354783429585    3     31    735   0.000027      31.735\n",
       "-5893464122623104785    4     51    843   0.000036      51.843"
      ]
     },
     "execution_count": 305,
     "metadata": {},
     "output_type": "execute_result"
    }
   ],
   "source": [
    "gatest.head()"
   ]
  },
  {
   "cell_type": "code",
   "execution_count": 306,
   "metadata": {
    "collapsed": true
   },
   "outputs": [],
   "source": [
    "pred_fin.to_csv('sub5.csv',index=True)"
   ]
  },
  {
   "cell_type": "code",
   "execution_count": 307,
   "metadata": {
    "collapsed": false
   },
   "outputs": [
    {
     "name": "stdout",
     "output_type": "stream",
     "text": [
      "  adding: sub5.csv (deflated 56%)\n"
     ]
    }
   ],
   "source": [
    "!zip sub5.zip sub5.csv"
   ]
  },
  {
   "cell_type": "code",
   "execution_count": null,
   "metadata": {
    "collapsed": true
   },
   "outputs": [],
   "source": []
  }
 ],
 "metadata": {
  "anaconda-cloud": {},
  "kernelspec": {
   "display_name": "Python [default]",
   "language": "python",
   "name": "python3"
  },
  "language_info": {
   "codemirror_mode": {
    "name": "ipython",
    "version": 3
   },
   "file_extension": ".py",
   "mimetype": "text/x-python",
   "name": "python",
   "nbconvert_exporter": "python",
   "pygments_lexer": "ipython3",
   "version": "3.5.2"
  }
 },
 "nbformat": 4,
 "nbformat_minor": 1
}
